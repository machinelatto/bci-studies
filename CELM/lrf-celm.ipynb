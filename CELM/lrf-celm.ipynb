{
 "cells": [
  {
   "cell_type": "markdown",
   "metadata": {},
   "source": [
    "# CNN + ELM para classificação"
   ]
  },
  {
   "cell_type": "code",
   "execution_count": 1,
   "metadata": {},
   "outputs": [
    {
     "data": {
      "text/plain": [
       "'NVIDIA GeForce GTX 1650'"
      ]
     },
     "execution_count": 1,
     "metadata": {},
     "output_type": "execute_result"
    }
   ],
   "source": [
    "import torch\n",
    "import torch.nn as nn\n",
    "import torch.optim as optim\n",
    "import torch.nn.functional as F\n",
    "from sklearn.metrics import confusion_matrix, accuracy_score, recall_score, f1_score\n",
    "import numpy as np\n",
    "from torch.utils.data import DataLoader, TensorDataset\n",
    "import scipy\n",
    "\n",
    "torch.cuda.is_available()\n",
    "device = torch.device(\"cuda:0\" if torch.cuda.is_available() else \"cpu\")\n",
    "torch.cuda.get_device_name(0)"
   ]
  },
  {
   "cell_type": "markdown",
   "metadata": {},
   "source": [
    "# Receptive field Conv1d ELM"
   ]
  },
  {
   "cell_type": "code",
   "execution_count": 4,
   "metadata": {},
   "outputs": [],
   "source": [
    "import torch\n",
    "import torch.nn as nn\n",
    "import torch.nn.functional as F\n",
    "from torch.linalg import pinv  # Penrose inverse\n",
    "\n",
    "\n",
    "class CELMModel1d(nn.Module):\n",
    "    def __init__(self, n_channels, n_classes, hidden_layer_size, reg_constant=None):\n",
    "        super(CELMModel1d, self).__init__()\n",
    "\n",
    "        # Camada conv\n",
    "        self.rf8 = nn.Sequential(\n",
    "            nn.Conv1d(n_channels, 32, kernel_size=8),\n",
    "            nn.ReLU(),\n",
    "            nn.MaxPool1d(kernel_size=2),\n",
    "        )\n",
    "        self.rf16 = nn.Sequential(\n",
    "            nn.Conv1d(n_channels, 32, kernel_size=16),\n",
    "            nn.ReLU(),\n",
    "            nn.MaxPool1d(kernel_size=2),\n",
    "        )\n",
    "        self.rf32 = nn.Sequential(\n",
    "            nn.Conv1d(n_channels, 32, kernel_size=32),\n",
    "            nn.ReLU(),\n",
    "            nn.MaxPool1d(kernel_size=2),\n",
    "        )\n",
    "        self.rf64 = nn.Sequential(\n",
    "            nn.Conv1d(n_channels, 32, kernel_size=64),\n",
    "            nn.ReLU(),\n",
    "            nn.MaxPool1d(kernel_size=2),\n",
    "        )\n",
    "\n",
    "        # Set false para evitar treinar\n",
    "        for param in self.rf8.parameters():\n",
    "            param.requires_grad = False\n",
    "        for param in self.rf16.parameters():\n",
    "            param.requires_grad = False\n",
    "        for param in self.rf32.parameters():\n",
    "            param.requires_grad = False\n",
    "        for param in self.rf64.parameters():\n",
    "            param.requires_grad = False\n",
    "\n",
    "        # ELM\n",
    "        self.features_size = 312\n",
    "        self.elm_hidden_layer_size = hidden_layer_size\n",
    "\n",
    "        self.elm_input_weights = nn.Parameter(\n",
    "            torch.empty(\n",
    "                self.features_size, self.elm_hidden_layer_size\n",
    "            ),  # Num de features x Num neuronios da elm\n",
    "            requires_grad=False,\n",
    "        )\n",
    "        self.elm_input_bias = nn.Parameter(\n",
    "            torch.zeros(self.elm_hidden_layer_size),\n",
    "            requires_grad=False,\n",
    "        )\n",
    "        self.elm_activation = nn.Sigmoid()\n",
    "\n",
    "        # Inicia com zerio pois vai preencher no treino\n",
    "        self.elm_output_weights = nn.Parameter(\n",
    "            torch.zeros(self.elm_hidden_layer_size, n_classes), requires_grad=False\n",
    "        )\n",
    "\n",
    "        self._initialize_weights()\n",
    "\n",
    "        self.reg_constant = reg_constant\n",
    "\n",
    "    def _initialize_weights(self):\n",
    "        # Init\n",
    "        for layer in self.cnn:\n",
    "            if isinstance(layer, nn.Conv1d):\n",
    "                nn.init.orthogonal_(\n",
    "                    layer.weight,\n",
    "                )\n",
    "                if layer.bias is not None:\n",
    "                    nn.init.normal_(layer.bias)\n",
    "\n",
    "        # Init input layer\n",
    "        nn.init.orthogonal_(self.elm_input_weights)\n",
    "        nn.init.normal_(self.elm_input_bias)\n",
    "\n",
    "    def forward(self, x):\n",
    "        x = self.cnn(x)\n",
    "        x = x.view(x.size(0), -1)\n",
    "\n",
    "        # ELM hidden layer\n",
    "        H = self.elm_activation(\n",
    "            torch.mm(x, self.elm_input_weights) + self.elm_input_bias\n",
    "        )\n",
    "\n",
    "        # ELM output layer\n",
    "        output = torch.mm(H, self.elm_output_weights)\n",
    "        return F.softmax(output, dim=1)\n",
    "\n",
    "    def train_elm(self, train_loader, n_classes, device=0):\n",
    "        # self.eval()  # Tira do odo de treino para nao treinar as camadas da cnn\n",
    "        H_list, y_list = [], []\n",
    "\n",
    "        with torch.no_grad():\n",
    "            for inputs, labels in train_loader:\n",
    "                inputs, labels = inputs.to(device), labels.to(device)\n",
    "\n",
    "                # Extrai features, flatten e passa pra gpu\n",
    "                # Esse é a entrada x da elm\n",
    "                features = self.cnn(inputs).view(inputs.size(0), -1).to(device)\n",
    "\n",
    "                # Matriz H pra cada vetor de entradas (features)\n",
    "                # o resultado dessa multiplicação de matrizes é um vetor linha\n",
    "                # cada elemento i é h_i(wx + b), onde i o neuronio i da camada profunda\n",
    "                H = self.elm_activation(\n",
    "                    torch.mm(features, self.elm_input_weights) + self.elm_input_bias\n",
    "                )\n",
    "\n",
    "                H_list.append(H)\n",
    "                y_list.append(F.one_hot(labels, num_classes=n_classes).float())\n",
    "\n",
    "        # \"Empilha\" as linhas para montar H e y\n",
    "        H_full = torch.cat(H_list, dim=0)\n",
    "        Y_full = torch.cat(y_list, dim=0)\n",
    "\n",
    "        if self.reg_constant is None:\n",
    "            # https://pytorch.org/docs/stable/generated/torch.linalg.pinv.html\n",
    "            # torch.linalg.lstsq(A, B).solution == pinv(A) @ B\n",
    "            self.elm_output_weights.data = torch.linalg.lstsq(H_full, Y_full).solution\n",
    "        else:\n",
    "            # Regularização\n",
    "            I = torch.eye(H_full.shape[1]).to(device)\n",
    "            H_reg = torch.mm(H_full.t(), H_full) + (I / self.reg_constant)\n",
    "            HY = torch.mm(H_full.t(), Y_full)\n",
    "\n",
    "            # https://pytorch.org/docs/stable/generated/torch.linalg.pinv.html\n",
    "            # torch.linalg.lstsq(A, B).solution == pinv(A) @ B\n",
    "            self.elm_output_weights.data = torch.linalg.lstsq(H_reg, HY).solution"
   ]
  },
  {
   "cell_type": "code",
   "execution_count": 16,
   "metadata": {},
   "outputs": [],
   "source": [
    "from sklearn.metrics import accuracy_score, recall_score, f1_score, confusion_matrix\n",
    "import matplotlib.pyplot as plt\n",
    "import seaborn as sns\n",
    "\n",
    "\n",
    "def plot_confusion_matrix(all_labels, all_preds, class_labels):\n",
    "    # Compute the confusion matrix\n",
    "    cm = confusion_matrix(all_labels, all_preds)\n",
    "    # Create a figure and increase the figure size\n",
    "    plt.figure()\n",
    "    # Create a heatmap using seaborn\n",
    "    sns.heatmap(\n",
    "        cm,\n",
    "        annot=True,\n",
    "        fmt=\".2g\",\n",
    "        cmap=\"Blues\",\n",
    "        xticklabels=class_labels,\n",
    "        yticklabels=class_labels,\n",
    "        square=True,\n",
    "    )\n",
    "    # Set labels and title\n",
    "    plt.xlabel(\"Predicted\", fontsize=14, fontweight=\"bold\")\n",
    "    plt.ylabel(\"True\", fontsize=14, fontweight=\"bold\")\n",
    "    plt.title(\"Confusion Matrix\", fontsize=16, fontweight=\"bold\")\n",
    "    # Increase font size of annotations\n",
    "    plt.tick_params(labelsize=12)\n",
    "    # Adjust layout and display the plot\n",
    "    plt.tight_layout()\n",
    "    plt.show()\n",
    "\n",
    "\n",
    "def evaluate_elm(model, test_loader, device=0):\n",
    "    model.eval()\n",
    "    all_preds, all_labels = [], []\n",
    "\n",
    "    with torch.no_grad():\n",
    "        for inputs, labels in test_loader:\n",
    "            inputs, labels = inputs.to(device), labels.to(device)\n",
    "\n",
    "            outputs = model(inputs)\n",
    "\n",
    "            # Predictions\n",
    "            _, preds = torch.max(outputs, 1)\n",
    "            all_preds.extend(preds.cpu().numpy())\n",
    "            all_labels.extend(labels.cpu().numpy())\n",
    "\n",
    "    # Compute metrics\n",
    "    accuracy = accuracy_score(all_labels, all_preds)\n",
    "    recall = recall_score(all_labels, all_preds, average=\"weighted\")\n",
    "    f1 = f1_score(all_labels, all_preds, average=\"weighted\")\n",
    "    cm = confusion_matrix(all_labels, all_preds)\n",
    "    plot_confusion_matrix(all_labels, all_preds, class_labels=[\"8\", \"10\", \"12\", \"15\"])\n",
    "\n",
    "    print(f\"Test set Accuracy: {accuracy:.4f}\")\n",
    "    print(f\"Recall: {recall:.4f}\")\n",
    "    print(f\"F1 Score: {f1:.4f}\")\n",
    "    print(f\"Confusion Matrix:\\n{cm}\")\n",
    "\n",
    "    return accuracy, recall, f1"
   ]
  },
  {
   "cell_type": "code",
   "execution_count": 7,
   "metadata": {},
   "outputs": [
    {
     "data": {
      "text/plain": [
       "(64, 250, 40, 6, 5)"
      ]
     },
     "execution_count": 7,
     "metadata": {},
     "output_type": "execute_result"
    }
   ],
   "source": [
    "windows = np.load(\n",
    "    \"datasets/sinais_filtrados_6_52_Hz_janelas_1s/S1_passa-banda_6_52_Hz_janelas.npy\"\n",
    ")\n",
    "windows.shape"
   ]
  },
  {
   "cell_type": "code",
   "execution_count": 8,
   "metadata": {},
   "outputs": [
    {
     "name": "stdout",
     "output_type": "stream",
     "text": [
      "(6, 20, 9, 250)\n",
      "(6, 20)\n"
     ]
    }
   ],
   "source": [
    "frequencias_fases = scipy.io.loadmat(\"Freq_Phase.mat\")\n",
    "frequencias = np.round(\n",
    "    frequencias_fases[\"freqs\"], 2\n",
    ")  # Frequências de estimulação, arredondadas\n",
    "fases = frequencias_fases[\"phases\"]  # Fases associadas às frequências\n",
    "\n",
    "freq_selecionadas = np.array([8, 10, 12, 15])  # Frequências de interesse\n",
    "channels = [\n",
    "    47,\n",
    "    53,\n",
    "    54,\n",
    "    55,\n",
    "    56,\n",
    "    57,\n",
    "    60,\n",
    "    61,\n",
    "    62,\n",
    "]  #  Pz, PO5, PO3, POz, PO4, PO6, O1, Oz, O2\n",
    "\n",
    "channel_Oz = 61\n",
    "labels = []\n",
    "signals = []\n",
    "for trial in range(0, 6):\n",
    "    labels_trial = []\n",
    "    signals_trial = []\n",
    "    for idx, freq in enumerate(freq_selecionadas):\n",
    "        for window in range(0, 5):\n",
    "            signal = windows[\n",
    "                channels, :, np.where(frequencias == freq)[1], trial, window\n",
    "            ]\n",
    "            signals_trial.append(signal)\n",
    "            labels_trial.append(idx)\n",
    "    labels.append(labels_trial)\n",
    "    signals.append(signals_trial)\n",
    "\n",
    "signals = np.array(signals)\n",
    "labels = np.array(labels)\n",
    "print(signals.shape)\n",
    "print(labels.shape)"
   ]
  },
  {
   "cell_type": "code",
   "execution_count": 9,
   "metadata": {},
   "outputs": [],
   "source": [
    "reshaped_data = signals.reshape(-1, signals.shape[-1])"
   ]
  },
  {
   "cell_type": "code",
   "execution_count": 10,
   "metadata": {},
   "outputs": [
    {
     "data": {
      "text/plain": [
       "(1080, 250)"
      ]
     },
     "execution_count": 10,
     "metadata": {},
     "output_type": "execute_result"
    }
   ],
   "source": [
    "reshaped_data.shape"
   ]
  },
  {
   "cell_type": "code",
   "execution_count": 11,
   "metadata": {},
   "outputs": [],
   "source": [
    "from sklearn.preprocessing import MinMaxScaler\n",
    "\n",
    "\n",
    "def split_train_test_trials(X, y, test_trial):\n",
    "    y_test = []\n",
    "    y_train = []\n",
    "    X_test = []\n",
    "    X_train = []\n",
    "\n",
    "    X_shape = X.shape\n",
    "    X_reshaped = X.reshape(-1, X.shape[-1])\n",
    "    scaler = MinMaxScaler(feature_range=(0, 1))\n",
    "    X_transformed = scaler.fit_transform(X_reshaped.T).T  # normaliza entre 0 e 1\n",
    "    X_transformed = X_transformed.reshape(X_shape)\n",
    "\n",
    "    for trial in range(0, 6):\n",
    "        if trial == test_trial:\n",
    "            X_test.extend(X_transformed[trial])\n",
    "            y_test.extend(y[trial])\n",
    "        else:\n",
    "            X_train.extend(X_transformed[trial])\n",
    "            y_train.extend(y[trial])\n",
    "    return np.array(X_train), np.array(X_test), np.array(y_train), np.array(y_test)\n",
    "\n",
    "\n",
    "def prepare_data(X, y, test_trial=5, train_batch_size=16, test_batch_size=1):\n",
    "    X_train, X_test, y_train, y_test = split_train_test_trials(X, y, test_trial)\n",
    "    train_data = TensorDataset(\n",
    "        torch.tensor(X_train, dtype=torch.float32).to(device),\n",
    "        torch.tensor(y_train, dtype=torch.long).to(device),\n",
    "    )\n",
    "    test_data = TensorDataset(\n",
    "        torch.tensor(X_test, dtype=torch.float32).to(device),\n",
    "        torch.tensor(y_test, dtype=torch.long).to(device),\n",
    "    )\n",
    "    train_loader = DataLoader(train_data, batch_size=train_batch_size, shuffle=True)\n",
    "    test_loader = DataLoader(test_data, batch_size=test_batch_size, shuffle=True)\n",
    "    return train_loader, test_loader"
   ]
  },
  {
   "cell_type": "code",
   "execution_count": 18,
   "metadata": {},
   "outputs": [
    {
     "data": {
      "image/png": "[encoded data removed]",
      "text/plain": [
       "<Figure size 640x480 with 2 Axes>"
      ]
     },
     "metadata": {},
     "output_type": "display_data"
    },
    {
     "name": "stdout",
     "output_type": "stream",
     "text": [
      "Test set Accuracy: 0.4500\n",
      "Recall: 0.4500\n",
      "F1 Score: 0.4298\n",
      "Confusion Matrix:\n",
      "[[2 0 2 1]\n",
      " [0 1 3 1]\n",
      " [0 0 4 1]\n",
      " [1 1 1 2]]\n"
     ]
    },
    {
     "data": {
      "image/png": "[encoded data removed]",
      "text/plain": [
       "<Figure size 640x480 with 2 Axes>"
      ]
     },
     "metadata": {},
     "output_type": "display_data"
    },
    {
     "name": "stdout",
     "output_type": "stream",
     "text": [
      "Test set Accuracy: 1.0000\n",
      "Recall: 1.0000\n",
      "F1 Score: 1.0000\n",
      "Confusion Matrix:\n",
      "[[25  0  0  0]\n",
      " [ 0 25  0  0]\n",
      " [ 0  0 25  0]\n",
      " [ 0  0  0 25]]\n"
     ]
    },
    {
     "data": {
      "text/plain": [
       "(1.0, 1.0, 1.0)"
      ]
     },
     "execution_count": 18,
     "metadata": {},
     "output_type": "execute_result"
    }
   ],
   "source": [
    "# Initialize model\n",
    "n_channels = 9  # Number of input channels\n",
    "elm_hidden_units = 1000  # Number of ELM hidden units\n",
    "n_classes = 4  # Number of output classes\n",
    "model = CELMModel1d(n_channels, n_classes, elm_hidden_units, None).to(device)\n",
    "\n",
    "train_loader, test_loader = prepare_data(\n",
    "    signals, labels, test_trial=4, train_batch_size=100\n",
    ")\n",
    "\n",
    "# Train ELM output weights\n",
    "model.train_elm(train_loader, n_classes)\n",
    "\n",
    "# Evaluate on test set\n",
    "evaluate_elm(model, test_loader, device=0)\n",
    "evaluate_elm(model, train_loader, device=0)"
   ]
  }
 ],
 "metadata": {
  "kernelspec": {
   "display_name": "base",
   "language": "python",
   "name": "python3"
  },
  "language_info": {
   "codemirror_mode": {
    "name": "ipython",
    "version": 3
   },
   "file_extension": ".py",
   "mimetype": "text/x-python",
   "name": "python",
   "nbconvert_exporter": "python",
   "pygments_lexer": "ipython3",
   "version": "3.11.7"
  }
 },
 "nbformat": 4,
 "nbformat_minor": 2
}
