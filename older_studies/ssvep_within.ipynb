{
  "cells": [
    {
      "cell_type": "code",
      "execution_count": null,
      "metadata": {
        "colab": {
          "base_uri": "https://localhost:8080/"
        },
        "id": "G7dCvST2wn3k",
        "outputId": "4d55068a-d045-403c-f8ee-7460674f52d3"
      },
      "outputs": [
        {
          "name": "stdout",
          "output_type": "stream",
          "text": [
            "Thu Aug 22 22:30:49 2024       \n",
            "+---------------------------------------------------------------------------------------+\n",
            "| NVIDIA-SMI 531.79                 Driver Version: 531.79       CUDA Version: 12.1     |\n",
            "|-----------------------------------------+----------------------+----------------------+\n",
            "| GPU  Name                      TCC/WDDM | Bus-Id        Disp.A | Volatile Uncorr. ECC |\n",
            "| Fan  Temp  Perf            Pwr:Usage/Cap|         Memory-Usage | GPU-Util  Compute M. |\n",
            "|                                         |                      |               MIG M. |\n",
            "|=========================================+======================+======================|\n",
            "|   0  NVIDIA GeForce GTX 1650       WDDM | 00000000:01:00.0 Off |                  N/A |\n",
            "| N/A   50C    P8                3W /  N/A|      0MiB /  4096MiB |      0%      Default |\n",
            "|                                         |                      |                  N/A |\n",
            "+-----------------------------------------+----------------------+----------------------+\n",
            "                                                                                         \n",
            "+---------------------------------------------------------------------------------------+\n",
            "| Processes:                                                                            |\n",
            "|  GPU   GI   CI        PID   Type   Process name                            GPU Memory |\n",
            "|        ID   ID                                                             Usage      |\n",
            "|=======================================================================================|\n",
            "|  No running processes found                                                           |\n",
            "+---------------------------------------------------------------------------------------+\n"
          ]
        }
      ],
      "source": [
        "!nvidia-smi"
      ]
    },
    {
      "cell_type": "code",
      "execution_count": 1,
      "metadata": {
        "id": "vMZVHRPpxIPW"
      },
      "outputs": [
        {
          "name": "stderr",
          "output_type": "stream",
          "text": [
            "<frozen importlib._bootstrap>:241: FutureWarning: mne.io.pick.pick_types is deprecated will be removed in 1.6, use documented public API instead. If no appropriate public API exists, please open an issue on GitHub.\n",
            "<frozen importlib._bootstrap>:241: FutureWarning: mne.io.pick.pick_channels_regexp is deprecated will be removed in 1.6, use documented public API instead. If no appropriate public API exists, please open an issue on GitHub.\n",
            "<frozen importlib._bootstrap>:241: FutureWarning: mne.io.pick.channel_type is deprecated will be removed in 1.6, use documented public API instead. If no appropriate public API exists, please open an issue on GitHub.\n",
            "c:\\Users\\machi\\anaconda3\\Lib\\site-packages\\paramiko\\transport.py:219: CryptographyDeprecationWarning: Blowfish has been deprecated and will be removed in a future release\n",
            "  \"class\": algorithms.Blowfish,\n"
          ]
        },
        {
          "name": "stdout",
          "output_type": "stream",
          "text": [
            "To use the get_shape_from_baseconcar, InputShapeSetterEEG, BraindecodeDatasetLoaderyou need to install `braindecode`.`pip install braindecode` or Please refer to `https://braindecode.org`.\n"
          ]
        },
        {
          "name": "stderr",
          "output_type": "stream",
          "text": [
            "c:\\Users\\machi\\anaconda3\\Lib\\site-packages\\moabb\\pipelines\\__init__.py:26: ModuleNotFoundError: Tensorflow is not installed. You won't be able to use these MOABB pipelines if you attempt to do so.\n",
            "  warn(\n"
          ]
        }
      ],
      "source": [
        "import warnings\n",
        "\n",
        "import matplotlib.pyplot as plt\n",
        "import seaborn as sns\n",
        "from sklearn.pipeline import make_pipeline\n",
        "\n",
        "import moabb\n",
        "from moabb.datasets import Wang2016\n",
        "from moabb.evaluations import WithinSessionEvaluation\n",
        "from moabb.paradigms import SSVEP\n",
        "from moabb.pipelines import SSVEP_CCA\n",
        "\n",
        "\n",
        "warnings.simplefilter(action=\"ignore\", category=FutureWarning)\n",
        "warnings.simplefilter(action=\"ignore\", category=RuntimeWarning)\n",
        "moabb.set_log_level(\"info\")"
      ]
    },
    {
      "cell_type": "code",
      "execution_count": 3,
      "metadata": {
        "id": "D6fxCbnZxKL5"
      },
      "outputs": [],
      "source": [
        "channel = \"Oz\"\n",
        "events = [\"8\", \"15\"]\n",
        "dataset = Wang2016()\n",
        "subj = [1]\n",
        "dataset.subject_list = subj"
      ]
    },
    {
      "cell_type": "code",
      "execution_count": 4,
      "metadata": {
        "colab": {
          "base_uri": "https://localhost:8080/"
        },
        "id": "jkhxPhbqxbW1",
        "outputId": "955709c2-0cd3-4fae-c329-6a51a46c9caa"
      },
      "outputs": [
        {
          "data": {
            "text/plain": [
              "[1]"
            ]
          },
          "execution_count": 4,
          "metadata": {},
          "output_type": "execute_result"
        }
      ],
      "source": [
        "dataset.subject_list"
      ]
    },
    {
      "cell_type": "code",
      "execution_count": 5,
      "metadata": {
        "colab": {
          "base_uri": "https://localhost:8080/"
        },
        "id": "ldYbcKp5ygiJ",
        "outputId": "f34ae9e4-e680-4f1d-8f9c-104761cf8ee3"
      },
      "outputs": [
        {
          "name": "stderr",
          "output_type": "stream",
          "text": [
            "2024-09-05 21:00:29,904 WARNING MainThread moabb.datasets.ssvep_wang Trial data de-meaned and concatenated with a buffer to create continuous data\n"
          ]
        },
        {
          "data": {
            "text/plain": [
              "{1: {'0': {'0': <RawArray | 65 x 384000 (1536.0 s), ~190.5 MB, data loaded>}}}"
            ]
          },
          "execution_count": 5,
          "metadata": {},
          "output_type": "execute_result"
        }
      ],
      "source": [
        "sessions = dataset.get_data()\n",
        "sessions"
      ]
    },
    {
      "cell_type": "code",
      "execution_count": 6,
      "metadata": {
        "colab": {
          "base_uri": "https://localhost:8080/"
        },
        "id": "O0fAL_jW2JsQ",
        "outputId": "e03d42c2-3e8c-4992-8109-4291c46b5674"
      },
      "outputs": [
        {
          "data": {
            "text/plain": [
              "array(['8', '8', '8', '8', '8', '8', '9', '9', '9', '9', '9', '9', '10',\n",
              "       '10', '10', '10', '10', '10', '11', '11', '11', '11', '11', '11',\n",
              "       '12', '12', '12', '12', '12', '12', '13', '13', '13', '13', '13',\n",
              "       '13', '14', '14', '14', '14', '14', '14', '15', '15', '15', '15',\n",
              "       '15', '15', '8.2', '8.2', '8.2', '8.2', '8.2', '8.2', '9.2', '9.2',\n",
              "       '9.2', '9.2', '9.2', '9.2', '10.2', '10.2', '10.2', '10.2', '10.2',\n",
              "       '10.2', '11.2', '11.2', '11.2', '11.2', '11.2', '11.2', '12.2',\n",
              "       '12.2', '12.2', '12.2', '12.2', '12.2', '13.2', '13.2', '13.2',\n",
              "       '13.2', '13.2', '13.2', '14.2', '14.2', '14.2', '14.2', '14.2',\n",
              "       '14.2', '15.2', '15.2', '15.2', '15.2', '15.2', '15.2', '8.4',\n",
              "       '8.4', '8.4', '8.4', '8.4', '8.4', '9.4', '9.4', '9.4', '9.4',\n",
              "       '9.4', '9.4', '10.4', '10.4', '10.4', '10.4', '10.4', '10.4',\n",
              "       '11.4', '11.4', '11.4', '11.4', '11.4', '11.4', '12.4', '12.4',\n",
              "       '12.4', '12.4', '12.4', '12.4', '13.4', '13.4', '13.4', '13.4',\n",
              "       '13.4', '13.4', '14.4', '14.4', '14.4', '14.4', '14.4', '14.4',\n",
              "       '15.4', '15.4', '15.4', '15.4', '15.4', '15.4', '8.6', '8.6',\n",
              "       '8.6', '8.6', '8.6', '8.6', '9.6', '9.6', '9.6', '9.6', '9.6',\n",
              "       '9.6', '10.6', '10.6', '10.6', '10.6', '10.6', '10.6', '11.6',\n",
              "       '11.6', '11.6', '11.6', '11.6', '11.6', '12.6', '12.6', '12.6',\n",
              "       '12.6', '12.6', '12.6', '13.6', '13.6', '13.6', '13.6', '13.6',\n",
              "       '13.6', '14.6', '14.6', '14.6', '14.6', '14.6', '14.6', '15.6',\n",
              "       '15.6', '15.6', '15.6', '15.6', '15.6', '8.8', '8.8', '8.8', '8.8',\n",
              "       '8.8', '8.8', '9.8', '9.8', '9.8', '9.8', '9.8', '9.8', '10.8',\n",
              "       '10.8', '10.8', '10.8', '10.8', '10.8', '11.8', '11.8', '11.8',\n",
              "       '11.8', '11.8', '11.8', '12.8', '12.8', '12.8', '12.8', '12.8',\n",
              "       '12.8', '13.8', '13.8', '13.8', '13.8', '13.8', '13.8', '14.8',\n",
              "       '14.8', '14.8', '14.8', '14.8', '14.8', '15.8', '15.8', '15.8',\n",
              "       '15.8', '15.8', '15.8'], dtype='<U4')"
            ]
          },
          "execution_count": 6,
          "metadata": {},
          "output_type": "execute_result"
        }
      ],
      "source": [
        "sessions[1][\"0\"][\"0\"].annotations.description"
      ]
    },
    {
      "cell_type": "code",
      "execution_count": 10,
      "metadata": {
        "colab": {
          "base_uri": "https://localhost:8080/",
          "height": 331
        },
        "id": "lohX0aY85AEu",
        "outputId": "e5ffb4d3-53c1-4ee2-983d-596303a51c9b"
      },
      "outputs": [
        {
          "ename": "AttributeError",
          "evalue": "'RawArray' object has no attribute 'shape'",
          "output_type": "error",
          "traceback": [
            "\u001b[1;31m---------------------------------------------------------------------------\u001b[0m",
            "\u001b[1;31mAttributeError\u001b[0m                            Traceback (most recent call last)",
            "Cell \u001b[1;32mIn[10], line 1\u001b[0m\n\u001b[1;32m----> 1\u001b[0m sessions[\u001b[38;5;241m1\u001b[39m][\u001b[38;5;124m'\u001b[39m\u001b[38;5;124m0\u001b[39m\u001b[38;5;124m'\u001b[39m][\u001b[38;5;124m'\u001b[39m\u001b[38;5;124m0\u001b[39m\u001b[38;5;124m'\u001b[39m]\u001b[38;5;241m.\u001b[39mshape\n",
            "\u001b[1;31mAttributeError\u001b[0m: 'RawArray' object has no attribute 'shape'"
          ]
        }
      ],
      "source": [
        "sessions[1][\"0\"][\"0\"].shape"
      ]
    },
    {
      "cell_type": "code",
      "execution_count": null,
      "metadata": {},
      "outputs": [],
      "source": []
    },
    {
      "cell_type": "code",
      "execution_count": null,
      "metadata": {
        "id": "azq_yL6v-jFo"
      },
      "outputs": [],
      "source": [
        "subj = [1, 3]\n",
        "dataset = Wang2016()\n",
        "# dataset.subject_list = subj\n",
        "# paradigm = SSVEP(fmin=3, fmax=15, n_classes=3)\n",
        "paradigm = SSVEP(events=events, n_classes=2)\n",
        "interval = dataset.interval\n",
        "freqs = paradigm.used_events(dataset)\n",
        "\n",
        "pipeline = {}\n",
        "pipeline[\"CCA\"] = make_pipeline(\n",
        "    SSVEP_CCA(interval=interval, freqs=freqs, n_harmonics=3)\n",
        ")"
      ]
    },
    {
      "cell_type": "code",
      "execution_count": null,
      "metadata": {
        "colab": {
          "base_uri": "https://localhost:8080/"
        },
        "id": "fbOEVX7Q4wym",
        "outputId": "d40ec2df-0dce-44d8-d607-938571d24381"
      },
      "outputs": [
        {
          "name": "stderr",
          "output_type": "stream",
          "text": [
            "2024-08-22 22:48:12,356 WARNING MainThread moabb.datasets.ssvep_wang Trial data de-meaned and concatenated with a buffer to create continuous data\n",
            "2024-08-22 22:48:15,150 WARNING MainThread moabb.datasets.ssvep_wang Trial data de-meaned and concatenated with a buffer to create continuous data\n",
            "2024-08-22 22:48:17,979 WARNING MainThread moabb.datasets.ssvep_wang Trial data de-meaned and concatenated with a buffer to create continuous data\n",
            "2024-08-22 22:48:20,870 WARNING MainThread moabb.datasets.ssvep_wang Trial data de-meaned and concatenated with a buffer to create continuous data\n",
            "2024-08-22 22:48:23,635 WARNING MainThread moabb.datasets.ssvep_wang Trial data de-meaned and concatenated with a buffer to create continuous data\n",
            "2024-08-22 22:48:26,401 WARNING MainThread moabb.datasets.ssvep_wang Trial data de-meaned and concatenated with a buffer to create continuous data\n",
            "2024-08-22 22:48:29,364 WARNING MainThread moabb.datasets.ssvep_wang Trial data de-meaned and concatenated with a buffer to create continuous data\n",
            "2024-08-22 22:48:32,177 WARNING MainThread moabb.datasets.ssvep_wang Trial data de-meaned and concatenated with a buffer to create continuous data\n",
            "2024-08-22 22:48:35,009 WARNING MainThread moabb.datasets.ssvep_wang Trial data de-meaned and concatenated with a buffer to create continuous data\n",
            "2024-08-22 22:48:37,942 WARNING MainThread moabb.datasets.ssvep_wang Trial data de-meaned and concatenated with a buffer to create continuous data\n",
            "2024-08-22 22:48:40,791 WARNING MainThread moabb.datasets.ssvep_wang Trial data de-meaned and concatenated with a buffer to create continuous data\n",
            "2024-08-22 22:48:43,590 WARNING MainThread moabb.datasets.ssvep_wang Trial data de-meaned and concatenated with a buffer to create continuous data\n",
            "2024-08-22 22:48:46,389 WARNING MainThread moabb.datasets.ssvep_wang Trial data de-meaned and concatenated with a buffer to create continuous data\n",
            "2024-08-22 22:48:49,323 WARNING MainThread moabb.datasets.ssvep_wang Trial data de-meaned and concatenated with a buffer to create continuous data\n",
            "2024-08-22 22:48:52,253 WARNING MainThread moabb.datasets.ssvep_wang Trial data de-meaned and concatenated with a buffer to create continuous data\n",
            "2024-08-22 22:48:55,221 WARNING MainThread moabb.datasets.ssvep_wang Trial data de-meaned and concatenated with a buffer to create continuous data\n",
            "2024-08-22 22:48:58,068 WARNING MainThread moabb.datasets.ssvep_wang Trial data de-meaned and concatenated with a buffer to create continuous data\n",
            "2024-08-22 22:49:00,902 WARNING MainThread moabb.datasets.ssvep_wang Trial data de-meaned and concatenated with a buffer to create continuous data\n",
            "2024-08-22 22:49:03,868 WARNING MainThread moabb.datasets.ssvep_wang Trial data de-meaned and concatenated with a buffer to create continuous data\n",
            "2024-08-22 22:49:06,799 WARNING MainThread moabb.datasets.ssvep_wang Trial data de-meaned and concatenated with a buffer to create continuous data\n",
            "2024-08-22 22:49:09,814 WARNING MainThread moabb.datasets.ssvep_wang Trial data de-meaned and concatenated with a buffer to create continuous data\n",
            "2024-08-22 22:49:12,715 WARNING MainThread moabb.datasets.ssvep_wang Trial data de-meaned and concatenated with a buffer to create continuous data\n",
            "2024-08-22 22:49:16,745 WARNING MainThread moabb.datasets.ssvep_wang Trial data de-meaned and concatenated with a buffer to create continuous data\n",
            "2024-08-22 22:49:20,477 WARNING MainThread moabb.datasets.ssvep_wang Trial data de-meaned and concatenated with a buffer to create continuous data\n",
            "2024-08-22 22:49:23,526 WARNING MainThread moabb.datasets.ssvep_wang Trial data de-meaned and concatenated with a buffer to create continuous data\n",
            "2024-08-22 22:49:26,904 WARNING MainThread moabb.datasets.ssvep_wang Trial data de-meaned and concatenated with a buffer to create continuous data\n",
            "2024-08-22 22:49:29,875 WARNING MainThread moabb.datasets.ssvep_wang Trial data de-meaned and concatenated with a buffer to create continuous data\n",
            "2024-08-22 22:49:32,635 WARNING MainThread moabb.datasets.ssvep_wang Trial data de-meaned and concatenated with a buffer to create continuous data\n",
            "2024-08-22 22:49:35,686 WARNING MainThread moabb.datasets.ssvep_wang Trial data de-meaned and concatenated with a buffer to create continuous data\n",
            "2024-08-22 22:49:38,636 WARNING MainThread moabb.datasets.ssvep_wang Trial data de-meaned and concatenated with a buffer to create continuous data\n",
            "2024-08-22 22:49:42,189 WARNING MainThread moabb.datasets.ssvep_wang Trial data de-meaned and concatenated with a buffer to create continuous data\n",
            "2024-08-22 22:49:45,563 WARNING MainThread moabb.datasets.ssvep_wang Trial data de-meaned and concatenated with a buffer to create continuous data\n",
            "2024-08-22 22:49:48,798 WARNING MainThread moabb.datasets.ssvep_wang Trial data de-meaned and concatenated with a buffer to create continuous data\n",
            "2024-08-22 22:49:52,116 WARNING MainThread moabb.datasets.ssvep_wang Trial data de-meaned and concatenated with a buffer to create continuous data\n"
          ]
        }
      ],
      "source": [
        "X, labels, meta = paradigm.get_data(dataset=dataset)"
      ]
    },
    {
      "cell_type": "code",
      "execution_count": null,
      "metadata": {
        "colab": {
          "base_uri": "https://localhost:8080/"
        },
        "id": "2OiiHIog4zb7",
        "outputId": "e002a880-379f-43b9-d23c-30b0819bc141"
      },
      "outputs": [
        {
          "data": {
            "text/plain": [
              "array(['8', '8', '8', '8', '8', '8', '15', '15', '15', '15', '15', '15',\n",
              "       '8', '8', '8', '8', '8', '8', '15', '15', '15', '15', '15', '15',\n",
              "       '8', '8', '8', '8', '8', '8', '15', '15', '15', '15', '15', '15',\n",
              "       '8', '8', '8', '8', '8', '8', '15', '15', '15', '15', '15', '15',\n",
              "       '8', '8', '8', '8', '8', '8', '15', '15', '15', '15', '15', '15',\n",
              "       '8', '8', '8', '8', '8', '8', '15', '15', '15', '15', '15', '15',\n",
              "       '8', '8', '8', '8', '8', '8', '15', '15', '15', '15', '15', '15',\n",
              "       '8', '8', '8', '8', '8', '8', '15', '15', '15', '15', '15', '15',\n",
              "       '8', '8', '8', '8', '8', '8', '15', '15', '15', '15', '15', '15',\n",
              "       '8', '8', '8', '8', '8', '8', '15', '15', '15', '15', '15', '15',\n",
              "       '8', '8', '8', '8', '8', '8', '15', '15', '15', '15', '15', '15',\n",
              "       '8', '8', '8', '8', '8', '8', '15', '15', '15', '15', '15', '15',\n",
              "       '8', '8', '8', '8', '8', '8', '15', '15', '15', '15', '15', '15',\n",
              "       '8', '8', '8', '8', '8', '8', '15', '15', '15', '15', '15', '15',\n",
              "       '8', '8', '8', '8', '8', '8', '15', '15', '15', '15', '15', '15',\n",
              "       '8', '8', '8', '8', '8', '8', '15', '15', '15', '15', '15', '15',\n",
              "       '8', '8', '8', '8', '8', '8', '15', '15', '15', '15', '15', '15',\n",
              "       '8', '8', '8', '8', '8', '8', '15', '15', '15', '15', '15', '15',\n",
              "       '8', '8', '8', '8', '8', '8', '15', '15', '15', '15', '15', '15',\n",
              "       '8', '8', '8', '8', '8', '8', '15', '15', '15', '15', '15', '15',\n",
              "       '8', '8', '8', '8', '8', '8', '15', '15', '15', '15', '15', '15',\n",
              "       '8', '8', '8', '8', '8', '8', '15', '15', '15', '15', '15', '15',\n",
              "       '8', '8', '8', '8', '8', '8', '15', '15', '15', '15', '15', '15',\n",
              "       '8', '8', '8', '8', '8', '8', '15', '15', '15', '15', '15', '15',\n",
              "       '8', '8', '8', '8', '8', '8', '15', '15', '15', '15', '15', '15',\n",
              "       '8', '8', '8', '8', '8', '8', '15', '15', '15', '15', '15', '15',\n",
              "       '8', '8', '8', '8', '8', '8', '15', '15', '15', '15', '15', '15',\n",
              "       '8', '8', '8', '8', '8', '8', '15', '15', '15', '15', '15', '15',\n",
              "       '8', '8', '8', '8', '8', '8', '15', '15', '15', '15', '15', '15',\n",
              "       '8', '8', '8', '8', '8', '8', '15', '15', '15', '15', '15', '15',\n",
              "       '8', '8', '8', '8', '8', '8', '15', '15', '15', '15', '15', '15',\n",
              "       '8', '8', '8', '8', '8', '8', '15', '15', '15', '15', '15', '15',\n",
              "       '8', '8', '8', '8', '8', '8', '15', '15', '15', '15', '15', '15',\n",
              "       '8', '8', '8', '8', '8', '8', '15', '15', '15', '15', '15', '15'],\n",
              "      dtype='<U2')"
            ]
          },
          "execution_count": 168,
          "metadata": {},
          "output_type": "execute_result"
        }
      ],
      "source": [
        "labels"
      ]
    },
    {
      "cell_type": "code",
      "execution_count": null,
      "metadata": {
        "colab": {
          "base_uri": "https://localhost:8080/"
        },
        "id": "CXHYDKCf-d4x",
        "outputId": "c6aa9162-50e4-406d-8e75-fa8a9e0c5f95"
      },
      "outputs": [
        {
          "name": "stderr",
          "output_type": "stream",
          "text": [
            "2024-08-22 22:44:31,608 INFO MainThread moabb.evaluations.base Processing dataset: Wang2016\n",
            "Wang2016-WithinSession:   0%|                                                                   | 0/34 [00:00<?, ?it/s]2024-08-22 22:44:33,572 WARNING MainThread moabb.datasets.ssvep_wang Trial data de-meaned and concatenated with a buffer to create continuous data\n"
          ]
        },
        {
          "name": "stdout",
          "output_type": "stream",
          "text": [
            "No hdf5_path provided, models will not be saved.\n"
          ]
        },
        {
          "name": "stderr",
          "output_type": "stream",
          "text": [
            "2024-08-22 22:44:36,242 INFO MainThread moabb.evaluations.base CCA | Wang2016 | 1 | 0: Score 0.000\n",
            "Wang2016-WithinSession:   3%|█▋                                                         | 1/34 [00:04<02:43,  4.95s/it]2024-08-22 22:44:38,872 WARNING MainThread moabb.datasets.ssvep_wang Trial data de-meaned and concatenated with a buffer to create continuous data\n"
          ]
        },
        {
          "name": "stdout",
          "output_type": "stream",
          "text": [
            "No hdf5_path provided, models will not be saved.\n"
          ]
        },
        {
          "name": "stderr",
          "output_type": "stream",
          "text": [
            "2024-08-22 22:44:41,118 INFO MainThread moabb.evaluations.base CCA | Wang2016 | 2 | 0: Score 0.000\n",
            "Wang2016-WithinSession:   6%|███▍                                                       | 2/34 [00:09<02:35,  4.86s/it]2024-08-22 22:44:43,096 WARNING MainThread moabb.datasets.ssvep_wang Trial data de-meaned and concatenated with a buffer to create continuous data\n"
          ]
        },
        {
          "name": "stdout",
          "output_type": "stream",
          "text": [
            "No hdf5_path provided, models will not be saved.\n"
          ]
        },
        {
          "name": "stderr",
          "output_type": "stream",
          "text": [
            "2024-08-22 22:44:45,185 INFO MainThread moabb.evaluations.base CCA | Wang2016 | 3 | 0: Score 0.000\n",
            "Wang2016-WithinSession:   9%|█████▏                                                     | 3/34 [00:13<02:19,  4.50s/it]2024-08-22 22:44:47,287 WARNING MainThread moabb.datasets.ssvep_wang Trial data de-meaned and concatenated with a buffer to create continuous data\n"
          ]
        },
        {
          "name": "stdout",
          "output_type": "stream",
          "text": [
            "No hdf5_path provided, models will not be saved.\n"
          ]
        },
        {
          "name": "stderr",
          "output_type": "stream",
          "text": [
            "2024-08-22 22:44:49,241 INFO MainThread moabb.evaluations.base CCA | Wang2016 | 4 | 0: Score 0.000\n",
            "Wang2016-WithinSession:  12%|██████▉                                                    | 4/34 [00:17<02:09,  4.32s/it]2024-08-22 22:44:51,170 WARNING MainThread moabb.datasets.ssvep_wang Trial data de-meaned and concatenated with a buffer to create continuous data\n"
          ]
        },
        {
          "name": "stdout",
          "output_type": "stream",
          "text": [
            "No hdf5_path provided, models will not be saved.\n"
          ]
        },
        {
          "name": "stderr",
          "output_type": "stream",
          "text": [
            "2024-08-22 22:44:53,149 INFO MainThread moabb.evaluations.base CCA | Wang2016 | 5 | 0: Score 0.000\n",
            "Wang2016-WithinSession:  15%|████████▋                                                  | 5/34 [00:21<02:01,  4.18s/it]2024-08-22 22:44:55,250 WARNING MainThread moabb.datasets.ssvep_wang Trial data de-meaned and concatenated with a buffer to create continuous data\n"
          ]
        },
        {
          "name": "stdout",
          "output_type": "stream",
          "text": [
            "No hdf5_path provided, models will not be saved.\n"
          ]
        },
        {
          "name": "stderr",
          "output_type": "stream",
          "text": [
            "2024-08-22 22:44:57,051 INFO MainThread moabb.evaluations.base CCA | Wang2016 | 6 | 0: Score 0.000\n",
            "Wang2016-WithinSession:  18%|██████████▍                                                | 6/34 [00:25<01:53,  4.07s/it]2024-08-22 22:44:59,038 WARNING MainThread moabb.datasets.ssvep_wang Trial data de-meaned and concatenated with a buffer to create continuous data\n"
          ]
        },
        {
          "name": "stdout",
          "output_type": "stream",
          "text": [
            "No hdf5_path provided, models will not be saved.\n"
          ]
        },
        {
          "name": "stderr",
          "output_type": "stream",
          "text": [
            "2024-08-22 22:45:00,743 INFO MainThread moabb.evaluations.base CCA | Wang2016 | 7 | 0: Score 0.000\n",
            "Wang2016-WithinSession:  21%|████████████▏                                              | 7/34 [00:29<01:46,  3.96s/it]2024-08-22 22:45:02,898 WARNING MainThread moabb.datasets.ssvep_wang Trial data de-meaned and concatenated with a buffer to create continuous data\n"
          ]
        },
        {
          "name": "stdout",
          "output_type": "stream",
          "text": [
            "No hdf5_path provided, models will not be saved.\n"
          ]
        },
        {
          "name": "stderr",
          "output_type": "stream",
          "text": [
            "2024-08-22 22:45:04,773 INFO MainThread moabb.evaluations.base CCA | Wang2016 | 8 | 0: Score 0.000\n",
            "Wang2016-WithinSession:  24%|█████████████▉                                             | 8/34 [00:33<01:43,  3.99s/it]2024-08-22 22:45:06,886 WARNING MainThread moabb.datasets.ssvep_wang Trial data de-meaned and concatenated with a buffer to create continuous data\n"
          ]
        },
        {
          "name": "stdout",
          "output_type": "stream",
          "text": [
            "No hdf5_path provided, models will not be saved.\n"
          ]
        },
        {
          "name": "stderr",
          "output_type": "stream",
          "text": [
            "2024-08-22 22:45:08,608 INFO MainThread moabb.evaluations.base CCA | Wang2016 | 9 | 0: Score 0.050\n",
            "Wang2016-WithinSession:  26%|███████████████▌                                           | 9/34 [00:37<01:37,  3.92s/it]2024-08-22 22:45:10,510 WARNING MainThread moabb.datasets.ssvep_wang Trial data de-meaned and concatenated with a buffer to create continuous data\n"
          ]
        },
        {
          "name": "stdout",
          "output_type": "stream",
          "text": [
            "No hdf5_path provided, models will not be saved.\n"
          ]
        },
        {
          "name": "stderr",
          "output_type": "stream",
          "text": [
            "2024-08-22 22:45:12,196 INFO MainThread moabb.evaluations.base CCA | Wang2016 | 10 | 0: Score 0.000\n",
            "Wang2016-WithinSession:  29%|█████████████████                                         | 10/34 [00:40<01:31,  3.81s/it]2024-08-22 22:45:14,120 WARNING MainThread moabb.datasets.ssvep_wang Trial data de-meaned and concatenated with a buffer to create continuous data\n"
          ]
        },
        {
          "name": "stdout",
          "output_type": "stream",
          "text": [
            "No hdf5_path provided, models will not be saved.\n"
          ]
        },
        {
          "name": "stderr",
          "output_type": "stream",
          "text": [
            "2024-08-22 22:45:15,750 INFO MainThread moabb.evaluations.base CCA | Wang2016 | 11 | 0: Score 0.000\n",
            "Wang2016-WithinSession:  32%|██████████████████▊                                       | 11/34 [00:44<01:26,  3.76s/it]2024-08-22 22:45:17,722 WARNING MainThread moabb.datasets.ssvep_wang Trial data de-meaned and concatenated with a buffer to create continuous data\n"
          ]
        },
        {
          "name": "stdout",
          "output_type": "stream",
          "text": [
            "No hdf5_path provided, models will not be saved.\n"
          ]
        },
        {
          "name": "stderr",
          "output_type": "stream",
          "text": [
            "2024-08-22 22:45:19,460 INFO MainThread moabb.evaluations.base CCA | Wang2016 | 12 | 0: Score 0.000\n",
            "Wang2016-WithinSession:  35%|████████████████████▍                                     | 12/34 [00:48<01:21,  3.72s/it]2024-08-22 22:45:21,363 WARNING MainThread moabb.datasets.ssvep_wang Trial data de-meaned and concatenated with a buffer to create continuous data\n"
          ]
        },
        {
          "name": "stdout",
          "output_type": "stream",
          "text": [
            "No hdf5_path provided, models will not be saved.\n"
          ]
        },
        {
          "name": "stderr",
          "output_type": "stream",
          "text": [
            "2024-08-22 22:45:23,179 INFO MainThread moabb.evaluations.base CCA | Wang2016 | 13 | 0: Score 0.000\n",
            "Wang2016-WithinSession:  38%|██████████████████████▏                                   | 13/34 [00:51<01:18,  3.72s/it]2024-08-22 22:45:25,077 WARNING MainThread moabb.datasets.ssvep_wang Trial data de-meaned and concatenated with a buffer to create continuous data\n"
          ]
        },
        {
          "name": "stdout",
          "output_type": "stream",
          "text": [
            "No hdf5_path provided, models will not be saved.\n"
          ]
        },
        {
          "name": "stderr",
          "output_type": "stream",
          "text": [
            "2024-08-22 22:45:26,708 INFO MainThread moabb.evaluations.base CCA | Wang2016 | 14 | 0: Score 0.000\n",
            "Wang2016-WithinSession:  41%|███████████████████████▉                                  | 14/34 [00:55<01:13,  3.67s/it]2024-08-22 22:45:28,662 WARNING MainThread moabb.datasets.ssvep_wang Trial data de-meaned and concatenated with a buffer to create continuous data\n"
          ]
        },
        {
          "name": "stdout",
          "output_type": "stream",
          "text": [
            "No hdf5_path provided, models will not be saved.\n"
          ]
        },
        {
          "name": "stderr",
          "output_type": "stream",
          "text": [
            "2024-08-22 22:45:30,366 INFO MainThread moabb.evaluations.base CCA | Wang2016 | 15 | 0: Score 0.000\n",
            "Wang2016-WithinSession:  44%|█████████████████████████▌                                | 15/34 [00:58<01:09,  3.65s/it]2024-08-22 22:45:32,207 WARNING MainThread moabb.datasets.ssvep_wang Trial data de-meaned and concatenated with a buffer to create continuous data\n"
          ]
        },
        {
          "name": "stdout",
          "output_type": "stream",
          "text": [
            "No hdf5_path provided, models will not be saved.\n"
          ]
        },
        {
          "name": "stderr",
          "output_type": "stream",
          "text": [
            "2024-08-22 22:45:33,926 INFO MainThread moabb.evaluations.base CCA | Wang2016 | 16 | 0: Score 0.000\n",
            "Wang2016-WithinSession:  47%|███████████████████████████▎                              | 16/34 [01:02<01:05,  3.63s/it]2024-08-22 22:45:35,797 WARNING MainThread moabb.datasets.ssvep_wang Trial data de-meaned and concatenated with a buffer to create continuous data\n"
          ]
        },
        {
          "name": "stdout",
          "output_type": "stream",
          "text": [
            "No hdf5_path provided, models will not be saved.\n"
          ]
        },
        {
          "name": "stderr",
          "output_type": "stream",
          "text": [
            "2024-08-22 22:45:37,388 INFO MainThread moabb.evaluations.base CCA | Wang2016 | 17 | 0: Score 0.000\n",
            "Wang2016-WithinSession:  50%|█████████████████████████████                             | 17/34 [01:06<01:01,  3.59s/it]2024-08-22 22:45:39,311 WARNING MainThread moabb.datasets.ssvep_wang Trial data de-meaned and concatenated with a buffer to create continuous data\n"
          ]
        },
        {
          "name": "stdout",
          "output_type": "stream",
          "text": [
            "No hdf5_path provided, models will not be saved.\n"
          ]
        },
        {
          "name": "stderr",
          "output_type": "stream",
          "text": [
            "2024-08-22 22:45:40,975 INFO MainThread moabb.evaluations.base CCA | Wang2016 | 18 | 0: Score 0.000\n",
            "Wang2016-WithinSession:  53%|██████████████████████████████▋                           | 18/34 [01:09<00:57,  3.59s/it]2024-08-22 22:45:42,914 WARNING MainThread moabb.datasets.ssvep_wang Trial data de-meaned and concatenated with a buffer to create continuous data\n"
          ]
        },
        {
          "name": "stdout",
          "output_type": "stream",
          "text": [
            "No hdf5_path provided, models will not be saved.\n"
          ]
        },
        {
          "name": "stderr",
          "output_type": "stream",
          "text": [
            "2024-08-22 22:45:44,591 INFO MainThread moabb.evaluations.base CCA | Wang2016 | 19 | 0: Score 0.080\n",
            "Wang2016-WithinSession:  56%|████████████████████████████████▍                         | 19/34 [01:13<00:53,  3.58s/it]2024-08-22 22:45:46,431 WARNING MainThread moabb.datasets.ssvep_wang Trial data de-meaned and concatenated with a buffer to create continuous data\n"
          ]
        },
        {
          "name": "stdout",
          "output_type": "stream",
          "text": [
            "No hdf5_path provided, models will not be saved.\n"
          ]
        },
        {
          "name": "stderr",
          "output_type": "stream",
          "text": [
            "2024-08-22 22:45:48,148 INFO MainThread moabb.evaluations.base CCA | Wang2016 | 20 | 0: Score 0.000\n",
            "Wang2016-WithinSession:  59%|██████████████████████████████████                        | 20/34 [01:16<00:50,  3.59s/it]2024-08-22 22:45:50,199 WARNING MainThread moabb.datasets.ssvep_wang Trial data de-meaned and concatenated with a buffer to create continuous data\n"
          ]
        },
        {
          "name": "stdout",
          "output_type": "stream",
          "text": [
            "No hdf5_path provided, models will not be saved.\n"
          ]
        },
        {
          "name": "stderr",
          "output_type": "stream",
          "text": [
            "2024-08-22 22:45:51,819 INFO MainThread moabb.evaluations.base CCA | Wang2016 | 21 | 0: Score 0.000\n",
            "Wang2016-WithinSession:  62%|███████████████████████████████████▊                      | 21/34 [01:20<00:46,  3.61s/it]2024-08-22 22:45:53,816 WARNING MainThread moabb.datasets.ssvep_wang Trial data de-meaned and concatenated with a buffer to create continuous data\n"
          ]
        },
        {
          "name": "stdout",
          "output_type": "stream",
          "text": [
            "No hdf5_path provided, models will not be saved.\n"
          ]
        },
        {
          "name": "stderr",
          "output_type": "stream",
          "text": [
            "2024-08-22 22:45:55,570 INFO MainThread moabb.evaluations.base CCA | Wang2016 | 22 | 0: Score 0.000\n",
            "Wang2016-WithinSession:  65%|█████████████████████████████████████▌                    | 22/34 [01:24<00:43,  3.66s/it]2024-08-22 22:45:57,752 WARNING MainThread moabb.datasets.ssvep_wang Trial data de-meaned and concatenated with a buffer to create continuous data\n"
          ]
        },
        {
          "name": "stdout",
          "output_type": "stream",
          "text": [
            "No hdf5_path provided, models will not be saved.\n"
          ]
        },
        {
          "name": "stderr",
          "output_type": "stream",
          "text": [
            "2024-08-22 22:45:59,461 INFO MainThread moabb.evaluations.base CCA | Wang2016 | 23 | 0: Score 0.040\n",
            "Wang2016-WithinSession:  68%|███████████████████████████████████████▏                  | 23/34 [01:28<00:40,  3.73s/it]2024-08-22 22:46:01,519 WARNING MainThread moabb.datasets.ssvep_wang Trial data de-meaned and concatenated with a buffer to create continuous data\n"
          ]
        },
        {
          "name": "stdout",
          "output_type": "stream",
          "text": [
            "No hdf5_path provided, models will not be saved.\n"
          ]
        },
        {
          "name": "stderr",
          "output_type": "stream",
          "text": [
            "2024-08-22 22:46:03,052 INFO MainThread moabb.evaluations.base CCA | Wang2016 | 24 | 0: Score 0.000\n",
            "Wang2016-WithinSession:  71%|████████████████████████████████████████▉                 | 24/34 [01:31<00:36,  3.68s/it]2024-08-22 22:46:05,134 WARNING MainThread moabb.datasets.ssvep_wang Trial data de-meaned and concatenated with a buffer to create continuous data\n"
          ]
        },
        {
          "name": "stdout",
          "output_type": "stream",
          "text": [
            "No hdf5_path provided, models will not be saved.\n"
          ]
        },
        {
          "name": "stderr",
          "output_type": "stream",
          "text": [
            "2024-08-22 22:46:07,098 INFO MainThread moabb.evaluations.base CCA | Wang2016 | 25 | 0: Score 0.000\n",
            "Wang2016-WithinSession:  74%|██████████████████████████████████████████▋               | 25/34 [01:35<00:34,  3.80s/it]2024-08-22 22:46:09,263 WARNING MainThread moabb.datasets.ssvep_wang Trial data de-meaned and concatenated with a buffer to create continuous data\n"
          ]
        },
        {
          "name": "stdout",
          "output_type": "stream",
          "text": [
            "No hdf5_path provided, models will not be saved.\n"
          ]
        },
        {
          "name": "stderr",
          "output_type": "stream",
          "text": [
            "2024-08-22 22:46:11,722 INFO MainThread moabb.evaluations.base CCA | Wang2016 | 26 | 0: Score 0.000\n",
            "Wang2016-WithinSession:  76%|████████████████████████████████████████████▎             | 26/34 [01:40<00:32,  4.07s/it]2024-08-22 22:46:14,593 WARNING MainThread moabb.datasets.ssvep_wang Trial data de-meaned and concatenated with a buffer to create continuous data\n"
          ]
        },
        {
          "name": "stdout",
          "output_type": "stream",
          "text": [
            "No hdf5_path provided, models will not be saved.\n"
          ]
        },
        {
          "name": "stderr",
          "output_type": "stream",
          "text": [
            "2024-08-22 22:46:16,860 INFO MainThread moabb.evaluations.base CCA | Wang2016 | 27 | 0: Score 0.000\n",
            "Wang2016-WithinSession:  79%|██████████████████████████████████████████████            | 27/34 [01:45<00:30,  4.37s/it]2024-08-22 22:46:19,277 WARNING MainThread moabb.datasets.ssvep_wang Trial data de-meaned and concatenated with a buffer to create continuous data\n"
          ]
        },
        {
          "name": "stdout",
          "output_type": "stream",
          "text": [
            "No hdf5_path provided, models will not be saved.\n"
          ]
        },
        {
          "name": "stderr",
          "output_type": "stream",
          "text": [
            "2024-08-22 22:46:21,040 INFO MainThread moabb.evaluations.base CCA | Wang2016 | 28 | 0: Score 0.000\n",
            "Wang2016-WithinSession:  82%|███████████████████████████████████████████████▊          | 28/34 [01:49<00:25,  4.31s/it]2024-08-22 22:46:23,457 WARNING MainThread moabb.datasets.ssvep_wang Trial data de-meaned and concatenated with a buffer to create continuous data\n"
          ]
        },
        {
          "name": "stdout",
          "output_type": "stream",
          "text": [
            "No hdf5_path provided, models will not be saved.\n"
          ]
        },
        {
          "name": "stderr",
          "output_type": "stream",
          "text": [
            "2024-08-22 22:46:25,387 INFO MainThread moabb.evaluations.base CCA | Wang2016 | 29 | 0: Score 0.000\n",
            "Wang2016-WithinSession:  85%|█████████████████████████████████████████████████▍        | 29/34 [01:54<00:21,  4.32s/it]2024-08-22 22:46:27,491 WARNING MainThread moabb.datasets.ssvep_wang Trial data de-meaned and concatenated with a buffer to create continuous data\n"
          ]
        },
        {
          "name": "stdout",
          "output_type": "stream",
          "text": [
            "No hdf5_path provided, models will not be saved.\n"
          ]
        },
        {
          "name": "stderr",
          "output_type": "stream",
          "text": [
            "2024-08-22 22:46:29,401 INFO MainThread moabb.evaluations.base CCA | Wang2016 | 30 | 0: Score 0.000\n",
            "Wang2016-WithinSession:  88%|███████████████████████████████████████████████████▏      | 30/34 [01:58<00:16,  4.23s/it]2024-08-22 22:46:31,535 WARNING MainThread moabb.datasets.ssvep_wang Trial data de-meaned and concatenated with a buffer to create continuous data\n"
          ]
        },
        {
          "name": "stdout",
          "output_type": "stream",
          "text": [
            "No hdf5_path provided, models will not be saved.\n"
          ]
        },
        {
          "name": "stderr",
          "output_type": "stream",
          "text": [
            "2024-08-22 22:46:33,326 INFO MainThread moabb.evaluations.base CCA | Wang2016 | 31 | 0: Score 0.000\n",
            "Wang2016-WithinSession:  91%|████████████████████████████████████████████████████▉     | 31/34 [02:01<00:12,  4.14s/it]2024-08-22 22:46:35,343 WARNING MainThread moabb.datasets.ssvep_wang Trial data de-meaned and concatenated with a buffer to create continuous data\n"
          ]
        },
        {
          "name": "stdout",
          "output_type": "stream",
          "text": [
            "No hdf5_path provided, models will not be saved.\n"
          ]
        },
        {
          "name": "stderr",
          "output_type": "stream",
          "text": [
            "2024-08-22 22:46:37,109 INFO MainThread moabb.evaluations.base CCA | Wang2016 | 32 | 0: Score 0.000\n",
            "Wang2016-WithinSession:  94%|██████████████████████████████████████████████████████▌   | 32/34 [02:05<00:08,  4.02s/it]2024-08-22 22:46:39,294 WARNING MainThread moabb.datasets.ssvep_wang Trial data de-meaned and concatenated with a buffer to create continuous data\n"
          ]
        },
        {
          "name": "stdout",
          "output_type": "stream",
          "text": [
            "No hdf5_path provided, models will not be saved.\n"
          ]
        },
        {
          "name": "stderr",
          "output_type": "stream",
          "text": [
            "2024-08-22 22:46:40,989 INFO MainThread moabb.evaluations.base CCA | Wang2016 | 33 | 0: Score 0.080\n",
            "Wang2016-WithinSession:  97%|████████████████████████████████████████████████████████▎ | 33/34 [02:09<00:03,  3.97s/it]2024-08-22 22:46:42,956 WARNING MainThread moabb.datasets.ssvep_wang Trial data de-meaned and concatenated with a buffer to create continuous data\n"
          ]
        },
        {
          "name": "stdout",
          "output_type": "stream",
          "text": [
            "No hdf5_path provided, models will not be saved.\n"
          ]
        },
        {
          "name": "stderr",
          "output_type": "stream",
          "text": [
            "2024-08-22 22:46:44,516 INFO MainThread moabb.evaluations.base CCA | Wang2016 | 34 | 0: Score 0.000\n",
            "Wang2016-WithinSession: 100%|██████████████████████████████████████████████████████████| 34/34 [02:13<00:00,  3.92s/it]"
          ]
        },
        {
          "name": "stdout",
          "output_type": "stream",
          "text": [
            "   score      time  samples subject session  channels  n_sessions   dataset  \\\n",
            "0    0.0  0.253852     24.0       1       0        62           1  Wang2016   \n",
            "1    0.0  0.205688     24.0       2       0        62           1  Wang2016   \n",
            "2    0.0  0.179278     24.0       3       0        62           1  Wang2016   \n",
            "3    0.0  0.151099     24.0       4       0        62           1  Wang2016   \n",
            "4    0.0  0.169144     24.0       5       0        62           1  Wang2016   \n",
            "\n",
            "  pipeline  \n",
            "0      CCA  \n",
            "1      CCA  \n",
            "2      CCA  \n",
            "3      CCA  \n",
            "4      CCA  \n"
          ]
        },
        {
          "name": "stderr",
          "output_type": "stream",
          "text": [
            "\n"
          ]
        }
      ],
      "source": [
        "overwrite = True  # set to True if we want to overwrite cached results\n",
        "\n",
        "evaluation = WithinSessionEvaluation(\n",
        "    paradigm=paradigm, datasets=dataset, suffix=\"examples\", overwrite=overwrite\n",
        ")\n",
        "results = evaluation.process(pipeline)\n",
        "\n",
        "print(results.head())"
      ]
    },
    {
      "cell_type": "code",
      "execution_count": null,
      "metadata": {
        "colab": {
          "base_uri": "https://localhost:8080/",
          "height": 1000
        },
        "id": "MySctx46A0eU",
        "outputId": "aeba6e5e-b41c-4f3a-ce58-757f54628a41"
      },
      "outputs": [
        {
          "data": {
            "text/html": [
              "<div>\n",
              "<style scoped>\n",
              "    .dataframe tbody tr th:only-of-type {\n",
              "        vertical-align: middle;\n",
              "    }\n",
              "\n",
              "    .dataframe tbody tr th {\n",
              "        vertical-align: top;\n",
              "    }\n",
              "\n",
              "    .dataframe thead th {\n",
              "        text-align: right;\n",
              "    }\n",
              "</style>\n",
              "<table border=\"1\" class=\"dataframe\">\n",
              "  <thead>\n",
              "    <tr style=\"text-align: right;\">\n",
              "      <th></th>\n",
              "      <th>score</th>\n",
              "      <th>time</th>\n",
              "      <th>samples</th>\n",
              "      <th>subject</th>\n",
              "      <th>session</th>\n",
              "      <th>channels</th>\n",
              "      <th>n_sessions</th>\n",
              "      <th>dataset</th>\n",
              "      <th>pipeline</th>\n",
              "    </tr>\n",
              "  </thead>\n",
              "  <tbody>\n",
              "    <tr>\n",
              "      <th>0</th>\n",
              "      <td>0.00</td>\n",
              "      <td>0.253852</td>\n",
              "      <td>24.0</td>\n",
              "      <td>1</td>\n",
              "      <td>0</td>\n",
              "      <td>62</td>\n",
              "      <td>1</td>\n",
              "      <td>Wang2016</td>\n",
              "      <td>CCA</td>\n",
              "    </tr>\n",
              "    <tr>\n",
              "      <th>1</th>\n",
              "      <td>0.00</td>\n",
              "      <td>0.205688</td>\n",
              "      <td>24.0</td>\n",
              "      <td>2</td>\n",
              "      <td>0</td>\n",
              "      <td>62</td>\n",
              "      <td>1</td>\n",
              "      <td>Wang2016</td>\n",
              "      <td>CCA</td>\n",
              "    </tr>\n",
              "    <tr>\n",
              "      <th>2</th>\n",
              "      <td>0.00</td>\n",
              "      <td>0.179278</td>\n",
              "      <td>24.0</td>\n",
              "      <td>3</td>\n",
              "      <td>0</td>\n",
              "      <td>62</td>\n",
              "      <td>1</td>\n",
              "      <td>Wang2016</td>\n",
              "      <td>CCA</td>\n",
              "    </tr>\n",
              "    <tr>\n",
              "      <th>3</th>\n",
              "      <td>0.00</td>\n",
              "      <td>0.151099</td>\n",
              "      <td>24.0</td>\n",
              "      <td>4</td>\n",
              "      <td>0</td>\n",
              "      <td>62</td>\n",
              "      <td>1</td>\n",
              "      <td>Wang2016</td>\n",
              "      <td>CCA</td>\n",
              "    </tr>\n",
              "    <tr>\n",
              "      <th>4</th>\n",
              "      <td>0.00</td>\n",
              "      <td>0.169144</td>\n",
              "      <td>24.0</td>\n",
              "      <td>5</td>\n",
              "      <td>0</td>\n",
              "      <td>62</td>\n",
              "      <td>1</td>\n",
              "      <td>Wang2016</td>\n",
              "      <td>CCA</td>\n",
              "    </tr>\n",
              "    <tr>\n",
              "      <th>5</th>\n",
              "      <td>0.00</td>\n",
              "      <td>0.143857</td>\n",
              "      <td>24.0</td>\n",
              "      <td>6</td>\n",
              "      <td>0</td>\n",
              "      <td>62</td>\n",
              "      <td>1</td>\n",
              "      <td>Wang2016</td>\n",
              "      <td>CCA</td>\n",
              "    </tr>\n",
              "    <tr>\n",
              "      <th>6</th>\n",
              "      <td>0.00</td>\n",
              "      <td>0.157163</td>\n",
              "      <td>24.0</td>\n",
              "      <td>7</td>\n",
              "      <td>0</td>\n",
              "      <td>62</td>\n",
              "      <td>1</td>\n",
              "      <td>Wang2016</td>\n",
              "      <td>CCA</td>\n",
              "    </tr>\n",
              "    <tr>\n",
              "      <th>7</th>\n",
              "      <td>0.00</td>\n",
              "      <td>0.160106</td>\n",
              "      <td>24.0</td>\n",
              "      <td>8</td>\n",
              "      <td>0</td>\n",
              "      <td>62</td>\n",
              "      <td>1</td>\n",
              "      <td>Wang2016</td>\n",
              "      <td>CCA</td>\n",
              "    </tr>\n",
              "    <tr>\n",
              "      <th>8</th>\n",
              "      <td>0.05</td>\n",
              "      <td>0.151308</td>\n",
              "      <td>24.0</td>\n",
              "      <td>9</td>\n",
              "      <td>0</td>\n",
              "      <td>62</td>\n",
              "      <td>1</td>\n",
              "      <td>Wang2016</td>\n",
              "      <td>CCA</td>\n",
              "    </tr>\n",
              "    <tr>\n",
              "      <th>9</th>\n",
              "      <td>0.00</td>\n",
              "      <td>0.146969</td>\n",
              "      <td>24.0</td>\n",
              "      <td>10</td>\n",
              "      <td>0</td>\n",
              "      <td>62</td>\n",
              "      <td>1</td>\n",
              "      <td>Wang2016</td>\n",
              "      <td>CCA</td>\n",
              "    </tr>\n",
              "    <tr>\n",
              "      <th>10</th>\n",
              "      <td>0.00</td>\n",
              "      <td>0.150118</td>\n",
              "      <td>24.0</td>\n",
              "      <td>11</td>\n",
              "      <td>0</td>\n",
              "      <td>62</td>\n",
              "      <td>1</td>\n",
              "      <td>Wang2016</td>\n",
              "      <td>CCA</td>\n",
              "    </tr>\n",
              "    <tr>\n",
              "      <th>11</th>\n",
              "      <td>0.00</td>\n",
              "      <td>0.170956</td>\n",
              "      <td>24.0</td>\n",
              "      <td>12</td>\n",
              "      <td>0</td>\n",
              "      <td>62</td>\n",
              "      <td>1</td>\n",
              "      <td>Wang2016</td>\n",
              "      <td>CCA</td>\n",
              "    </tr>\n",
              "    <tr>\n",
              "      <th>12</th>\n",
              "      <td>0.00</td>\n",
              "      <td>0.166134</td>\n",
              "      <td>24.0</td>\n",
              "      <td>13</td>\n",
              "      <td>0</td>\n",
              "      <td>62</td>\n",
              "      <td>1</td>\n",
              "      <td>Wang2016</td>\n",
              "      <td>CCA</td>\n",
              "    </tr>\n",
              "    <tr>\n",
              "      <th>13</th>\n",
              "      <td>0.00</td>\n",
              "      <td>0.144440</td>\n",
              "      <td>24.0</td>\n",
              "      <td>14</td>\n",
              "      <td>0</td>\n",
              "      <td>62</td>\n",
              "      <td>1</td>\n",
              "      <td>Wang2016</td>\n",
              "      <td>CCA</td>\n",
              "    </tr>\n",
              "    <tr>\n",
              "      <th>14</th>\n",
              "      <td>0.00</td>\n",
              "      <td>0.131108</td>\n",
              "      <td>24.0</td>\n",
              "      <td>15</td>\n",
              "      <td>0</td>\n",
              "      <td>62</td>\n",
              "      <td>1</td>\n",
              "      <td>Wang2016</td>\n",
              "      <td>CCA</td>\n",
              "    </tr>\n",
              "    <tr>\n",
              "      <th>15</th>\n",
              "      <td>0.00</td>\n",
              "      <td>0.150056</td>\n",
              "      <td>24.0</td>\n",
              "      <td>16</td>\n",
              "      <td>0</td>\n",
              "      <td>62</td>\n",
              "      <td>1</td>\n",
              "      <td>Wang2016</td>\n",
              "      <td>CCA</td>\n",
              "    </tr>\n",
              "    <tr>\n",
              "      <th>16</th>\n",
              "      <td>0.00</td>\n",
              "      <td>0.131810</td>\n",
              "      <td>24.0</td>\n",
              "      <td>17</td>\n",
              "      <td>0</td>\n",
              "      <td>62</td>\n",
              "      <td>1</td>\n",
              "      <td>Wang2016</td>\n",
              "      <td>CCA</td>\n",
              "    </tr>\n",
              "    <tr>\n",
              "      <th>17</th>\n",
              "      <td>0.00</td>\n",
              "      <td>0.147857</td>\n",
              "      <td>24.0</td>\n",
              "      <td>18</td>\n",
              "      <td>0</td>\n",
              "      <td>62</td>\n",
              "      <td>1</td>\n",
              "      <td>Wang2016</td>\n",
              "      <td>CCA</td>\n",
              "    </tr>\n",
              "    <tr>\n",
              "      <th>18</th>\n",
              "      <td>0.08</td>\n",
              "      <td>0.157870</td>\n",
              "      <td>24.0</td>\n",
              "      <td>19</td>\n",
              "      <td>0</td>\n",
              "      <td>62</td>\n",
              "      <td>1</td>\n",
              "      <td>Wang2016</td>\n",
              "      <td>CCA</td>\n",
              "    </tr>\n",
              "    <tr>\n",
              "      <th>19</th>\n",
              "      <td>0.00</td>\n",
              "      <td>0.146851</td>\n",
              "      <td>24.0</td>\n",
              "      <td>20</td>\n",
              "      <td>0</td>\n",
              "      <td>62</td>\n",
              "      <td>1</td>\n",
              "      <td>Wang2016</td>\n",
              "      <td>CCA</td>\n",
              "    </tr>\n",
              "    <tr>\n",
              "      <th>20</th>\n",
              "      <td>0.00</td>\n",
              "      <td>0.144611</td>\n",
              "      <td>24.0</td>\n",
              "      <td>21</td>\n",
              "      <td>0</td>\n",
              "      <td>62</td>\n",
              "      <td>1</td>\n",
              "      <td>Wang2016</td>\n",
              "      <td>CCA</td>\n",
              "    </tr>\n",
              "    <tr>\n",
              "      <th>21</th>\n",
              "      <td>0.00</td>\n",
              "      <td>0.166798</td>\n",
              "      <td>24.0</td>\n",
              "      <td>22</td>\n",
              "      <td>0</td>\n",
              "      <td>62</td>\n",
              "      <td>1</td>\n",
              "      <td>Wang2016</td>\n",
              "      <td>CCA</td>\n",
              "    </tr>\n",
              "    <tr>\n",
              "      <th>22</th>\n",
              "      <td>0.04</td>\n",
              "      <td>0.148058</td>\n",
              "      <td>24.0</td>\n",
              "      <td>23</td>\n",
              "      <td>0</td>\n",
              "      <td>62</td>\n",
              "      <td>1</td>\n",
              "      <td>Wang2016</td>\n",
              "      <td>CCA</td>\n",
              "    </tr>\n",
              "    <tr>\n",
              "      <th>23</th>\n",
              "      <td>0.00</td>\n",
              "      <td>0.124998</td>\n",
              "      <td>24.0</td>\n",
              "      <td>24</td>\n",
              "      <td>0</td>\n",
              "      <td>62</td>\n",
              "      <td>1</td>\n",
              "      <td>Wang2016</td>\n",
              "      <td>CCA</td>\n",
              "    </tr>\n",
              "    <tr>\n",
              "      <th>24</th>\n",
              "      <td>0.00</td>\n",
              "      <td>0.155584</td>\n",
              "      <td>24.0</td>\n",
              "      <td>25</td>\n",
              "      <td>0</td>\n",
              "      <td>62</td>\n",
              "      <td>1</td>\n",
              "      <td>Wang2016</td>\n",
              "      <td>CCA</td>\n",
              "    </tr>\n",
              "    <tr>\n",
              "      <th>25</th>\n",
              "      <td>0.00</td>\n",
              "      <td>0.212470</td>\n",
              "      <td>24.0</td>\n",
              "      <td>26</td>\n",
              "      <td>0</td>\n",
              "      <td>62</td>\n",
              "      <td>1</td>\n",
              "      <td>Wang2016</td>\n",
              "      <td>CCA</td>\n",
              "    </tr>\n",
              "    <tr>\n",
              "      <th>26</th>\n",
              "      <td>0.00</td>\n",
              "      <td>0.209776</td>\n",
              "      <td>24.0</td>\n",
              "      <td>27</td>\n",
              "      <td>0</td>\n",
              "      <td>62</td>\n",
              "      <td>1</td>\n",
              "      <td>Wang2016</td>\n",
              "      <td>CCA</td>\n",
              "    </tr>\n",
              "    <tr>\n",
              "      <th>27</th>\n",
              "      <td>0.00</td>\n",
              "      <td>0.156707</td>\n",
              "      <td>24.0</td>\n",
              "      <td>28</td>\n",
              "      <td>0</td>\n",
              "      <td>62</td>\n",
              "      <td>1</td>\n",
              "      <td>Wang2016</td>\n",
              "      <td>CCA</td>\n",
              "    </tr>\n",
              "    <tr>\n",
              "      <th>28</th>\n",
              "      <td>0.00</td>\n",
              "      <td>0.183461</td>\n",
              "      <td>24.0</td>\n",
              "      <td>29</td>\n",
              "      <td>0</td>\n",
              "      <td>62</td>\n",
              "      <td>1</td>\n",
              "      <td>Wang2016</td>\n",
              "      <td>CCA</td>\n",
              "    </tr>\n",
              "    <tr>\n",
              "      <th>29</th>\n",
              "      <td>0.00</td>\n",
              "      <td>0.185949</td>\n",
              "      <td>24.0</td>\n",
              "      <td>30</td>\n",
              "      <td>0</td>\n",
              "      <td>62</td>\n",
              "      <td>1</td>\n",
              "      <td>Wang2016</td>\n",
              "      <td>CCA</td>\n",
              "    </tr>\n",
              "    <tr>\n",
              "      <th>30</th>\n",
              "      <td>0.00</td>\n",
              "      <td>0.150288</td>\n",
              "      <td>24.0</td>\n",
              "      <td>31</td>\n",
              "      <td>0</td>\n",
              "      <td>62</td>\n",
              "      <td>1</td>\n",
              "      <td>Wang2016</td>\n",
              "      <td>CCA</td>\n",
              "    </tr>\n",
              "    <tr>\n",
              "      <th>31</th>\n",
              "      <td>0.00</td>\n",
              "      <td>0.161887</td>\n",
              "      <td>24.0</td>\n",
              "      <td>32</td>\n",
              "      <td>0</td>\n",
              "      <td>62</td>\n",
              "      <td>1</td>\n",
              "      <td>Wang2016</td>\n",
              "      <td>CCA</td>\n",
              "    </tr>\n",
              "    <tr>\n",
              "      <th>32</th>\n",
              "      <td>0.08</td>\n",
              "      <td>0.151674</td>\n",
              "      <td>24.0</td>\n",
              "      <td>33</td>\n",
              "      <td>0</td>\n",
              "      <td>62</td>\n",
              "      <td>1</td>\n",
              "      <td>Wang2016</td>\n",
              "      <td>CCA</td>\n",
              "    </tr>\n",
              "    <tr>\n",
              "      <th>33</th>\n",
              "      <td>0.00</td>\n",
              "      <td>0.131241</td>\n",
              "      <td>24.0</td>\n",
              "      <td>34</td>\n",
              "      <td>0</td>\n",
              "      <td>62</td>\n",
              "      <td>1</td>\n",
              "      <td>Wang2016</td>\n",
              "      <td>CCA</td>\n",
              "    </tr>\n",
              "  </tbody>\n",
              "</table>\n",
              "</div>"
            ],
            "text/plain": [
              "    score      time  samples subject session  channels  n_sessions   dataset  \\\n",
              "0    0.00  0.253852     24.0       1       0        62           1  Wang2016   \n",
              "1    0.00  0.205688     24.0       2       0        62           1  Wang2016   \n",
              "2    0.00  0.179278     24.0       3       0        62           1  Wang2016   \n",
              "3    0.00  0.151099     24.0       4       0        62           1  Wang2016   \n",
              "4    0.00  0.169144     24.0       5       0        62           1  Wang2016   \n",
              "5    0.00  0.143857     24.0       6       0        62           1  Wang2016   \n",
              "6    0.00  0.157163     24.0       7       0        62           1  Wang2016   \n",
              "7    0.00  0.160106     24.0       8       0        62           1  Wang2016   \n",
              "8    0.05  0.151308     24.0       9       0        62           1  Wang2016   \n",
              "9    0.00  0.146969     24.0      10       0        62           1  Wang2016   \n",
              "10   0.00  0.150118     24.0      11       0        62           1  Wang2016   \n",
              "11   0.00  0.170956     24.0      12       0        62           1  Wang2016   \n",
              "12   0.00  0.166134     24.0      13       0        62           1  Wang2016   \n",
              "13   0.00  0.144440     24.0      14       0        62           1  Wang2016   \n",
              "14   0.00  0.131108     24.0      15       0        62           1  Wang2016   \n",
              "15   0.00  0.150056     24.0      16       0        62           1  Wang2016   \n",
              "16   0.00  0.131810     24.0      17       0        62           1  Wang2016   \n",
              "17   0.00  0.147857     24.0      18       0        62           1  Wang2016   \n",
              "18   0.08  0.157870     24.0      19       0        62           1  Wang2016   \n",
              "19   0.00  0.146851     24.0      20       0        62           1  Wang2016   \n",
              "20   0.00  0.144611     24.0      21       0        62           1  Wang2016   \n",
              "21   0.00  0.166798     24.0      22       0        62           1  Wang2016   \n",
              "22   0.04  0.148058     24.0      23       0        62           1  Wang2016   \n",
              "23   0.00  0.124998     24.0      24       0        62           1  Wang2016   \n",
              "24   0.00  0.155584     24.0      25       0        62           1  Wang2016   \n",
              "25   0.00  0.212470     24.0      26       0        62           1  Wang2016   \n",
              "26   0.00  0.209776     24.0      27       0        62           1  Wang2016   \n",
              "27   0.00  0.156707     24.0      28       0        62           1  Wang2016   \n",
              "28   0.00  0.183461     24.0      29       0        62           1  Wang2016   \n",
              "29   0.00  0.185949     24.0      30       0        62           1  Wang2016   \n",
              "30   0.00  0.150288     24.0      31       0        62           1  Wang2016   \n",
              "31   0.00  0.161887     24.0      32       0        62           1  Wang2016   \n",
              "32   0.08  0.151674     24.0      33       0        62           1  Wang2016   \n",
              "33   0.00  0.131241     24.0      34       0        62           1  Wang2016   \n",
              "\n",
              "   pipeline  \n",
              "0       CCA  \n",
              "1       CCA  \n",
              "2       CCA  \n",
              "3       CCA  \n",
              "4       CCA  \n",
              "5       CCA  \n",
              "6       CCA  \n",
              "7       CCA  \n",
              "8       CCA  \n",
              "9       CCA  \n",
              "10      CCA  \n",
              "11      CCA  \n",
              "12      CCA  \n",
              "13      CCA  \n",
              "14      CCA  \n",
              "15      CCA  \n",
              "16      CCA  \n",
              "17      CCA  \n",
              "18      CCA  \n",
              "19      CCA  \n",
              "20      CCA  \n",
              "21      CCA  \n",
              "22      CCA  \n",
              "23      CCA  \n",
              "24      CCA  \n",
              "25      CCA  \n",
              "26      CCA  \n",
              "27      CCA  \n",
              "28      CCA  \n",
              "29      CCA  \n",
              "30      CCA  \n",
              "31      CCA  \n",
              "32      CCA  \n",
              "33      CCA  "
            ]
          },
          "execution_count": 156,
          "metadata": {},
          "output_type": "execute_result"
        }
      ],
      "source": [
        "results"
      ]
    },
    {
      "cell_type": "code",
      "execution_count": null,
      "metadata": {
        "colab": {
          "base_uri": "https://localhost:8080/",
          "height": 859
        },
        "id": "iBYealH_5yBn",
        "outputId": "9c85035f-7806-41e4-9da6-b9eb3064e77e"
      },
      "outputs": [
        {
          "data": {
            "image/png": "[encoded data removed]",
            "text/plain": [
              "<Figure size 640x480 with 1 Axes>"
            ]
          },
          "metadata": {},
          "output_type": "display_data"
        }
      ],
      "source": [
        "plt.figure()\n",
        "sns.barplot(data=results, y=\"score\", x=\"session\", hue=\"subject\", palette=\"viridis\")\n",
        "plt.show()"
      ]
    }
  ],
  "metadata": {
    "accelerator": "GPU",
    "colab": {
      "gpuType": "T4",
      "provenance": []
    },
    "kernelspec": {
      "display_name": "Python 3",
      "name": "python3"
    },
    "language_info": {
      "codemirror_mode": {
        "name": "ipython",
        "version": 3
      },
      "file_extension": ".py",
      "mimetype": "text/x-python",
      "name": "python",
      "nbconvert_exporter": "python",
      "pygments_lexer": "ipython3",
      "version": "3.11.7"
    }
  },
  "nbformat": 4,
  "nbformat_minor": 0
}
