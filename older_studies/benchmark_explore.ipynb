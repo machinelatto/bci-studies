{
 "cells": [
  {
   "cell_type": "code",
   "execution_count": 1,
   "metadata": {},
   "outputs": [
    {
     "name": "stdout",
     "output_type": "stream",
     "text": [
      "Mon Oct 28 22:48:08 2024       \n",
      "+---------------------------------------------------------------------------------------+\n",
      "| NVIDIA-SMI 531.79                 Driver Version: 531.79       CUDA Version: 12.1     |\n",
      "|-----------------------------------------+----------------------+----------------------+\n",
      "| GPU  Name                      TCC/WDDM | Bus-Id        Disp.A | Volatile Uncorr. ECC |\n",
      "| Fan  Temp  Perf            Pwr:Usage/Cap|         Memory-Usage | GPU-Util  Compute M. |\n",
      "|                                         |                      |               MIG M. |\n",
      "|=========================================+======================+======================|\n",
      "|   0  NVIDIA GeForce GTX 1650       WDDM | 00000000:01:00.0 Off |                  N/A |\n",
      "| N/A   45C    P8                3W /  N/A|      0MiB /  4096MiB |      0%      Default |\n",
      "|                                         |                      |                  N/A |\n",
      "+-----------------------------------------+----------------------+----------------------+\n",
      "                                                                                         \n",
      "+---------------------------------------------------------------------------------------+\n",
      "| Processes:                                                                            |\n",
      "|  GPU   GI   CI        PID   Type   Process name                            GPU Memory |\n",
      "|        ID   ID                                                             Usage      |\n",
      "|=======================================================================================|\n",
      "|  No running processes found                                                           |\n",
      "+---------------------------------------------------------------------------------------+\n"
     ]
    }
   ],
   "source": [
    "!nvidia-smi"
   ]
  },
  {
   "cell_type": "code",
   "execution_count": 1,
   "metadata": {},
   "outputs": [
    {
     "name": "stderr",
     "output_type": "stream",
     "text": [
      "<frozen importlib._bootstrap>:241: FutureWarning: mne.io.pick.pick_types is deprecated will be removed in 1.6, use documented public API instead. If no appropriate public API exists, please open an issue on GitHub.\n",
      "<frozen importlib._bootstrap>:241: FutureWarning: mne.io.pick.pick_channels_regexp is deprecated will be removed in 1.6, use documented public API instead. If no appropriate public API exists, please open an issue on GitHub.\n",
      "<frozen importlib._bootstrap>:241: FutureWarning: mne.io.pick.channel_type is deprecated will be removed in 1.6, use documented public API instead. If no appropriate public API exists, please open an issue on GitHub.\n",
      "c:\\Users\\machi\\anaconda3\\Lib\\site-packages\\paramiko\\transport.py:219: CryptographyDeprecationWarning: Blowfish has been deprecated and will be removed in a future release\n",
      "  \"class\": algorithms.Blowfish,\n"
     ]
    },
    {
     "name": "stdout",
     "output_type": "stream",
     "text": [
      "To use the get_shape_from_baseconcar, InputShapeSetterEEG, BraindecodeDatasetLoaderyou need to install `braindecode`.`pip install braindecode` or Please refer to `https://braindecode.org`.\n"
     ]
    },
    {
     "name": "stderr",
     "output_type": "stream",
     "text": [
      "c:\\Users\\machi\\anaconda3\\Lib\\site-packages\\moabb\\pipelines\\__init__.py:26: ModuleNotFoundError: Tensorflow is not installed. You won't be able to use these MOABB pipelines if you attempt to do so.\n",
      "  warn(\n"
     ]
    }
   ],
   "source": [
    "from moabb.datasets import Wang2016\n",
    "from moabb.paradigms import SSVEP\n",
    "import mne\n",
    "import numpy as np\n",
    "import warnings\n",
    "\n",
    "warnings.simplefilter(action=\"ignore\", category=FutureWarning)"
   ]
  },
  {
   "cell_type": "code",
   "execution_count": 3,
   "metadata": {},
   "outputs": [],
   "source": [
    "channels = [\"Oz\", \"O1\", \"O2\"]\n",
    "events = [\"12\", \"15\"]\n",
    "\n",
    "dataset = Wang2016()\n",
    "dataset.subject_list = list(range(1, 36))\n",
    "paradigm = SSVEP(channels=channels, n_classes=2, events=[\"12\", \"15\"])"
   ]
  },
  {
   "cell_type": "code",
   "execution_count": 4,
   "metadata": {},
   "outputs": [
    {
     "name": "stderr",
     "output_type": "stream",
     "text": [
      "Trial data de-meaned and concatenated with a buffer to create continuous data\n",
      "Trial data de-meaned and concatenated with a buffer to create continuous data\n",
      "Trial data de-meaned and concatenated with a buffer to create continuous data\n",
      "Trial data de-meaned and concatenated with a buffer to create continuous data\n",
      "Trial data de-meaned and concatenated with a buffer to create continuous data\n",
      "Trial data de-meaned and concatenated with a buffer to create continuous data\n",
      "Trial data de-meaned and concatenated with a buffer to create continuous data\n",
      "Trial data de-meaned and concatenated with a buffer to create continuous data\n",
      "Trial data de-meaned and concatenated with a buffer to create continuous data\n",
      "Trial data de-meaned and concatenated with a buffer to create continuous data\n",
      "Trial data de-meaned and concatenated with a buffer to create continuous data\n",
      "Trial data de-meaned and concatenated with a buffer to create continuous data\n",
      "Trial data de-meaned and concatenated with a buffer to create continuous data\n",
      "Trial data de-meaned and concatenated with a buffer to create continuous data\n",
      "Trial data de-meaned and concatenated with a buffer to create continuous data\n",
      "Trial data de-meaned and concatenated with a buffer to create continuous data\n",
      "Trial data de-meaned and concatenated with a buffer to create continuous data\n",
      "Trial data de-meaned and concatenated with a buffer to create continuous data\n",
      "Trial data de-meaned and concatenated with a buffer to create continuous data\n",
      "Trial data de-meaned and concatenated with a buffer to create continuous data\n",
      "Trial data de-meaned and concatenated with a buffer to create continuous data\n",
      "Trial data de-meaned and concatenated with a buffer to create continuous data\n",
      "Trial data de-meaned and concatenated with a buffer to create continuous data\n",
      "Trial data de-meaned and concatenated with a buffer to create continuous data\n",
      "Trial data de-meaned and concatenated with a buffer to create continuous data\n",
      "Trial data de-meaned and concatenated with a buffer to create continuous data\n",
      "Trial data de-meaned and concatenated with a buffer to create continuous data\n",
      "Trial data de-meaned and concatenated with a buffer to create continuous data\n",
      "Trial data de-meaned and concatenated with a buffer to create continuous data\n",
      "Trial data de-meaned and concatenated with a buffer to create continuous data\n",
      "Trial data de-meaned and concatenated with a buffer to create continuous data\n",
      "Trial data de-meaned and concatenated with a buffer to create continuous data\n",
      "Trial data de-meaned and concatenated with a buffer to create continuous data\n",
      "Trial data de-meaned and concatenated with a buffer to create continuous data\n",
      "Trial data de-meaned and concatenated with a buffer to create continuous data\n"
     ]
    }
   ],
   "source": [
    "X, labels, meta = paradigm.get_data(dataset=dataset)"
   ]
  },
  {
   "cell_type": "code",
   "execution_count": 5,
   "metadata": {},
   "outputs": [
    {
     "data": {
      "text/plain": [
       "(420, 3, 1251)"
      ]
     },
     "execution_count": 5,
     "metadata": {},
     "output_type": "execute_result"
    }
   ],
   "source": [
    "X.shape"
   ]
  },
  {
   "cell_type": "code",
   "execution_count": 58,
   "metadata": {},
   "outputs": [
    {
     "data": {
      "text/plain": [
       "(420,)"
      ]
     },
     "execution_count": 58,
     "metadata": {},
     "output_type": "execute_result"
    }
   ],
   "source": [
    "labels.shape"
   ]
  },
  {
   "cell_type": "code",
   "execution_count": 9,
   "metadata": {},
   "outputs": [],
   "source": [
    "def get_subject_data(full_data, labels, subject):\n",
    "    num_trials = full_data.shape[0] / 35  # 35 subjects, so num of trials for each subj\n",
    "    start = int((subject - 1) * num_trials)\n",
    "    end = int(start + num_trials)\n",
    "    return full_data[start:end, :, :], labels[start:end]"
   ]
  },
  {
   "cell_type": "code",
   "execution_count": 28,
   "metadata": {},
   "outputs": [
    {
     "data": {
      "text/plain": [
       "(12, 3, 1251)"
      ]
     },
     "execution_count": 28,
     "metadata": {},
     "output_type": "execute_result"
    }
   ],
   "source": [
    "sub35, labels35 = get_subject_data(X, labels, 1)\n",
    "sub35.shape"
   ]
  },
  {
   "cell_type": "code",
   "execution_count": 57,
   "metadata": {},
   "outputs": [
    {
     "data": {
      "text/plain": [
       "(12,)"
      ]
     },
     "execution_count": 57,
     "metadata": {},
     "output_type": "execute_result"
    }
   ],
   "source": [
    "labels35.shape"
   ]
  },
  {
   "cell_type": "code",
   "execution_count": 67,
   "metadata": {},
   "outputs": [],
   "source": [
    "def splitData(data, labels, length, fsample, overlap):\n",
    "    split_data = []\n",
    "    split_labels = []\n",
    "    num_samples_split = round(fsample * length)\n",
    "    step = round(num_samples_split * (1 - overlap))\n",
    "\n",
    "    for i in range(0, data.shape[0]):\n",
    "        for j in range(0, data.shape[2], step):\n",
    "            if (j + num_samples_split) <= data.shape[2]:\n",
    "                split_data.append(data[i, :, j : j + num_samples_split])\n",
    "                split_labels.append(labels[i])\n",
    "\n",
    "    split_data = np.array(split_data)\n",
    "    split_labels = np.array(split_labels)\n",
    "\n",
    "    return split_data, split_labels"
   ]
  },
  {
   "cell_type": "code",
   "execution_count": 70,
   "metadata": {},
   "outputs": [],
   "source": []
  },
  {
   "cell_type": "code",
   "execution_count": 77,
   "metadata": {},
   "outputs": [
    {
     "data": {
      "text/plain": [
       "array([[-1.59641959e+00, -1.29024316e+00,  2.33356927e-01,\n",
       "         1.96652132e+00,  2.77069624e+00,  2.16668087e+00,\n",
       "         5.15663026e-01, -1.30728472e+00, -2.39334975e+00,\n",
       "        -2.27480023e+00, -1.23499874e+00, -1.64923229e-01,\n",
       "         8.54710804e-02, -5.84910425e-01, -1.38729235e+00,\n",
       "        -1.29159144e+00,  2.13853579e-02,  1.78374289e+00,\n",
       "         2.77934320e+00,  2.43673874e+00,  1.29397746e+00,\n",
       "         3.51736219e-01, -2.16372642e-02, -4.70380839e-01,\n",
       "        -1.86965437e+00, -4.16596744e+00, -6.08354704e+00,\n",
       "        -6.11395654e+00, -3.89126015e+00, -5.81772408e-01,\n",
       "         2.13643852e+00,  3.46930598e+00,  3.89393569e+00,\n",
       "         4.31630083e+00,  5.01602221e+00,  5.37842835e+00,\n",
       "         4.51909366e+00,  2.18845600e+00, -8.09961504e-01,\n",
       "        -3.07817048e+00, -3.61261761e+00, -2.49560720e+00,\n",
       "        -7.70483484e-01,  3.07763301e-01,  9.51710862e-02,\n",
       "        -1.02322515e+00, -1.89803371e+00, -1.49152972e+00,\n",
       "         2.18744167e-01,  2.08950293e+00,  2.65585453e+00,\n",
       "         1.31673624e+00, -1.14186009e+00, -3.10784015e+00,\n",
       "        -3.29673972e+00, -1.61824833e+00,  8.05225593e-01,\n",
       "         2.42186293e+00,  2.27999676e+00,  5.69857453e-01,\n",
       "        -1.68660089e+00, -3.43332781e+00, -4.14600400e+00,\n",
       "        -3.83529812e+00, -2.73401132e+00, -1.04783425e+00,\n",
       "         1.07899754e+00,  3.44330328e+00,  5.65108617e+00,\n",
       "         7.10841714e+00,  7.19659858e+00,  5.60941611e+00,\n",
       "         2.69676786e+00, -5.18831572e-01, -2.87118162e+00,\n",
       "        -3.78187416e+00, -3.50080111e+00, -2.66753905e+00,\n",
       "        -1.79780750e+00, -1.24907378e+00, -1.38406699e+00,\n",
       "        -2.32202076e+00, -3.44851273e+00, -3.59127290e+00,\n",
       "        -2.10925079e+00,  2.65661880e-01,  2.05117820e+00,\n",
       "         2.55247369e+00,  2.45307963e+00,  2.69954733e+00,\n",
       "         3.12671782e+00,  2.64056405e+00,  7.65465920e-01,\n",
       "        -1.41957977e+00, -2.19159538e+00, -9.07483004e-01,\n",
       "         1.40457429e+00,  3.08470038e+00,  3.20805829e+00,\n",
       "         1.97296542e+00,  1.70882401e-01, -1.43116923e+00,\n",
       "        -2.38886535e+00, -2.67897314e+00, -2.67575706e+00,\n",
       "        -2.92588580e+00, -3.74423689e+00, -4.85179430e+00,\n",
       "        -5.37235164e+00, -4.36139024e+00, -1.60790219e+00,\n",
       "         1.95268325e+00,  4.73342520e+00,  5.65348358e+00,\n",
       "         4.97903319e+00,  4.00874966e+00,  3.83160418e+00,\n",
       "         4.34752655e+00,  4.52136043e+00,  3.57467194e+00,\n",
       "         1.83450176e+00,  3.55086341e-01, -2.09572695e-01,\n",
       "        -2.22840210e-01, -5.79753674e-01, -1.77942441e+00,\n",
       "        -3.56367389e+00, -5.30105039e+00, -6.45963237e+00,\n",
       "        -6.67938549e+00, -5.70841811e+00, -3.64128098e+00,\n",
       "        -1.23598603e+00,  3.71727940e-01,  6.23378785e-01,\n",
       "         2.07651490e-01,  5.30828163e-01,  2.36777952e+00,\n",
       "         5.06986460e+00,  7.12217849e+00,  7.38681342e+00,\n",
       "         5.78521845e+00,  3.00760012e+00, -1.11811810e-01,\n",
       "        -2.88251709e+00, -4.74671474e+00, -5.35393431e+00,\n",
       "        -4.77195156e+00, -3.51086292e+00, -2.16197004e+00,\n",
       "        -9.21251676e-01,  4.86298426e-01,  2.31041650e+00,\n",
       "         4.19750464e+00,  5.24125162e+00,  4.75059342e+00,\n",
       "         2.96794263e+00,  9.37557144e-01, -3.63588174e-01,\n",
       "        -7.46215366e-01, -7.39045985e-01, -9.58575807e-01,\n",
       "        -1.61690540e+00, -2.52181670e+00, -3.33713797e+00,\n",
       "        -3.76809528e+00, -3.65070352e+00, -3.05636054e+00,\n",
       "        -2.32430221e+00, -1.84778632e+00, -1.69880934e+00,\n",
       "        -1.44670191e+00, -4.38490371e-01,  1.59142016e+00,\n",
       "         4.08875433e+00,  5.89676557e+00,  6.05057039e+00,\n",
       "         4.50193733e+00,  2.17050275e+00,  3.25211110e-01,\n",
       "        -1.83652967e-01,  6.79285590e-01,  2.23966719e+00,\n",
       "         3.49298794e+00,  3.53217226e+00,  1.96376983e+00,\n",
       "        -8.20764811e-01, -3.80486119e+00, -5.96091133e+00,\n",
       "        -6.83438960e+00, -6.57691465e+00, -5.49774348e+00,\n",
       "        -3.72521924e+00, -1.37701802e+00,  1.03950941e+00,\n",
       "         2.61893579e+00,  2.65425551e+00,  1.34145878e+00,\n",
       "        -1.39977849e-01, -4.04582648e-01,  1.05311925e+00,\n",
       "         3.39041833e+00,  5.05013019e+00,  4.98136018e+00,\n",
       "         3.32984124e+00,  1.02252827e+00, -1.15078586e+00,\n",
       "        -2.90391798e+00, -4.04509084e+00, -4.12459945e+00,\n",
       "        -2.83680203e+00, -6.95403559e-01,  1.06229049e+00,\n",
       "         1.46247144e+00,  6.27512561e-01, -4.23054295e-01,\n",
       "        -7.02270594e-01,  2.87861081e-02,  1.26827677e+00,\n",
       "         2.29543752e+00,  2.72196154e+00,  2.69456048e+00,\n",
       "         2.61416215e+00,  2.58825048e+00,  2.13993531e+00,\n",
       "         5.65222984e-01, -2.28728494e+00, -5.53509403e+00,\n",
       "        -7.61664620e+00, -7.31880450e+00, -4.69843949e+00,\n",
       "        -1.10772328e+00,  1.76112283e+00,  3.01431614e+00,\n",
       "         2.91355104e+00,  2.27342584e+00,  1.63739232e+00,\n",
       "         1.04357956e+00,  4.26683843e-01,  1.31675304e-02,\n",
       "         1.84601863e-01,  9.85656393e-01,  1.90950444e+00,\n",
       "         2.29935035e+00,  1.98143586e+00,  1.40047349e+00,\n",
       "         1.03770861e+00,  7.80871900e-01,  8.31270247e-02,\n",
       "        -1.20967012e+00],\n",
       "       [-8.18263692e-02,  1.95905673e-01,  1.89645019e+00,\n",
       "         3.93970426e+00,  4.95813774e+00,  4.24475491e+00,\n",
       "         2.04308879e+00, -7.28494557e-01, -2.94802833e+00,\n",
       "        -3.81821275e+00, -3.32316045e+00, -2.26459530e+00,\n",
       "        -1.66850700e+00, -1.92367826e+00, -2.40851865e+00,\n",
       "        -2.05805007e+00, -4.50602469e-01,  1.63594913e+00,\n",
       "         2.83818396e+00,  2.44366699e+00,  1.01019422e+00,\n",
       "        -2.60132704e-01, -7.42810757e-01, -9.51504644e-01,\n",
       "        -1.84784829e+00, -3.59085464e+00, -5.05496330e+00,\n",
       "        -4.75013316e+00, -2.30996858e+00,  1.02461347e+00,\n",
       "         3.51711777e+00,  4.47206732e+00,  4.57973082e+00,\n",
       "         4.86692001e+00,  5.51109936e+00,  5.67048274e+00,\n",
       "         4.33891486e+00,  1.38024755e+00, -2.15935219e+00,\n",
       "        -4.73403645e+00, -5.37302542e+00, -4.23729232e+00,\n",
       "        -2.34064447e+00, -8.39567390e-01, -3.87230293e-01,\n",
       "        -7.92550925e-01, -1.14870063e+00, -5.00208762e-01,\n",
       "         1.30369334e+00,  3.28227038e+00,  3.95294984e+00,\n",
       "         2.52439307e+00, -3.36301551e-01, -2.87833743e+00,\n",
       "        -3.53860744e+00, -2.09436769e+00,  2.12038484e-01,\n",
       "         1.64850201e+00,  1.27602130e+00, -4.82262649e-01,\n",
       "        -2.37769466e+00, -3.38925064e+00, -3.33175730e+00,\n",
       "        -2.63556943e+00, -1.71481587e+00, -5.67751439e-01,\n",
       "         1.09134325e+00,  3.35092872e+00,  5.73904645e+00,\n",
       "         7.33192038e+00,  7.26765981e+00,  5.29781520e+00,\n",
       "         2.03264232e+00, -1.30629611e+00, -3.56596943e+00,\n",
       "        -4.32559713e+00, -3.96358216e+00, -3.10040074e+00,\n",
       "        -2.11729310e+00, -1.29949890e+00, -1.15996143e+00,\n",
       "        -2.09591667e+00, -3.55117597e+00, -3.97845922e+00,\n",
       "        -2.21847160e+00,  1.07118680e+00,  3.83051100e+00,\n",
       "         4.64026311e+00,  4.02872488e+00,  3.49553538e+00,\n",
       "         3.55389703e+00,  3.24163815e+00,  1.58222621e+00,\n",
       "        -9.45227107e-01, -2.71476564e+00, -2.56853519e+00,\n",
       "        -8.69235401e-01,  9.51050788e-01,  1.59926475e+00,\n",
       "         7.23854838e-01, -1.06870177e+00, -2.72674098e+00,\n",
       "        -3.45002459e+00, -3.18075123e+00, -2.54179622e+00,\n",
       "        -2.30720103e+00, -2.85682806e+00, -3.91238091e+00,\n",
       "        -4.59739961e+00, -3.86802163e+00, -1.24536586e+00,\n",
       "         2.62926396e+00,  6.22285253e+00,  8.13026400e+00,\n",
       "         8.06198678e+00,  6.88036795e+00,  5.65007699e+00,\n",
       "         4.66171187e+00,  3.41400227e+00,  1.50487153e+00,\n",
       "        -6.36954284e-01, -2.06608676e+00, -2.31631442e+00,\n",
       "        -1.88935538e+00, -1.69983892e+00, -2.22088789e+00,\n",
       "        -3.30675862e+00, -4.63580762e+00, -5.94227211e+00,\n",
       "        -6.75728747e+00, -6.33807448e+00, -4.30394975e+00,\n",
       "        -1.36494127e+00,  9.41800329e-01,  1.57577210e+00,\n",
       "         1.07969190e+00,  1.13950471e+00,  2.90141317e+00,\n",
       "         5.75026625e+00,  7.81996473e+00,  7.64748015e+00,\n",
       "         5.25876081e+00,  1.81944494e+00, -1.41265463e+00,\n",
       "        -3.68294953e+00, -4.67659390e+00, -4.38317058e+00,\n",
       "        -3.19397206e+00, -1.87539013e+00, -1.08466221e+00,\n",
       "        -7.71810431e-01, -1.85543750e-01,  1.33030878e+00,\n",
       "         3.47561900e+00,  5.02437498e+00,  4.85655485e+00,\n",
       "         3.00323445e+00,  6.34646549e-01, -9.72383149e-01,\n",
       "        -1.42911964e+00, -1.31486539e+00, -1.47143608e+00,\n",
       "        -2.27983190e+00, -3.44583652e+00, -4.25801744e+00,\n",
       "        -4.06038057e+00, -2.72818137e+00, -8.88570568e-01,\n",
       "         3.82187918e-01,  3.11574399e-01, -9.01584327e-01,\n",
       "        -2.07665248e+00, -1.80927497e+00,  4.51247870e-01,\n",
       "         3.78838146e+00,  6.29318442e+00,  6.43542453e+00,\n",
       "         4.23845712e+00,  1.22849412e+00, -7.62898287e-01,\n",
       "        -8.66485528e-01,  4.76357105e-01,  2.12038568e+00,\n",
       "         3.03027477e+00,  2.68583161e+00,  1.11785131e+00,\n",
       "        -1.16358311e+00, -3.36850331e+00, -4.81512225e+00,\n",
       "        -5.25027051e+00, -4.80824185e+00, -3.70960807e+00,\n",
       "        -2.07775867e+00, -7.42533825e-02,  1.83131614e+00,\n",
       "         2.85061897e+00,  2.34559196e+00,  4.98982203e-01,\n",
       "        -1.49523292e+00, -2.15764815e+00, -9.11295016e-01,\n",
       "         1.37554575e+00,  3.10569868e+00,  3.26240669e+00,\n",
       "         2.04000935e+00,  3.31389200e-01, -1.16196804e+00,\n",
       "        -2.20897906e+00, -2.65660558e+00, -2.17495465e+00,\n",
       "        -6.61253757e-01,  1.24086116e+00,  2.40328006e+00,\n",
       "         2.18667943e+00,  1.04979384e+00,  8.88981425e-02,\n",
       "         3.58213851e-02,  7.35222329e-01,  1.45980075e+00,\n",
       "         1.61224031e+00,  1.19620303e+00,  7.53967209e-01,\n",
       "         8.38718563e-01,  1.39066246e+00,  1.56547145e+00,\n",
       "         3.44194282e-01, -2.45113036e+00, -5.66994993e+00,\n",
       "        -7.47016646e+00, -6.65846536e+00, -3.62031580e+00,\n",
       "        -3.25701958e-02,  2.40110906e+00,  3.10032198e+00,\n",
       "         2.70483495e+00,  2.19774209e+00,  1.99787911e+00,\n",
       "         1.83635754e+00,  1.34108329e+00,  5.79231494e-01,\n",
       "        -7.15217349e-03, -1.02317008e-01,  1.67421751e-01,\n",
       "         4.48748249e-01,  6.07293521e-01,  8.18912071e-01,\n",
       "         1.15179397e+00,  1.20770569e+00,  4.65407754e-01,\n",
       "        -9.44688001e-01],\n",
       "       [-2.53947806e+00, -2.36117863e+00, -7.14266218e-01,\n",
       "         1.31245820e+00,  2.52080172e+00,  2.41368734e+00,\n",
       "         1.29497816e+00, -1.16727098e-01, -1.08313907e+00,\n",
       "        -1.14848426e+00, -4.01562390e-01,  4.84489035e-01,\n",
       "         6.66273225e-01, -1.61453037e-01, -1.36614001e+00,\n",
       "        -1.81273356e+00, -9.03240352e-01,  7.68961262e-01,\n",
       "         1.91084270e+00,  1.74765396e+00,  7.09801219e-01,\n",
       "        -1.43604109e-01, -3.39356666e-01, -5.07801506e-01,\n",
       "        -1.59981710e+00, -3.61922649e+00, -5.28133653e+00,\n",
       "        -5.09700515e+00, -2.84295774e+00,  1.57868729e-01,\n",
       "         2.31328298e+00,  3.21326115e+00,  3.67793031e+00,\n",
       "         4.50405203e+00,  5.44841496e+00,  5.48305521e+00,\n",
       "         3.84888286e+00,  8.01347553e-01, -2.49272267e+00,\n",
       "        -4.66323322e+00, -4.89148623e+00, -3.29525641e+00,\n",
       "        -8.35664183e-01,  1.16778423e+00,  1.75419325e+00,\n",
       "         9.35395492e-01, -2.97333029e-01, -7.62111509e-01,\n",
       "        -9.80474123e-02,  9.34818262e-01,  1.19103918e+00,\n",
       "         2.20912185e-01, -1.31350107e+00, -2.20951039e+00,\n",
       "        -1.69777727e+00, -4.02819758e-03,  1.83808966e+00,\n",
       "         2.68049688e+00,  1.96558365e+00,  1.35466863e-02,\n",
       "        -2.25236977e+00, -3.89874571e+00, -4.44754661e+00,\n",
       "        -3.94757508e+00, -2.72702779e+00, -1.09028967e+00,\n",
       "         8.06857252e-01,  2.84669488e+00,  4.76185590e+00,\n",
       "         6.07877709e+00,  6.25746818e+00,  4.98562971e+00,\n",
       "         2.52076522e+00, -2.15215680e-01, -2.09706401e+00,\n",
       "        -2.57977993e+00, -2.03696192e+00, -1.27772757e+00,\n",
       "        -8.44200999e-01, -8.79630252e-01, -1.44246618e+00,\n",
       "        -2.51163790e+00, -3.58976315e+00, -3.73891117e+00,\n",
       "        -2.46428296e+00, -4.69864290e-01,  9.15478652e-01,\n",
       "         1.18482642e+00,  1.15983481e+00,  1.79935426e+00,\n",
       "         2.79549158e+00,  2.83219091e+00,  1.28011514e+00,\n",
       "        -7.83401439e-01, -1.54051476e+00, -2.56555499e-01,\n",
       "         2.09776267e+00,  3.88646160e+00,  4.14332960e+00,\n",
       "         2.96931997e+00,  1.10862991e+00, -6.03990280e-01,\n",
       "        -1.64621161e+00, -2.04244889e+00, -2.29216926e+00,\n",
       "        -2.97416753e+00, -4.29927566e+00, -5.88579035e+00,\n",
       "        -6.87214583e+00, -6.38821896e+00, -4.19503934e+00,\n",
       "        -1.00314308e+00,  1.93198484e+00,  3.71571663e+00,\n",
       "         4.43587094e+00,  4.90154329e+00,  5.74129066e+00,\n",
       "         6.73796423e+00,  7.04579035e+00,  6.06643287e+00,\n",
       "         4.10055707e+00,  2.10977482e+00,  8.43882311e-01,\n",
       "         2.35719966e-01, -3.88702004e-01, -1.62975200e+00,\n",
       "        -3.55982912e+00, -5.73693180e+00, -7.43787725e+00,\n",
       "        -7.92966219e+00, -6.85126071e+00, -4.61510562e+00,\n",
       "        -2.36754728e+00, -1.22148787e+00, -1.26890869e+00,\n",
       "        -1.37412969e+00, -1.46526657e-01,  2.73083036e+00,\n",
       "         6.11484691e+00,  8.33117215e+00,  8.44379092e+00,\n",
       "         6.66576964e+00,  3.80819064e+00,  6.52191181e-01,\n",
       "        -2.15273867e+00, -3.98095916e+00, -4.42965206e+00,\n",
       "        -3.69489621e+00, -2.55616414e+00, -1.78085098e+00,\n",
       "        -1.45851740e+00, -9.60255663e-01,  3.49519568e-01,\n",
       "         2.30479987e+00,  3.88239976e+00,  4.05617641e+00,\n",
       "         2.75982043e+00,  9.72860523e-01, -1.73982541e-01,\n",
       "        -3.65689605e-01, -2.06451924e-01, -4.78316808e-01,\n",
       "        -1.40605963e+00, -2.58975427e+00, -3.44461751e+00,\n",
       "        -3.60745312e+00, -3.08312372e+00, -2.21960090e+00,\n",
       "        -1.53619615e+00, -1.37617238e+00, -1.57526178e+00,\n",
       "        -1.47621937e+00, -3.81431119e-01,  1.84326935e+00,\n",
       "         4.47730118e+00,  6.27434310e+00,  6.26117012e+00,\n",
       "         4.41928283e+00,  1.71876606e+00, -4.94669443e-01,\n",
       "        -1.28686462e+00, -5.78683864e-01,  9.55443396e-01,\n",
       "         2.34054592e+00,  2.76502472e+00,  1.87279729e+00,\n",
       "        -1.40356769e-01, -2.64210892e+00, -4.85483999e+00,\n",
       "        -6.15984703e+00, -6.25759532e+00, -5.17289201e+00,\n",
       "        -3.18940055e+00, -7.84102590e-01,  1.42531839e+00,\n",
       "         2.77864524e+00,  2.81260755e+00,  1.61584480e+00,\n",
       "         1.05673560e-02, -7.98914398e-01, -5.31272488e-02,\n",
       "         1.91536056e+00,  3.87775922e+00,  4.61990930e+00,\n",
       "         3.71877234e+00,  1.57528921e+00, -1.04343957e+00,\n",
       "        -3.32686435e+00, -4.47617766e+00, -3.90772120e+00,\n",
       "        -1.76463514e+00,  8.27630592e-01,  2.36219267e+00,\n",
       "         2.06997387e+00,  4.96999246e-01, -1.00822034e+00,\n",
       "        -1.34941598e+00, -3.64705544e-01,  1.24672412e+00,\n",
       "         2.52088936e+00,  2.89064493e+00,  2.49451254e+00,\n",
       "         1.91101156e+00,  1.49977970e+00,  9.48231455e-01,\n",
       "        -4.50132737e-01, -2.96402834e+00, -5.85196867e+00,\n",
       "        -7.67410784e+00, -7.29151849e+00, -4.71755573e+00,\n",
       "        -1.09700692e+00,  2.13991337e+00,  4.17473893e+00,\n",
       "         5.01183877e+00,  4.99959726e+00,  4.30323762e+00,\n",
       "         2.90045898e+00,  1.01636669e+00, -6.21706939e-01,\n",
       "        -1.16563133e+00, -3.94793021e-01,  9.50600506e-01,\n",
       "         1.71220122e+00,  1.29502219e+00,  1.13626950e-01,\n",
       "        -9.76083813e-01, -1.61346702e+00, -2.12267323e+00,\n",
       "        -2.76362497e+00]])"
      ]
     },
     "execution_count": 77,
     "metadata": {},
     "output_type": "execute_result"
    }
   ],
   "source": []
  }
 ],
 "metadata": {
  "kernelspec": {
   "display_name": "base",
   "language": "python",
   "name": "python3"
  },
  "language_info": {
   "codemirror_mode": {
    "name": "ipython",
    "version": 3
   },
   "file_extension": ".py",
   "mimetype": "text/x-python",
   "name": "python",
   "nbconvert_exporter": "python",
   "pygments_lexer": "ipython3",
   "version": "3.11.7"
  }
 },
 "nbformat": 4,
 "nbformat_minor": 2
}
