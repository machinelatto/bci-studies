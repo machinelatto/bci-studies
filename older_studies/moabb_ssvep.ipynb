{
  "nbformat": 4,
  "nbformat_minor": 0,
  "metadata": {
    "colab": {
      "provenance": [],
      "collapsed_sections": [
        "FDMH7rsaoz9X"
      ]
    },
    "kernelspec": {
      "name": "python3",
      "display_name": "Python 3"
    },
    "language_info": {
      "name": "python"
    },
    "widgets": {
      "application/vnd.jupyter.widget-state+json": {
        "5dddc0e55d484d2ca3012b9b50e678d2": {
          "model_module": "@jupyter-widgets/controls",
          "model_name": "HBoxModel",
          "model_module_version": "1.5.0",
          "state": {
            "_dom_classes": [],
            "_model_module": "@jupyter-widgets/controls",
            "_model_module_version": "1.5.0",
            "_model_name": "HBoxModel",
            "_view_count": null,
            "_view_module": "@jupyter-widgets/controls",
            "_view_module_version": "1.5.0",
            "_view_name": "HBoxView",
            "box_style": "",
            "children": [
              "IPY_MODEL_0fcc530de08f4475be14180d1348a13c",
              "IPY_MODEL_aff283fc0f864e0796f5c5c197601184",
              "IPY_MODEL_02f59e6b3fbe4ae59101b4f443db3800"
            ],
            "layout": "IPY_MODEL_59982ec3a03b4ba9b5d6cc93a2c99efd"
          }
        },
        "0fcc530de08f4475be14180d1348a13c": {
          "model_module": "@jupyter-widgets/controls",
          "model_name": "HTMLModel",
          "model_module_version": "1.5.0",
          "state": {
            "_dom_classes": [],
            "_model_module": "@jupyter-widgets/controls",
            "_model_module_version": "1.5.0",
            "_model_name": "HTMLModel",
            "_view_count": null,
            "_view_module": "@jupyter-widgets/controls",
            "_view_module_version": "1.5.0",
            "_view_name": "HTMLView",
            "description": "",
            "description_tooltip": null,
            "layout": "IPY_MODEL_cdbaf04e30f24d42b9fdca82fa174ff3",
            "placeholder": "​",
            "style": "IPY_MODEL_b6c793db962d4b45b91277f5cd5b8bac",
            "value": ""
          }
        },
        "aff283fc0f864e0796f5c5c197601184": {
          "model_module": "@jupyter-widgets/controls",
          "model_name": "FloatProgressModel",
          "model_module_version": "1.5.0",
          "state": {
            "_dom_classes": [],
            "_model_module": "@jupyter-widgets/controls",
            "_model_module_version": "1.5.0",
            "_model_name": "FloatProgressModel",
            "_view_count": null,
            "_view_module": "@jupyter-widgets/controls",
            "_view_module_version": "1.5.0",
            "_view_name": "ProgressView",
            "bar_style": "success",
            "description": "",
            "description_tooltip": null,
            "layout": "IPY_MODEL_ef4cbc42daa34828ac6a40fed14788d4",
            "max": 1,
            "min": 0,
            "orientation": "horizontal",
            "style": "IPY_MODEL_cf1b3163d5c04789b65e78ffae2da2a5",
            "value": 1
          }
        },
        "02f59e6b3fbe4ae59101b4f443db3800": {
          "model_module": "@jupyter-widgets/controls",
          "model_name": "HTMLModel",
          "model_module_version": "1.5.0",
          "state": {
            "_dom_classes": [],
            "_model_module": "@jupyter-widgets/controls",
            "_model_module_version": "1.5.0",
            "_model_name": "HTMLModel",
            "_view_count": null,
            "_view_module": "@jupyter-widgets/controls",
            "_view_module_version": "1.5.0",
            "_view_name": "HTMLView",
            "description": "",
            "description_tooltip": null,
            "layout": "IPY_MODEL_2d6b0820477b4ae4b97255fa0a1a137c",
            "placeholder": "​",
            "style": "IPY_MODEL_75cc0c116d224f7c895193cf1b9477f3",
            "value": " 15/? [01:43&lt;00:00,  6.77s/it]"
          }
        },
        "59982ec3a03b4ba9b5d6cc93a2c99efd": {
          "model_module": "@jupyter-widgets/base",
          "model_name": "LayoutModel",
          "model_module_version": "1.2.0",
          "state": {
            "_model_module": "@jupyter-widgets/base",
            "_model_module_version": "1.2.0",
            "_model_name": "LayoutModel",
            "_view_count": null,
            "_view_module": "@jupyter-widgets/base",
            "_view_module_version": "1.2.0",
            "_view_name": "LayoutView",
            "align_content": null,
            "align_items": null,
            "align_self": null,
            "border": null,
            "bottom": null,
            "display": null,
            "flex": null,
            "flex_flow": null,
            "grid_area": null,
            "grid_auto_columns": null,
            "grid_auto_flow": null,
            "grid_auto_rows": null,
            "grid_column": null,
            "grid_gap": null,
            "grid_row": null,
            "grid_template_areas": null,
            "grid_template_columns": null,
            "grid_template_rows": null,
            "height": null,
            "justify_content": null,
            "justify_items": null,
            "left": null,
            "margin": null,
            "max_height": null,
            "max_width": null,
            "min_height": null,
            "min_width": null,
            "object_fit": null,
            "object_position": null,
            "order": null,
            "overflow": null,
            "overflow_x": null,
            "overflow_y": null,
            "padding": null,
            "right": null,
            "top": null,
            "visibility": null,
            "width": null
          }
        },
        "cdbaf04e30f24d42b9fdca82fa174ff3": {
          "model_module": "@jupyter-widgets/base",
          "model_name": "LayoutModel",
          "model_module_version": "1.2.0",
          "state": {
            "_model_module": "@jupyter-widgets/base",
            "_model_module_version": "1.2.0",
            "_model_name": "LayoutModel",
            "_view_count": null,
            "_view_module": "@jupyter-widgets/base",
            "_view_module_version": "1.2.0",
            "_view_name": "LayoutView",
            "align_content": null,
            "align_items": null,
            "align_self": null,
            "border": null,
            "bottom": null,
            "display": null,
            "flex": null,
            "flex_flow": null,
            "grid_area": null,
            "grid_auto_columns": null,
            "grid_auto_flow": null,
            "grid_auto_rows": null,
            "grid_column": null,
            "grid_gap": null,
            "grid_row": null,
            "grid_template_areas": null,
            "grid_template_columns": null,
            "grid_template_rows": null,
            "height": null,
            "justify_content": null,
            "justify_items": null,
            "left": null,
            "margin": null,
            "max_height": null,
            "max_width": null,
            "min_height": null,
            "min_width": null,
            "object_fit": null,
            "object_position": null,
            "order": null,
            "overflow": null,
            "overflow_x": null,
            "overflow_y": null,
            "padding": null,
            "right": null,
            "top": null,
            "visibility": null,
            "width": null
          }
        },
        "b6c793db962d4b45b91277f5cd5b8bac": {
          "model_module": "@jupyter-widgets/controls",
          "model_name": "DescriptionStyleModel",
          "model_module_version": "1.5.0",
          "state": {
            "_model_module": "@jupyter-widgets/controls",
            "_model_module_version": "1.5.0",
            "_model_name": "DescriptionStyleModel",
            "_view_count": null,
            "_view_module": "@jupyter-widgets/base",
            "_view_module_version": "1.2.0",
            "_view_name": "StyleView",
            "description_width": ""
          }
        },
        "ef4cbc42daa34828ac6a40fed14788d4": {
          "model_module": "@jupyter-widgets/base",
          "model_name": "LayoutModel",
          "model_module_version": "1.2.0",
          "state": {
            "_model_module": "@jupyter-widgets/base",
            "_model_module_version": "1.2.0",
            "_model_name": "LayoutModel",
            "_view_count": null,
            "_view_module": "@jupyter-widgets/base",
            "_view_module_version": "1.2.0",
            "_view_name": "LayoutView",
            "align_content": null,
            "align_items": null,
            "align_self": null,
            "border": null,
            "bottom": null,
            "display": null,
            "flex": null,
            "flex_flow": null,
            "grid_area": null,
            "grid_auto_columns": null,
            "grid_auto_flow": null,
            "grid_auto_rows": null,
            "grid_column": null,
            "grid_gap": null,
            "grid_row": null,
            "grid_template_areas": null,
            "grid_template_columns": null,
            "grid_template_rows": null,
            "height": null,
            "justify_content": null,
            "justify_items": null,
            "left": null,
            "margin": null,
            "max_height": null,
            "max_width": null,
            "min_height": null,
            "min_width": null,
            "object_fit": null,
            "object_position": null,
            "order": null,
            "overflow": null,
            "overflow_x": null,
            "overflow_y": null,
            "padding": null,
            "right": null,
            "top": null,
            "visibility": null,
            "width": "20px"
          }
        },
        "cf1b3163d5c04789b65e78ffae2da2a5": {
          "model_module": "@jupyter-widgets/controls",
          "model_name": "ProgressStyleModel",
          "model_module_version": "1.5.0",
          "state": {
            "_model_module": "@jupyter-widgets/controls",
            "_model_module_version": "1.5.0",
            "_model_name": "ProgressStyleModel",
            "_view_count": null,
            "_view_module": "@jupyter-widgets/base",
            "_view_module_version": "1.2.0",
            "_view_name": "StyleView",
            "bar_color": null,
            "description_width": ""
          }
        },
        "2d6b0820477b4ae4b97255fa0a1a137c": {
          "model_module": "@jupyter-widgets/base",
          "model_name": "LayoutModel",
          "model_module_version": "1.2.0",
          "state": {
            "_model_module": "@jupyter-widgets/base",
            "_model_module_version": "1.2.0",
            "_model_name": "LayoutModel",
            "_view_count": null,
            "_view_module": "@jupyter-widgets/base",
            "_view_module_version": "1.2.0",
            "_view_name": "LayoutView",
            "align_content": null,
            "align_items": null,
            "align_self": null,
            "border": null,
            "bottom": null,
            "display": null,
            "flex": null,
            "flex_flow": null,
            "grid_area": null,
            "grid_auto_columns": null,
            "grid_auto_flow": null,
            "grid_auto_rows": null,
            "grid_column": null,
            "grid_gap": null,
            "grid_row": null,
            "grid_template_areas": null,
            "grid_template_columns": null,
            "grid_template_rows": null,
            "height": null,
            "justify_content": null,
            "justify_items": null,
            "left": null,
            "margin": null,
            "max_height": null,
            "max_width": null,
            "min_height": null,
            "min_width": null,
            "object_fit": null,
            "object_position": null,
            "order": null,
            "overflow": null,
            "overflow_x": null,
            "overflow_y": null,
            "padding": null,
            "right": null,
            "top": null,
            "visibility": null,
            "width": null
          }
        },
        "75cc0c116d224f7c895193cf1b9477f3": {
          "model_module": "@jupyter-widgets/controls",
          "model_name": "DescriptionStyleModel",
          "model_module_version": "1.5.0",
          "state": {
            "_model_module": "@jupyter-widgets/controls",
            "_model_module_version": "1.5.0",
            "_model_name": "DescriptionStyleModel",
            "_view_count": null,
            "_view_module": "@jupyter-widgets/base",
            "_view_module_version": "1.2.0",
            "_view_name": "StyleView",
            "description_width": ""
          }
        }
      }
    }
  },
  "cells": [
    {
      "cell_type": "code",
      "source": [
        "!pip install moabb\n",
        "!pip install mne==1.6.1"
      ],
      "metadata": {
        "colab": {
          "base_uri": "https://localhost:8080/"
        },
        "collapsed": true,
        "id": "yGe9ggOqtdKt",
        "outputId": "429e14b3-c381-4aaf-841e-9502a3962a85"
      },
      "execution_count": null,
      "outputs": [
        {
          "output_type": "stream",
          "name": "stdout",
          "text": [
            "Collecting moabb\n",
            "  Downloading moabb-1.0.0-py3-none-any.whl (563 kB)\n",
            "\u001b[?25l     \u001b[90m━━━━━━━━━━━━━━━━━━━━━━━━━━━━━━━━━━━━━━━━\u001b[0m \u001b[32m0.0/563.8 kB\u001b[0m \u001b[31m?\u001b[0m eta \u001b[36m-:--:--\u001b[0m\r\u001b[2K     \u001b[91m━━━━━━━━━━\u001b[0m\u001b[90m╺\u001b[0m\u001b[90m━━━━━━━━━━━━━━━━━━━━━━━━━━━━━\u001b[0m \u001b[32m143.4/563.8 kB\u001b[0m \u001b[31m4.4 MB/s\u001b[0m eta \u001b[36m0:00:01\u001b[0m\r\u001b[2K     \u001b[91m━━━━━━━━━━━━━━━━━━━━━━━━━━━━━\u001b[0m\u001b[91m╸\u001b[0m\u001b[90m━━━━━━━━━━\u001b[0m \u001b[32m419.8/563.8 kB\u001b[0m \u001b[31m6.1 MB/s\u001b[0m eta \u001b[36m0:00:01\u001b[0m\r\u001b[2K     \u001b[90m━━━━━━━━━━━━━━━━━━━━━━━━━━━━━━━━━━━━━━━━\u001b[0m \u001b[32m563.8/563.8 kB\u001b[0m \u001b[31m5.8 MB/s\u001b[0m eta \u001b[36m0:00:00\u001b[0m\n",
            "\u001b[?25hRequirement already satisfied: PyYAML<7.0,>=6.0 in /usr/local/lib/python3.10/dist-packages (from moabb) (6.0.1)\n",
            "Collecting coverage<8.0.0,>=7.0.1 (from moabb)\n",
            "  Downloading coverage-7.5.1-cp310-cp310-manylinux_2_5_x86_64.manylinux1_x86_64.manylinux_2_17_x86_64.manylinux2014_x86_64.whl (231 kB)\n",
            "\u001b[2K     \u001b[90m━━━━━━━━━━━━━━━━━━━━━━━━━━━━━━━━━━━━━━━━\u001b[0m \u001b[32m231.7/231.7 kB\u001b[0m \u001b[31m7.8 MB/s\u001b[0m eta \u001b[36m0:00:00\u001b[0m\n",
            "\u001b[?25hCollecting edflib-python<2.0.0,>=1.0.6 (from moabb)\n",
            "  Downloading EDFlib_Python-1.0.8-py3-none-any.whl (26 kB)\n",
            "Collecting h5py<=3.8.0 (from moabb)\n",
            "  Downloading h5py-3.8.0-cp310-cp310-manylinux_2_17_x86_64.manylinux2014_x86_64.whl (4.6 MB)\n",
            "\u001b[2K     \u001b[90m━━━━━━━━━━━━━━━━━━━━━━━━━━━━━━━━━━━━━━━━\u001b[0m \u001b[32m4.6/4.6 MB\u001b[0m \u001b[31m18.1 MB/s\u001b[0m eta \u001b[36m0:00:00\u001b[0m\n",
            "\u001b[?25hRequirement already satisfied: matplotlib<4.0.0,>=3.6.2 in /usr/local/lib/python3.10/dist-packages (from moabb) (3.7.1)\n",
            "Collecting memory-profiler<0.62.0,>=0.61.0 (from moabb)\n",
            "  Downloading memory_profiler-0.61.0-py3-none-any.whl (31 kB)\n",
            "Collecting mne<2.0,>=1.4 (from moabb)\n",
            "  Downloading mne-1.7.0-py3-none-any.whl (7.4 MB)\n",
            "\u001b[2K     \u001b[90m━━━━━━━━━━━━━━━━━━━━━━━━━━━━━━━━━━━━━━━━\u001b[0m \u001b[32m7.4/7.4 MB\u001b[0m \u001b[31m37.7 MB/s\u001b[0m eta \u001b[36m0:00:00\u001b[0m\n",
            "\u001b[?25hCollecting mne-bids<0.14,>=0.13 (from moabb)\n",
            "  Downloading mne_bids-0.13-py2.py3-none-any.whl (1.2 MB)\n",
            "\u001b[2K     \u001b[90m━━━━━━━━━━━━━━━━━━━━━━━━━━━━━━━━━━━━━━━━\u001b[0m \u001b[32m1.2/1.2 MB\u001b[0m \u001b[31m43.6 MB/s\u001b[0m eta \u001b[36m0:00:00\u001b[0m\n",
            "\u001b[?25hRequirement already satisfied: numpy<2.0,>=1.22 in /usr/local/lib/python3.10/dist-packages (from moabb) (1.25.2)\n",
            "Collecting pandas<2.0.0,>=1.5.2 (from moabb)\n",
            "  Downloading pandas-1.5.3-cp310-cp310-manylinux_2_17_x86_64.manylinux2014_x86_64.whl (12.1 MB)\n",
            "\u001b[2K     \u001b[90m━━━━━━━━━━━━━━━━━━━━━━━━━━━━━━━━━━━━━━━━\u001b[0m \u001b[32m12.1/12.1 MB\u001b[0m \u001b[31m45.8 MB/s\u001b[0m eta \u001b[36m0:00:00\u001b[0m\n",
            "\u001b[?25hRequirement already satisfied: pooch<2.0.0,>=1.6.0 in /usr/local/lib/python3.10/dist-packages (from moabb) (1.8.1)\n",
            "Collecting pyriemann<0.6,>=0.5 (from moabb)\n",
            "  Downloading pyriemann-0.5.tar.gz (119 kB)\n",
            "\u001b[2K     \u001b[90m━━━━━━━━━━━━━━━━━━━━━━━━━━━━━━━━━━━━━━━━\u001b[0m \u001b[32m119.2/119.2 kB\u001b[0m \u001b[31m11.3 MB/s\u001b[0m eta \u001b[36m0:00:00\u001b[0m\n",
            "\u001b[?25h  Preparing metadata (setup.py) ... \u001b[?25l\u001b[?25hdone\n",
            "Requirement already satisfied: pytest<8.0.0,>=7.4.0 in /usr/local/lib/python3.10/dist-packages (from moabb) (7.4.4)\n",
            "Requirement already satisfied: requests<3.0.0,>=2.28.1 in /usr/local/lib/python3.10/dist-packages (from moabb) (2.31.0)\n",
            "Requirement already satisfied: scikit-learn<2.0.0,>=1.2.0 in /usr/local/lib/python3.10/dist-packages (from moabb) (1.2.2)\n",
            "Requirement already satisfied: scipy<2.0.0,>=1.9.3 in /usr/local/lib/python3.10/dist-packages (from moabb) (1.11.4)\n",
            "Collecting seaborn<0.13.0,>=0.12.1 (from moabb)\n",
            "  Downloading seaborn-0.12.2-py3-none-any.whl (293 kB)\n",
            "\u001b[2K     \u001b[90m━━━━━━━━━━━━━━━━━━━━━━━━━━━━━━━━━━━━━━━━\u001b[0m \u001b[32m293.3/293.3 kB\u001b[0m \u001b[31m5.8 MB/s\u001b[0m eta \u001b[36m0:00:00\u001b[0m\n",
            "\u001b[?25hRequirement already satisfied: tqdm<5.0.0,>=4.64.1 in /usr/local/lib/python3.10/dist-packages (from moabb) (4.66.4)\n",
            "Collecting urllib3<2.0.0,>=1.26.15 (from moabb)\n",
            "  Downloading urllib3-1.26.18-py2.py3-none-any.whl (143 kB)\n",
            "\u001b[2K     \u001b[90m━━━━━━━━━━━━━━━━━━━━━━━━━━━━━━━━━━━━━━━━\u001b[0m \u001b[32m143.8/143.8 kB\u001b[0m \u001b[31m13.2 MB/s\u001b[0m eta \u001b[36m0:00:00\u001b[0m\n",
            "\u001b[?25hRequirement already satisfied: contourpy>=1.0.1 in /usr/local/lib/python3.10/dist-packages (from matplotlib<4.0.0,>=3.6.2->moabb) (1.2.1)\n",
            "Requirement already satisfied: cycler>=0.10 in /usr/local/lib/python3.10/dist-packages (from matplotlib<4.0.0,>=3.6.2->moabb) (0.12.1)\n",
            "Requirement already satisfied: fonttools>=4.22.0 in /usr/local/lib/python3.10/dist-packages (from matplotlib<4.0.0,>=3.6.2->moabb) (4.51.0)\n",
            "Requirement already satisfied: kiwisolver>=1.0.1 in /usr/local/lib/python3.10/dist-packages (from matplotlib<4.0.0,>=3.6.2->moabb) (1.4.5)\n",
            "Requirement already satisfied: packaging>=20.0 in /usr/local/lib/python3.10/dist-packages (from matplotlib<4.0.0,>=3.6.2->moabb) (24.0)\n",
            "Requirement already satisfied: pillow>=6.2.0 in /usr/local/lib/python3.10/dist-packages (from matplotlib<4.0.0,>=3.6.2->moabb) (9.4.0)\n",
            "Requirement already satisfied: pyparsing>=2.3.1 in /usr/local/lib/python3.10/dist-packages (from matplotlib<4.0.0,>=3.6.2->moabb) (3.1.2)\n",
            "Requirement already satisfied: python-dateutil>=2.7 in /usr/local/lib/python3.10/dist-packages (from matplotlib<4.0.0,>=3.6.2->moabb) (2.8.2)\n",
            "Requirement already satisfied: psutil in /usr/local/lib/python3.10/dist-packages (from memory-profiler<0.62.0,>=0.61.0->moabb) (5.9.5)\n",
            "Requirement already satisfied: decorator in /usr/local/lib/python3.10/dist-packages (from mne<2.0,>=1.4->moabb) (4.4.2)\n",
            "Requirement already satisfied: jinja2 in /usr/local/lib/python3.10/dist-packages (from mne<2.0,>=1.4->moabb) (3.1.4)\n",
            "Requirement already satisfied: lazy-loader>=0.3 in /usr/local/lib/python3.10/dist-packages (from mne<2.0,>=1.4->moabb) (0.4)\n",
            "Requirement already satisfied: pytz>=2020.1 in /usr/local/lib/python3.10/dist-packages (from pandas<2.0.0,>=1.5.2->moabb) (2023.4)\n",
            "Requirement already satisfied: platformdirs>=2.5.0 in /usr/local/lib/python3.10/dist-packages (from pooch<2.0.0,>=1.6.0->moabb) (4.2.1)\n",
            "Requirement already satisfied: joblib in /usr/local/lib/python3.10/dist-packages (from pyriemann<0.6,>=0.5->moabb) (1.4.2)\n",
            "Requirement already satisfied: iniconfig in /usr/local/lib/python3.10/dist-packages (from pytest<8.0.0,>=7.4.0->moabb) (2.0.0)\n",
            "Requirement already satisfied: pluggy<2.0,>=0.12 in /usr/local/lib/python3.10/dist-packages (from pytest<8.0.0,>=7.4.0->moabb) (1.5.0)\n",
            "Requirement already satisfied: exceptiongroup>=1.0.0rc8 in /usr/local/lib/python3.10/dist-packages (from pytest<8.0.0,>=7.4.0->moabb) (1.2.1)\n",
            "Requirement already satisfied: tomli>=1.0.0 in /usr/local/lib/python3.10/dist-packages (from pytest<8.0.0,>=7.4.0->moabb) (2.0.1)\n",
            "Requirement already satisfied: charset-normalizer<4,>=2 in /usr/local/lib/python3.10/dist-packages (from requests<3.0.0,>=2.28.1->moabb) (3.3.2)\n",
            "Requirement already satisfied: idna<4,>=2.5 in /usr/local/lib/python3.10/dist-packages (from requests<3.0.0,>=2.28.1->moabb) (3.7)\n",
            "Requirement already satisfied: certifi>=2017.4.17 in /usr/local/lib/python3.10/dist-packages (from requests<3.0.0,>=2.28.1->moabb) (2024.2.2)\n",
            "Requirement already satisfied: threadpoolctl>=2.0.0 in /usr/local/lib/python3.10/dist-packages (from scikit-learn<2.0.0,>=1.2.0->moabb) (3.5.0)\n",
            "Requirement already satisfied: six>=1.5 in /usr/local/lib/python3.10/dist-packages (from python-dateutil>=2.7->matplotlib<4.0.0,>=3.6.2->moabb) (1.16.0)\n",
            "Requirement already satisfied: MarkupSafe>=2.0 in /usr/local/lib/python3.10/dist-packages (from jinja2->mne<2.0,>=1.4->moabb) (2.1.5)\n",
            "Building wheels for collected packages: pyriemann\n",
            "  Building wheel for pyriemann (setup.py) ... \u001b[?25l\u001b[?25hdone\n",
            "  Created wheel for pyriemann: filename=pyriemann-0.5-py2.py3-none-any.whl size=107752 sha256=1a78ff250bb2641f332bd67edd9906ff80d8096a4131322026387f4e35df12bb\n",
            "  Stored in directory: /root/.cache/pip/wheels/84/86/79/622e9c1dc933dc088e287ebfaac5aa9bdc6a38a9db193ce1f1\n",
            "Successfully built pyriemann\n",
            "Installing collected packages: urllib3, memory-profiler, h5py, edflib-python, coverage, pandas, seaborn, pyriemann, mne, mne-bids, moabb\n",
            "  Attempting uninstall: urllib3\n",
            "    Found existing installation: urllib3 2.0.7\n",
            "    Uninstalling urllib3-2.0.7:\n",
            "      Successfully uninstalled urllib3-2.0.7\n",
            "  Attempting uninstall: h5py\n",
            "    Found existing installation: h5py 3.9.0\n",
            "    Uninstalling h5py-3.9.0:\n",
            "      Successfully uninstalled h5py-3.9.0\n",
            "  Attempting uninstall: pandas\n",
            "    Found existing installation: pandas 2.0.3\n",
            "    Uninstalling pandas-2.0.3:\n",
            "      Successfully uninstalled pandas-2.0.3\n",
            "  Attempting uninstall: seaborn\n",
            "    Found existing installation: seaborn 0.13.1\n",
            "    Uninstalling seaborn-0.13.1:\n",
            "      Successfully uninstalled seaborn-0.13.1\n",
            "\u001b[31mERROR: pip's dependency resolver does not currently take into account all the packages that are installed. This behaviour is the source of the following dependency conflicts.\n",
            "cudf-cu12 24.4.1 requires pandas<2.2.2dev0,>=2.0, but you have pandas 1.5.3 which is incompatible.\n",
            "google-colab 1.0.0 requires pandas==2.0.3, but you have pandas 1.5.3 which is incompatible.\u001b[0m\u001b[31m\n",
            "\u001b[0mSuccessfully installed coverage-7.5.1 edflib-python-1.0.8 h5py-3.8.0 memory-profiler-0.61.0 mne-1.7.0 mne-bids-0.13 moabb-1.0.0 pandas-1.5.3 pyriemann-0.5 seaborn-0.12.2 urllib3-1.26.18\n",
            "Collecting mne==1.6.1\n",
            "  Downloading mne-1.6.1-py3-none-any.whl (8.3 MB)\n",
            "\u001b[2K     \u001b[90m━━━━━━━━━━━━━━━━━━━━━━━━━━━━━━━━━━━━━━━━\u001b[0m \u001b[32m8.3/8.3 MB\u001b[0m \u001b[31m20.1 MB/s\u001b[0m eta \u001b[36m0:00:00\u001b[0m\n",
            "\u001b[?25hRequirement already satisfied: numpy>=1.21.2 in /usr/local/lib/python3.10/dist-packages (from mne==1.6.1) (1.25.2)\n",
            "Requirement already satisfied: scipy>=1.7.1 in /usr/local/lib/python3.10/dist-packages (from mne==1.6.1) (1.11.4)\n",
            "Requirement already satisfied: matplotlib>=3.5.0 in /usr/local/lib/python3.10/dist-packages (from mne==1.6.1) (3.7.1)\n",
            "Requirement already satisfied: tqdm in /usr/local/lib/python3.10/dist-packages (from mne==1.6.1) (4.66.4)\n",
            "Requirement already satisfied: pooch>=1.5 in /usr/local/lib/python3.10/dist-packages (from mne==1.6.1) (1.8.1)\n",
            "Requirement already satisfied: decorator in /usr/local/lib/python3.10/dist-packages (from mne==1.6.1) (4.4.2)\n",
            "Requirement already satisfied: packaging in /usr/local/lib/python3.10/dist-packages (from mne==1.6.1) (24.0)\n",
            "Requirement already satisfied: jinja2 in /usr/local/lib/python3.10/dist-packages (from mne==1.6.1) (3.1.4)\n",
            "Requirement already satisfied: lazy-loader>=0.3 in /usr/local/lib/python3.10/dist-packages (from mne==1.6.1) (0.4)\n",
            "Requirement already satisfied: contourpy>=1.0.1 in /usr/local/lib/python3.10/dist-packages (from matplotlib>=3.5.0->mne==1.6.1) (1.2.1)\n",
            "Requirement already satisfied: cycler>=0.10 in /usr/local/lib/python3.10/dist-packages (from matplotlib>=3.5.0->mne==1.6.1) (0.12.1)\n",
            "Requirement already satisfied: fonttools>=4.22.0 in /usr/local/lib/python3.10/dist-packages (from matplotlib>=3.5.0->mne==1.6.1) (4.51.0)\n",
            "Requirement already satisfied: kiwisolver>=1.0.1 in /usr/local/lib/python3.10/dist-packages (from matplotlib>=3.5.0->mne==1.6.1) (1.4.5)\n",
            "Requirement already satisfied: pillow>=6.2.0 in /usr/local/lib/python3.10/dist-packages (from matplotlib>=3.5.0->mne==1.6.1) (9.4.0)\n",
            "Requirement already satisfied: pyparsing>=2.3.1 in /usr/local/lib/python3.10/dist-packages (from matplotlib>=3.5.0->mne==1.6.1) (3.1.2)\n",
            "Requirement already satisfied: python-dateutil>=2.7 in /usr/local/lib/python3.10/dist-packages (from matplotlib>=3.5.0->mne==1.6.1) (2.8.2)\n",
            "Requirement already satisfied: platformdirs>=2.5.0 in /usr/local/lib/python3.10/dist-packages (from pooch>=1.5->mne==1.6.1) (4.2.1)\n",
            "Requirement already satisfied: requests>=2.19.0 in /usr/local/lib/python3.10/dist-packages (from pooch>=1.5->mne==1.6.1) (2.31.0)\n",
            "Requirement already satisfied: MarkupSafe>=2.0 in /usr/local/lib/python3.10/dist-packages (from jinja2->mne==1.6.1) (2.1.5)\n",
            "Requirement already satisfied: six>=1.5 in /usr/local/lib/python3.10/dist-packages (from python-dateutil>=2.7->matplotlib>=3.5.0->mne==1.6.1) (1.16.0)\n",
            "Requirement already satisfied: charset-normalizer<4,>=2 in /usr/local/lib/python3.10/dist-packages (from requests>=2.19.0->pooch>=1.5->mne==1.6.1) (3.3.2)\n",
            "Requirement already satisfied: idna<4,>=2.5 in /usr/local/lib/python3.10/dist-packages (from requests>=2.19.0->pooch>=1.5->mne==1.6.1) (3.7)\n",
            "Requirement already satisfied: urllib3<3,>=1.21.1 in /usr/local/lib/python3.10/dist-packages (from requests>=2.19.0->pooch>=1.5->mne==1.6.1) (1.26.18)\n",
            "Requirement already satisfied: certifi>=2017.4.17 in /usr/local/lib/python3.10/dist-packages (from requests>=2.19.0->pooch>=1.5->mne==1.6.1) (2024.2.2)\n",
            "Installing collected packages: mne\n",
            "  Attempting uninstall: mne\n",
            "    Found existing installation: mne 1.7.0\n",
            "    Uninstalling mne-1.7.0:\n",
            "      Successfully uninstalled mne-1.7.0\n",
            "Successfully installed mne-1.6.1\n"
          ]
        }
      ]
    },
    {
      "cell_type": "code",
      "source": [
        "!nvidia-smi"
      ],
      "metadata": {
        "colab": {
          "base_uri": "https://localhost:8080/"
        },
        "id": "G2wTmLaAtftE",
        "outputId": "7364c1f2-ffc4-421b-d8a7-f1b7f4bb67a6"
      },
      "execution_count": null,
      "outputs": [
        {
          "output_type": "stream",
          "name": "stdout",
          "text": [
            "Wed Aug 21 22:37:55 2024       \n",
            "+---------------------------------------------------------------------------------------+\n",
            "| NVIDIA-SMI 531.79                 Driver Version: 531.79       CUDA Version: 12.1     |\n",
            "|-----------------------------------------+----------------------+----------------------+\n",
            "| GPU  Name                      TCC/WDDM | Bus-Id        Disp.A | Volatile Uncorr. ECC |\n",
            "| Fan  Temp  Perf            Pwr:Usage/Cap|         Memory-Usage | GPU-Util  Compute M. |\n",
            "|                                         |                      |               MIG M. |\n",
            "|=========================================+======================+======================|\n",
            "|   0  NVIDIA GeForce GTX 1650       WDDM | 00000000:01:00.0 Off |                  N/A |\n",
            "| N/A   48C    P8                2W /  N/A|      0MiB /  4096MiB |      0%      Default |\n",
            "|                                         |                      |                  N/A |\n",
            "+-----------------------------------------+----------------------+----------------------+\n",
            "                                                                                         \n",
            "+---------------------------------------------------------------------------------------+\n",
            "| Processes:                                                                            |\n",
            "|  GPU   GI   CI        PID   Type   Process name                            GPU Memory |\n",
            "|        ID   ID                                                             Usage      |\n",
            "|=======================================================================================|\n",
            "|    0   N/A  N/A      2996    C+G   C:\\Windows\\explorer.exe                   N/A      |\n",
            "+---------------------------------------------------------------------------------------+\n"
          ]
        }
      ]
    },
    {
      "cell_type": "markdown",
      "source": [
        "# Análise espectral"
      ],
      "metadata": {
        "id": "WBcPuawznFeS"
      }
    },
    {
      "cell_type": "markdown",
      "source": [
        "### P300"
      ],
      "metadata": {
        "id": "FDMH7rsaoz9X"
      }
    },
    {
      "cell_type": "code",
      "source": [
        "import warnings\n",
        "\n",
        "import matplotlib.pyplot as plt\n",
        "import numpy as np\n",
        "\n",
        "from moabb.datasets import Cattan2019_PHMD\n",
        "from moabb.paradigms import RestingStateToP300Adapter\n",
        "\n",
        "\n",
        "warnings.filterwarnings(\"ignore\")"
      ],
      "metadata": {
        "id": "bJk4DEDGnFNK",
        "colab": {
          "base_uri": "https://localhost:8080/"
        },
        "outputId": "85c8c7d1-f395-44f1-ed89-b2fa231de38f"
      },
      "execution_count": null,
      "outputs": [
        {
          "output_type": "stream",
          "name": "stderr",
          "text": [
            "<frozen importlib._bootstrap>:241: FutureWarning: mne.io.pick.pick_types is deprecated will be removed in 1.6, use documented public API instead. If no appropriate public API exists, please open an issue on GitHub.\n",
            "<frozen importlib._bootstrap>:241: FutureWarning: mne.io.pick.pick_channels_regexp is deprecated will be removed in 1.6, use documented public API instead. If no appropriate public API exists, please open an issue on GitHub.\n",
            "<frozen importlib._bootstrap>:241: FutureWarning: mne.io.pick.channel_type is deprecated will be removed in 1.6, use documented public API instead. If no appropriate public API exists, please open an issue on GitHub.\n",
            "C:\\Users\\machi\\anaconda3\\Lib\\site-packages\\paramiko\\transport.py:219: CryptographyDeprecationWarning: Blowfish has been deprecated and will be removed in a future release\n",
            "  \"class\": algorithms.Blowfish,\n"
          ]
        },
        {
          "output_type": "stream",
          "name": "stdout",
          "text": [
            "To use the get_shape_from_baseconcar, InputShapeSetterEEG, BraindecodeDatasetLoaderyou need to install `braindecode`.`pip install braindecode` or Please refer to `https://braindecode.org`.\n"
          ]
        },
        {
          "output_type": "stream",
          "name": "stderr",
          "text": [
            "C:\\Users\\machi\\anaconda3\\Lib\\site-packages\\moabb\\pipelines\\__init__.py:26: ModuleNotFoundError: Tensorflow is not installed. You won't be able to use these MOABB pipelines if you attempt to do so.\n",
            "  warn(\n"
          ]
        }
      ]
    },
    {
      "cell_type": "code",
      "source": [
        "# Select channel and subject for the remaining of the example.\n",
        "channel = \"Cz\"\n",
        "subject = 10\n",
        "\n",
        "dataset = Cattan2019_PHMD()\n",
        "events = [\"on\", \"off\"]\n",
        "paradigm = RestingStateToP300Adapter(events=events, channels=[channel])"
      ],
      "metadata": {
        "id": "H3uwJGuFo3sv"
      },
      "execution_count": null,
      "outputs": []
    },
    {
      "cell_type": "code",
      "source": [
        "f, S, _, y = paradigm.psd(subject, dataset)"
      ],
      "metadata": {
        "id": "N617VoZwo_KX",
        "colab": {
          "base_uri": "https://localhost:8080/",
          "height": 141
        },
        "outputId": "dcda6c54-97e8-4a4f-f49e-ae316dc87fa0"
      },
      "execution_count": null,
      "outputs": [
        {
          "output_type": "error",
          "ename": "AttributeError",
          "evalue": "'SSVEP' object has no attribute 'psd'",
          "traceback": [
            "\u001b[1;31m---------------------------------------------------------------------------\u001b[0m",
            "\u001b[1;31mAttributeError\u001b[0m                            Traceback (most recent call last)",
            "Cell \u001b[1;32mIn[123], line 1\u001b[0m\n\u001b[1;32m----> 1\u001b[0m f, S, _, y \u001b[38;5;241m=\u001b[39m paradigm\u001b[38;5;241m.\u001b[39mpsd(subject, dataset)\n",
            "\u001b[1;31mAttributeError\u001b[0m: 'SSVEP' object has no attribute 'psd'"
          ]
        }
      ]
    },
    {
      "cell_type": "code",
      "source": [
        "fig, ax = plt.subplots(facecolor=\"white\", figsize=(8.2, 5.1))\n",
        "for condition in events:\n",
        "    mean_power = np.mean(S[y == condition], axis=0).flatten()\n",
        "    ax.plot(f, 10 * np.log10(mean_power), label=condition)\n",
        "\n",
        "ax.set_xlim(paradigm.fmin, paradigm.fmax)\n",
        "ax.set_ylim(100, 135)\n",
        "ax.set_ylabel(\"Spectrum Magnitude (dB)\", fontsize=14)\n",
        "ax.set_xlabel(\"Frequency (Hz)\", fontsize=14)\n",
        "ax.set_title(\"PSD for Channel \" + channel, fontsize=16)\n",
        "ax.legend()\n",
        "fig.show()"
      ],
      "metadata": {
        "id": "xTEJdrEPpCeo",
        "colab": {
          "base_uri": "https://localhost:8080/",
          "height": 506
        },
        "outputId": "6d8b1bff-2061-4a53-faea-39834250f67d"
      },
      "execution_count": null,
      "outputs": [
        {
          "output_type": "display_data",
          "data": {
            "text/plain": [
              "<Figure size 820x510 with 1 Axes>"
            ],
            "image/png": "[encoded data removed]"
          },
          "metadata": {}
        }
      ]
    },
    {
      "cell_type": "markdown",
      "source": [
        "### PSD SSVEP"
      ],
      "metadata": {
        "id": "G-I9J_ZJ6lYi"
      }
    },
    {
      "cell_type": "markdown",
      "source": [
        "### Download dataset"
      ],
      "metadata": {
        "id": "SM8reMdnZsNI"
      }
    },
    {
      "cell_type": "code",
      "source": [
        "# Dowbnload dataset since something is bronken in the lib\n",
        "import urllib.request\n",
        "import numpy as np\n",
        "import pandas as pd\n",
        "from tqdm.notebook import trange, tqdm\n",
        "\n",
        "# subjects = np.arange(1, 36)\n",
        "# urls = [f\"http://bci.med.tsinghua.edu.cn/upload/yijun/S{str(s)}.mat.7z\" for s in subjects]\n",
        "# for url in tqdm(urls):\n",
        "#   urllib.request.urlretrieve(url, f\"C:\\\\Users\\\\machi\\\\Downloads\\\\{url.split('/')[-1]}\")\n",
        "# print(\"File downloaded successfully!\")\n",
        "# urls"
      ],
      "metadata": {
        "id": "hyoZ7Hlc9oXg"
      },
      "execution_count": null,
      "outputs": []
    },
    {
      "cell_type": "code",
      "source": [
        "!pip install py7zr\n",
        "import py7zr"
      ],
      "metadata": {
        "colab": {
          "base_uri": "https://localhost:8080/"
        },
        "id": "rltd_tR5F6Ad",
        "outputId": "ed2fe15a-de4c-4bc1-de14-c4fc82a5945f"
      },
      "execution_count": null,
      "outputs": [
        {
          "output_type": "stream",
          "name": "stdout",
          "text": [
            "Collecting py7zr\n",
            "  Downloading py7zr-0.21.0-py3-none-any.whl.metadata (17 kB)\n",
            "Collecting texttable (from py7zr)\n",
            "  Downloading texttable-1.7.0-py2.py3-none-any.whl.metadata (9.8 kB)\n",
            "Collecting pycryptodomex>=3.16.0 (from py7zr)\n",
            "  Downloading pycryptodomex-3.20.0-cp35-abi3-win_amd64.whl.metadata (3.4 kB)\n",
            "Collecting pyzstd>=0.15.9 (from py7zr)\n",
            "  Downloading pyzstd-0.16.0-cp311-cp311-win_amd64.whl.metadata (2.5 kB)\n",
            "Collecting pyppmd<1.2.0,>=1.1.0 (from py7zr)\n",
            "  Downloading pyppmd-1.1.0-cp311-cp311-win_amd64.whl.metadata (5.8 kB)\n",
            "Collecting pybcj<1.1.0,>=1.0.0 (from py7zr)\n",
            "  Downloading pybcj-1.0.2-cp311-cp311-win_amd64.whl.metadata (4.1 kB)\n",
            "Collecting multivolumefile>=0.2.3 (from py7zr)\n",
            "  Downloading multivolumefile-0.2.3-py3-none-any.whl.metadata (6.3 kB)\n",
            "Collecting inflate64<1.1.0,>=1.0.0 (from py7zr)\n",
            "  Downloading inflate64-1.0.0-cp311-cp311-win_amd64.whl.metadata (4.1 kB)\n",
            "Collecting brotli>=1.1.0 (from py7zr)\n",
            "  Downloading Brotli-1.1.0-cp311-cp311-win_amd64.whl.metadata (5.6 kB)\n",
            "Requirement already satisfied: psutil in c:\\users\\machi\\anaconda3\\lib\\site-packages (from py7zr) (5.9.0)\n",
            "Downloading py7zr-0.21.0-py3-none-any.whl (67 kB)\n",
            "   ---------------------------------------- 0.0/67.6 kB ? eta -:--:--\n",
            "   ---------------------------------------- 67.6/67.6 kB 1.8 MB/s eta 0:00:00\n",
            "Downloading Brotli-1.1.0-cp311-cp311-win_amd64.whl (357 kB)\n",
            "   ---------------------------------------- 0.0/357.3 kB ? eta -:--:--\n",
            "   --------------------------------------- 357.3/357.3 kB 11.2 MB/s eta 0:00:00\n",
            "Downloading inflate64-1.0.0-cp311-cp311-win_amd64.whl (35 kB)\n",
            "Downloading multivolumefile-0.2.3-py3-none-any.whl (17 kB)\n",
            "Downloading pybcj-1.0.2-cp311-cp311-win_amd64.whl (24 kB)\n",
            "Downloading pycryptodomex-3.20.0-cp35-abi3-win_amd64.whl (1.8 MB)\n",
            "   ---------------------------------------- 0.0/1.8 MB ? eta -:--:--\n",
            "   ---------------- ----------------------- 0.7/1.8 MB 15.3 MB/s eta 0:00:01\n",
            "   ---------------------------------------  1.8/1.8 MB 18.6 MB/s eta 0:00:01\n",
            "   ---------------------------------------- 1.8/1.8 MB 16.1 MB/s eta 0:00:00\n",
            "Downloading pyppmd-1.1.0-cp311-cp311-win_amd64.whl (46 kB)\n",
            "   ---------------------------------------- 0.0/46.1 kB ? eta -:--:--\n",
            "   ---------------------------------------- 46.1/46.1 kB 2.2 MB/s eta 0:00:00\n",
            "Downloading pyzstd-0.16.0-cp311-cp311-win_amd64.whl (245 kB)\n",
            "   ---------------------------------------- 0.0/245.7 kB ? eta -:--:--\n",
            "   --------------------------------------- 245.7/245.7 kB 14.7 MB/s eta 0:00:00\n",
            "Downloading texttable-1.7.0-py2.py3-none-any.whl (10 kB)\n",
            "Installing collected packages: texttable, brotli, pyzstd, pyppmd, pycryptodomex, pybcj, multivolumefile, inflate64, py7zr\n",
            "  Attempting uninstall: brotli\n",
            "    Found existing installation: Brotli 1.0.9\n",
            "    Uninstalling Brotli-1.0.9:\n",
            "      Successfully uninstalled Brotli-1.0.9\n",
            "Successfully installed brotli-1.1.0 inflate64-1.0.0 multivolumefile-0.2.3 py7zr-0.21.0 pybcj-1.0.2 pycryptodomex-3.20.0 pyppmd-1.1.0 pyzstd-0.16.0 texttable-1.7.0\n"
          ]
        },
        {
          "output_type": "stream",
          "name": "stderr",
          "text": [
            "  WARNING: Failed to remove contents in a temporary directory 'C:\\Users\\machi\\AppData\\Local\\Temp\\pip-uninstall-otx5a9lp'.\n",
            "  You can safely remove it manually.\n"
          ]
        }
      ]
    },
    {
      "cell_type": "code",
      "source": [
        "\n",
        "import shutil\n",
        "from pyunpack import Archive\n"
      ],
      "metadata": {
        "id": "aCxz8b6MGOgn"
      },
      "execution_count": null,
      "outputs": []
    },
    {
      "cell_type": "code",
      "source": [
        "import py7zr\n",
        "subjects = np.arange(21, 36)\n",
        "donwloaded_files =\n",
        "\n",
        "  [f\"C:\\\\Users\\\\machi\\\\Downloads\\\\S{i}.mat.7z\" for i in subjects]\n",
        "for d, i in tqdm(zip(donwloaded_files, subjects)):\n",
        "  with py7zr.SevenZipFile(d, 'r') as archive:\n",
        "    archive.extractall(path=f\"C:\\\\Users\\\\machi\\\\Downloads\")\n",
        "    shutil.move(f\"C:\\\\Users\\\\machi\\\\Downloads\\\\S{i}.mat\", f\"C:\\\\Users\\\\machi\\\\mne_data\\\\MNE-wang-data\\\\pub\\\\ssvep_benchmark_dataset\\\\S{i}.mat\")\n",
        "\n"
      ],
      "metadata": {
        "colab": {
          "base_uri": "https://localhost:8080/",
          "height": 49,
          "referenced_widgets": [
            "5dddc0e55d484d2ca3012b9b50e678d2",
            "0fcc530de08f4475be14180d1348a13c",
            "aff283fc0f864e0796f5c5c197601184",
            "02f59e6b3fbe4ae59101b4f443db3800",
            "59982ec3a03b4ba9b5d6cc93a2c99efd",
            "cdbaf04e30f24d42b9fdca82fa174ff3",
            "b6c793db962d4b45b91277f5cd5b8bac",
            "ef4cbc42daa34828ac6a40fed14788d4",
            "cf1b3163d5c04789b65e78ffae2da2a5",
            "2d6b0820477b4ae4b97255fa0a1a137c",
            "75cc0c116d224f7c895193cf1b9477f3"
          ]
        },
        "id": "bsZR8W3lFIEF",
        "outputId": "b70d1350-56bd-494a-f07a-1540a5c6dee3"
      },
      "execution_count": null,
      "outputs": [
        {
          "output_type": "display_data",
          "data": {
            "text/plain": [
              "0it [00:00, ?it/s]"
            ],
            "application/vnd.jupyter.widget-view+json": {
              "version_major": 2,
              "version_minor": 0,
              "model_id": "5dddc0e55d484d2ca3012b9b50e678d2"
            }
          },
          "metadata": {}
        }
      ]
    },
    {
      "cell_type": "markdown",
      "source": [
        "### Test download data"
      ],
      "metadata": {
        "id": "YIt0WVw8Z8BN"
      }
    },
    {
      "cell_type": "code",
      "source": [
        "from moabb.paradigms import SSVEP\n",
        "from moabb.pipelines import SSVEP_CCA"
      ],
      "metadata": {
        "id": "77PU2UzC6pC2",
        "colab": {
          "base_uri": "https://localhost:8080/"
        },
        "outputId": "6b5f87f2-d54a-43bc-d18d-543a36ac8e3e"
      },
      "execution_count": null,
      "outputs": [
        {
          "output_type": "stream",
          "name": "stderr",
          "text": [
            "<frozen importlib._bootstrap>:241: FutureWarning: mne.io.pick.pick_types is deprecated will be removed in 1.6, use documented public API instead. If no appropriate public API exists, please open an issue on GitHub.\n",
            "<frozen importlib._bootstrap>:241: FutureWarning: mne.io.pick.pick_channels_regexp is deprecated will be removed in 1.6, use documented public API instead. If no appropriate public API exists, please open an issue on GitHub.\n",
            "<frozen importlib._bootstrap>:241: FutureWarning: mne.io.pick.channel_type is deprecated will be removed in 1.6, use documented public API instead. If no appropriate public API exists, please open an issue on GitHub.\n",
            "C:\\Users\\machi\\anaconda3\\Lib\\site-packages\\paramiko\\transport.py:219: CryptographyDeprecationWarning: Blowfish has been deprecated and will be removed in a future release\n",
            "  \"class\": algorithms.Blowfish,\n"
          ]
        },
        {
          "output_type": "stream",
          "name": "stdout",
          "text": [
            "To use the get_shape_from_baseconcar, InputShapeSetterEEG, BraindecodeDatasetLoaderyou need to install `braindecode`.`pip install braindecode` or Please refer to `https://braindecode.org`.\n"
          ]
        },
        {
          "output_type": "stream",
          "name": "stderr",
          "text": [
            "C:\\Users\\machi\\anaconda3\\Lib\\site-packages\\moabb\\pipelines\\__init__.py:26: ModuleNotFoundError: Tensorflow is not installed. You won't be able to use these MOABB pipelines if you attempt to do so.\n",
            "  warn(\n"
          ]
        }
      ]
    },
    {
      "cell_type": "code",
      "execution_count": null,
      "metadata": {
        "colab": {
          "base_uri": "https://localhost:8080/"
        },
        "id": "Jw-Bj97ZNiNx",
        "outputId": "e339c0f3-eb90-41c5-b0de-2d37e23c4c95"
      },
      "outputs": [
        {
          "output_type": "stream",
          "name": "stderr",
          "text": [
            "Choosing the first None classes from all possible events\n",
            "C:\\Users\\machi\\anaconda3\\Lib\\site-packages\\moabb\\datasets\\fake.py:93: RuntimeWarning: Setting non-standard config type: \"MNE_DATASETS_FAKEDATASET-IMAGERY-10-2--60-60--120-120--FAKE1-FAKE2-FAKE3--C3-CZ-C4_PATH\"\n",
            "  set_config(key, temp_dir)\n",
            "C:\\Users\\machi\\anaconda3\\Lib\\site-packages\\moabb\\datasets\\fake.py:93: RuntimeWarning: Setting non-standard config type: \"MNE_DATASETS_FAKEVIRTUALREALITYDATASET-P300-21-1--60-60-60-60-60-60-60-60-60-60-60-60-60-60-60-60-60-60-60-60-60-60-60-60-60-60-60-60-60-60-60-60-60-60-60-60-60-60-60-60-60-60-60-60-60-60-60-60-60-60-60-60-60-60-60-60-60-60-60-60--120-120-120-120-120-120-120-120-120-120-120-120-120-120-120-120-120-120-120-120-120-120-120-120-120-120-120-120-120-120-120-120-120-120-120-120-120-120-120-120-120-120-120-120-120-120-120-120-120-120-120-120-120-120-120-120-120-120-120-120--TARGET-NONTARGET--C3-CZ-C4_PATH\"\n",
            "  set_config(key, temp_dir)\n"
          ]
        },
        {
          "output_type": "execute_result",
          "data": {
            "text/plain": [
              "[<moabb.datasets.ssvep_exo.Kalunga2016 at 0x23b5d553150>,\n",
              " <moabb.datasets.Lee2019.Lee2019_SSVEP at 0x23b5d9585d0>,\n",
              " <moabb.datasets.ssvep_mamem.MAMEM1 at 0x23b5d958090>,\n",
              " <moabb.datasets.ssvep_mamem.MAMEM2 at 0x23b5d60ae50>,\n",
              " <moabb.datasets.ssvep_mamem.MAMEM3 at 0x23b5d45b410>,\n",
              " <moabb.datasets.ssvep_nakanishi.Nakanishi2015 at 0x23b51fa2190>,\n",
              " <moabb.datasets.ssvep_wang.Wang2016 at 0x23b5d95ae90>]"
            ]
          },
          "metadata": {},
          "execution_count": 5
        }
      ],
      "source": [
        "paradigm = SSVEP()\n",
        "paradigm.datasets"
      ]
    },
    {
      "cell_type": "code",
      "source": [
        "from moabb.datasets import Wang2016"
      ],
      "metadata": {
        "id": "TKgGqVMe6_dR"
      },
      "execution_count": null,
      "outputs": []
    },
    {
      "cell_type": "code",
      "source": [
        "channel = \"Oz\"\n",
        "events = [\"8\", \"15\"]\n",
        "dataset = Wang2016()"
      ],
      "metadata": {
        "id": "txbTOxNtNsSm"
      },
      "execution_count": null,
      "outputs": []
    },
    {
      "cell_type": "code",
      "source": [
        "paradigm = SSVEP(channels=[channel], events=events, n_classes=2)\n",
        "freqs = paradigm.used_events(dataset)\n",
        "X, y, _ = paradigm.get_data(dataset)"
      ],
      "metadata": {
        "id": "N0shYI6CXZ92",
        "colab": {
          "base_uri": "https://localhost:8080/"
        },
        "collapsed": true,
        "outputId": "6a6f7606-ac16-469c-f3ea-11344c798856"
      },
      "execution_count": null,
      "outputs": [
        {
          "output_type": "stream",
          "name": "stderr",
          "text": [
            "Trial data de-meaned and concatenated with a buffer to create continuous data\n",
            "C:\\Users\\machi\\anaconda3\\Lib\\site-packages\\sklearn\\preprocessing\\_function_transformer.py:310: FutureWarning: The current default of copy=False will change to copy=True in 1.7. Set the value of copy explicitly to avoid this warning\n",
            "  return func(X, **(kw_args if kw_args else {}))\n",
            "Trial data de-meaned and concatenated with a buffer to create continuous data\n",
            "C:\\Users\\machi\\anaconda3\\Lib\\site-packages\\sklearn\\preprocessing\\_function_transformer.py:310: FutureWarning: The current default of copy=False will change to copy=True in 1.7. Set the value of copy explicitly to avoid this warning\n",
            "  return func(X, **(kw_args if kw_args else {}))\n",
            "Trial data de-meaned and concatenated with a buffer to create continuous data\n",
            "C:\\Users\\machi\\anaconda3\\Lib\\site-packages\\sklearn\\preprocessing\\_function_transformer.py:310: FutureWarning: The current default of copy=False will change to copy=True in 1.7. Set the value of copy explicitly to avoid this warning\n",
            "  return func(X, **(kw_args if kw_args else {}))\n",
            "Trial data de-meaned and concatenated with a buffer to create continuous data\n",
            "C:\\Users\\machi\\anaconda3\\Lib\\site-packages\\sklearn\\preprocessing\\_function_transformer.py:310: FutureWarning: The current default of copy=False will change to copy=True in 1.7. Set the value of copy explicitly to avoid this warning\n",
            "  return func(X, **(kw_args if kw_args else {}))\n",
            "Trial data de-meaned and concatenated with a buffer to create continuous data\n",
            "C:\\Users\\machi\\anaconda3\\Lib\\site-packages\\sklearn\\preprocessing\\_function_transformer.py:310: FutureWarning: The current default of copy=False will change to copy=True in 1.7. Set the value of copy explicitly to avoid this warning\n",
            "  return func(X, **(kw_args if kw_args else {}))\n",
            "Trial data de-meaned and concatenated with a buffer to create continuous data\n",
            "C:\\Users\\machi\\anaconda3\\Lib\\site-packages\\sklearn\\preprocessing\\_function_transformer.py:310: FutureWarning: The current default of copy=False will change to copy=True in 1.7. Set the value of copy explicitly to avoid this warning\n",
            "  return func(X, **(kw_args if kw_args else {}))\n",
            "Trial data de-meaned and concatenated with a buffer to create continuous data\n",
            "C:\\Users\\machi\\anaconda3\\Lib\\site-packages\\sklearn\\preprocessing\\_function_transformer.py:310: FutureWarning: The current default of copy=False will change to copy=True in 1.7. Set the value of copy explicitly to avoid this warning\n",
            "  return func(X, **(kw_args if kw_args else {}))\n",
            "Trial data de-meaned and concatenated with a buffer to create continuous data\n",
            "C:\\Users\\machi\\anaconda3\\Lib\\site-packages\\sklearn\\preprocessing\\_function_transformer.py:310: FutureWarning: The current default of copy=False will change to copy=True in 1.7. Set the value of copy explicitly to avoid this warning\n",
            "  return func(X, **(kw_args if kw_args else {}))\n",
            "Trial data de-meaned and concatenated with a buffer to create continuous data\n",
            "C:\\Users\\machi\\anaconda3\\Lib\\site-packages\\sklearn\\preprocessing\\_function_transformer.py:310: FutureWarning: The current default of copy=False will change to copy=True in 1.7. Set the value of copy explicitly to avoid this warning\n",
            "  return func(X, **(kw_args if kw_args else {}))\n",
            "Trial data de-meaned and concatenated with a buffer to create continuous data\n",
            "C:\\Users\\machi\\anaconda3\\Lib\\site-packages\\sklearn\\preprocessing\\_function_transformer.py:310: FutureWarning: The current default of copy=False will change to copy=True in 1.7. Set the value of copy explicitly to avoid this warning\n",
            "  return func(X, **(kw_args if kw_args else {}))\n",
            "Trial data de-meaned and concatenated with a buffer to create continuous data\n",
            "C:\\Users\\machi\\anaconda3\\Lib\\site-packages\\sklearn\\preprocessing\\_function_transformer.py:310: FutureWarning: The current default of copy=False will change to copy=True in 1.7. Set the value of copy explicitly to avoid this warning\n",
            "  return func(X, **(kw_args if kw_args else {}))\n",
            "Trial data de-meaned and concatenated with a buffer to create continuous data\n",
            "C:\\Users\\machi\\anaconda3\\Lib\\site-packages\\sklearn\\preprocessing\\_function_transformer.py:310: FutureWarning: The current default of copy=False will change to copy=True in 1.7. Set the value of copy explicitly to avoid this warning\n",
            "  return func(X, **(kw_args if kw_args else {}))\n",
            "Trial data de-meaned and concatenated with a buffer to create continuous data\n",
            "C:\\Users\\machi\\anaconda3\\Lib\\site-packages\\sklearn\\preprocessing\\_function_transformer.py:310: FutureWarning: The current default of copy=False will change to copy=True in 1.7. Set the value of copy explicitly to avoid this warning\n",
            "  return func(X, **(kw_args if kw_args else {}))\n",
            "Trial data de-meaned and concatenated with a buffer to create continuous data\n",
            "C:\\Users\\machi\\anaconda3\\Lib\\site-packages\\sklearn\\preprocessing\\_function_transformer.py:310: FutureWarning: The current default of copy=False will change to copy=True in 1.7. Set the value of copy explicitly to avoid this warning\n",
            "  return func(X, **(kw_args if kw_args else {}))\n",
            "Trial data de-meaned and concatenated with a buffer to create continuous data\n",
            "C:\\Users\\machi\\anaconda3\\Lib\\site-packages\\sklearn\\preprocessing\\_function_transformer.py:310: FutureWarning: The current default of copy=False will change to copy=True in 1.7. Set the value of copy explicitly to avoid this warning\n",
            "  return func(X, **(kw_args if kw_args else {}))\n",
            "Trial data de-meaned and concatenated with a buffer to create continuous data\n",
            "C:\\Users\\machi\\anaconda3\\Lib\\site-packages\\sklearn\\preprocessing\\_function_transformer.py:310: FutureWarning: The current default of copy=False will change to copy=True in 1.7. Set the value of copy explicitly to avoid this warning\n",
            "  return func(X, **(kw_args if kw_args else {}))\n",
            "Trial data de-meaned and concatenated with a buffer to create continuous data\n",
            "C:\\Users\\machi\\anaconda3\\Lib\\site-packages\\sklearn\\preprocessing\\_function_transformer.py:310: FutureWarning: The current default of copy=False will change to copy=True in 1.7. Set the value of copy explicitly to avoid this warning\n",
            "  return func(X, **(kw_args if kw_args else {}))\n",
            "Trial data de-meaned and concatenated with a buffer to create continuous data\n",
            "C:\\Users\\machi\\anaconda3\\Lib\\site-packages\\sklearn\\preprocessing\\_function_transformer.py:310: FutureWarning: The current default of copy=False will change to copy=True in 1.7. Set the value of copy explicitly to avoid this warning\n",
            "  return func(X, **(kw_args if kw_args else {}))\n",
            "Trial data de-meaned and concatenated with a buffer to create continuous data\n",
            "C:\\Users\\machi\\anaconda3\\Lib\\site-packages\\sklearn\\preprocessing\\_function_transformer.py:310: FutureWarning: The current default of copy=False will change to copy=True in 1.7. Set the value of copy explicitly to avoid this warning\n",
            "  return func(X, **(kw_args if kw_args else {}))\n",
            "Trial data de-meaned and concatenated with a buffer to create continuous data\n",
            "C:\\Users\\machi\\anaconda3\\Lib\\site-packages\\sklearn\\preprocessing\\_function_transformer.py:310: FutureWarning: The current default of copy=False will change to copy=True in 1.7. Set the value of copy explicitly to avoid this warning\n",
            "  return func(X, **(kw_args if kw_args else {}))\n",
            "Trial data de-meaned and concatenated with a buffer to create continuous data\n",
            "C:\\Users\\machi\\anaconda3\\Lib\\site-packages\\sklearn\\preprocessing\\_function_transformer.py:310: FutureWarning: The current default of copy=False will change to copy=True in 1.7. Set the value of copy explicitly to avoid this warning\n",
            "  return func(X, **(kw_args if kw_args else {}))\n",
            "Trial data de-meaned and concatenated with a buffer to create continuous data\n",
            "C:\\Users\\machi\\anaconda3\\Lib\\site-packages\\sklearn\\preprocessing\\_function_transformer.py:310: FutureWarning: The current default of copy=False will change to copy=True in 1.7. Set the value of copy explicitly to avoid this warning\n",
            "  return func(X, **(kw_args if kw_args else {}))\n",
            "Trial data de-meaned and concatenated with a buffer to create continuous data\n",
            "C:\\Users\\machi\\anaconda3\\Lib\\site-packages\\sklearn\\preprocessing\\_function_transformer.py:310: FutureWarning: The current default of copy=False will change to copy=True in 1.7. Set the value of copy explicitly to avoid this warning\n",
            "  return func(X, **(kw_args if kw_args else {}))\n",
            "Trial data de-meaned and concatenated with a buffer to create continuous data\n",
            "C:\\Users\\machi\\anaconda3\\Lib\\site-packages\\sklearn\\preprocessing\\_function_transformer.py:310: FutureWarning: The current default of copy=False will change to copy=True in 1.7. Set the value of copy explicitly to avoid this warning\n",
            "  return func(X, **(kw_args if kw_args else {}))\n",
            "Trial data de-meaned and concatenated with a buffer to create continuous data\n",
            "C:\\Users\\machi\\anaconda3\\Lib\\site-packages\\sklearn\\preprocessing\\_function_transformer.py:310: FutureWarning: The current default of copy=False will change to copy=True in 1.7. Set the value of copy explicitly to avoid this warning\n",
            "  return func(X, **(kw_args if kw_args else {}))\n",
            "Trial data de-meaned and concatenated with a buffer to create continuous data\n",
            "C:\\Users\\machi\\anaconda3\\Lib\\site-packages\\sklearn\\preprocessing\\_function_transformer.py:310: FutureWarning: The current default of copy=False will change to copy=True in 1.7. Set the value of copy explicitly to avoid this warning\n",
            "  return func(X, **(kw_args if kw_args else {}))\n",
            "Trial data de-meaned and concatenated with a buffer to create continuous data\n",
            "C:\\Users\\machi\\anaconda3\\Lib\\site-packages\\sklearn\\preprocessing\\_function_transformer.py:310: FutureWarning: The current default of copy=False will change to copy=True in 1.7. Set the value of copy explicitly to avoid this warning\n",
            "  return func(X, **(kw_args if kw_args else {}))\n",
            "Trial data de-meaned and concatenated with a buffer to create continuous data\n",
            "C:\\Users\\machi\\anaconda3\\Lib\\site-packages\\sklearn\\preprocessing\\_function_transformer.py:310: FutureWarning: The current default of copy=False will change to copy=True in 1.7. Set the value of copy explicitly to avoid this warning\n",
            "  return func(X, **(kw_args if kw_args else {}))\n",
            "Trial data de-meaned and concatenated with a buffer to create continuous data\n",
            "C:\\Users\\machi\\anaconda3\\Lib\\site-packages\\sklearn\\preprocessing\\_function_transformer.py:310: FutureWarning: The current default of copy=False will change to copy=True in 1.7. Set the value of copy explicitly to avoid this warning\n",
            "  return func(X, **(kw_args if kw_args else {}))\n",
            "Trial data de-meaned and concatenated with a buffer to create continuous data\n",
            "C:\\Users\\machi\\anaconda3\\Lib\\site-packages\\sklearn\\preprocessing\\_function_transformer.py:310: FutureWarning: The current default of copy=False will change to copy=True in 1.7. Set the value of copy explicitly to avoid this warning\n",
            "  return func(X, **(kw_args if kw_args else {}))\n",
            "Trial data de-meaned and concatenated with a buffer to create continuous data\n",
            "C:\\Users\\machi\\anaconda3\\Lib\\site-packages\\sklearn\\preprocessing\\_function_transformer.py:310: FutureWarning: The current default of copy=False will change to copy=True in 1.7. Set the value of copy explicitly to avoid this warning\n",
            "  return func(X, **(kw_args if kw_args else {}))\n",
            "Trial data de-meaned and concatenated with a buffer to create continuous data\n",
            "C:\\Users\\machi\\anaconda3\\Lib\\site-packages\\sklearn\\preprocessing\\_function_transformer.py:310: FutureWarning: The current default of copy=False will change to copy=True in 1.7. Set the value of copy explicitly to avoid this warning\n",
            "  return func(X, **(kw_args if kw_args else {}))\n",
            "Trial data de-meaned and concatenated with a buffer to create continuous data\n",
            "C:\\Users\\machi\\anaconda3\\Lib\\site-packages\\sklearn\\preprocessing\\_function_transformer.py:310: FutureWarning: The current default of copy=False will change to copy=True in 1.7. Set the value of copy explicitly to avoid this warning\n",
            "  return func(X, **(kw_args if kw_args else {}))\n",
            "Trial data de-meaned and concatenated with a buffer to create continuous data\n",
            "C:\\Users\\machi\\anaconda3\\Lib\\site-packages\\sklearn\\preprocessing\\_function_transformer.py:310: FutureWarning: The current default of copy=False will change to copy=True in 1.7. Set the value of copy explicitly to avoid this warning\n",
            "  return func(X, **(kw_args if kw_args else {}))\n"
          ]
        }
      ]
    },
    {
      "cell_type": "code",
      "source": [
        "X.shape"
      ],
      "metadata": {
        "colab": {
          "base_uri": "https://localhost:8080/"
        },
        "id": "y7W55Y-ME6_a",
        "outputId": "37806eab-7d2a-4b2b-8d9d-6046d7053302"
      },
      "execution_count": null,
      "outputs": [
        {
          "output_type": "execute_result",
          "data": {
            "text/plain": [
              "(408, 1, 1251)"
            ]
          },
          "metadata": {},
          "execution_count": 9
        }
      ]
    },
    {
      "cell_type": "code",
      "source": [
        "from scipy.signal import welch\n",
        "def psd(paradigm, subject, dataset):\n",
        "    X, y, _ = paradigm.get_data(dataset, [subject])\n",
        "    f, S = welch(X, axis=-1, nperseg=1024, fs=250)\n",
        "    return (f, S, X, y)\n"
      ],
      "metadata": {
        "id": "t9DCEpK08GW5"
      },
      "execution_count": null,
      "outputs": []
    },
    {
      "cell_type": "code",
      "source": [
        "f, S, _, y = psd(paradigm, subject, dataset)"
      ],
      "metadata": {
        "colab": {
          "base_uri": "https://localhost:8080/"
        },
        "id": "h_UrB34o-DuV",
        "outputId": "50b6128a-8750-4423-c1a9-fa3e358cf874"
      },
      "execution_count": null,
      "outputs": [
        {
          "output_type": "stream",
          "name": "stderr",
          "text": [
            "Trial data de-meaned and concatenated with a buffer to create continuous data\n",
            "C:\\Users\\machi\\anaconda3\\Lib\\site-packages\\sklearn\\preprocessing\\_function_transformer.py:310: FutureWarning: The current default of copy=False will change to copy=True in 1.7. Set the value of copy explicitly to avoid this warning\n",
            "  return func(X, **(kw_args if kw_args else {}))\n"
          ]
        }
      ]
    },
    {
      "cell_type": "code",
      "source": [
        "import matplotlib.pyplot as plt\n"
      ],
      "metadata": {
        "id": "oyWlWttNPz9u"
      },
      "execution_count": null,
      "outputs": []
    },
    {
      "cell_type": "code",
      "source": [
        "fig, ax = plt.subplots(facecolor=\"white\", figsize=(8.2, 5.1))\n",
        "for condition in events:\n",
        "    mean_power = np.mean(S[y == condition], axis=0).flatten()\n",
        "    ax.plot(f, mean_power , label=condition)\n",
        "\n",
        "ax.set_xlim(7, 16)\n",
        "\n",
        "ax.set_ylabel(\"Spectrum Magnitude\", fontsize=14)\n",
        "ax.set_xlabel(\"Frequency (Hz)\", fontsize=14)\n",
        "ax.set_title(\"PSD for Channel \" + channel, fontsize=16)\n",
        "ax.legend()\n",
        "fig.show()"
      ],
      "metadata": {
        "colab": {
          "base_uri": "https://localhost:8080/",
          "height": 541
        },
        "id": "i_FO-ZOFLDWd",
        "outputId": "c9d8fa7d-ee29-450f-c316-6effd0a869a6"
      },
      "execution_count": null,
      "outputs": [
        {
          "output_type": "stream",
          "name": "stderr",
          "text": [
            "C:\\Users\\machi\\AppData\\Local\\Temp\\ipykernel_14460\\1468363745.py:12: UserWarning: FigureCanvasAgg is non-interactive, and thus cannot be shown\n",
            "  fig.show()\n"
          ]
        },
        {
          "output_type": "display_data",
          "data": {
            "text/plain": [
              "<Figure size 820x510 with 1 Axes>"
            ],
            "image/png": "[encoded data removed]"
          },
          "metadata": {}
        }
      ]
    },
    {
      "cell_type": "markdown",
      "source": [
        "# Classificação"
      ],
      "metadata": {
        "id": "eTOWkm3QSwTQ"
      }
    },
    {
      "cell_type": "code",
      "source": [
        "\n",
        "import warnings\n",
        "\n",
        "import matplotlib.pyplot as plt\n",
        "import pandas as pd\n",
        "import seaborn as sns\n",
        "from pyriemann.estimation import Covariances\n",
        "from pyriemann.tangentspace import TangentSpace\n",
        "from sklearn.linear_model import LogisticRegression\n",
        "from sklearn.pipeline import make_pipeline\n",
        "\n",
        "import moabb\n",
        "from moabb.datasets import Kalunga2016\n",
        "from moabb.evaluations import CrossSubjectEvaluation\n",
        "from moabb.paradigms import SSVEP, FilterBankSSVEP\n",
        "from moabb.pipelines import SSVEP_CCA, SSVEP_TRCA, ExtendedSSVEPSignal, SSVEP_MsetCCA"
      ],
      "metadata": {
        "colab": {
          "base_uri": "https://localhost:8080/"
        },
        "id": "7C267sMzaiAL",
        "outputId": "77164b64-7685-4522-997e-48f55467a6f3"
      },
      "execution_count": null,
      "outputs": [
        {
          "output_type": "stream",
          "name": "stderr",
          "text": [
            "<frozen importlib._bootstrap>:241: FutureWarning: mne.io.pick.pick_types is deprecated will be removed in 1.6, use documented public API instead. If no appropriate public API exists, please open an issue on GitHub.\n",
            "<frozen importlib._bootstrap>:241: FutureWarning: mne.io.pick.pick_channels_regexp is deprecated will be removed in 1.6, use documented public API instead. If no appropriate public API exists, please open an issue on GitHub.\n",
            "<frozen importlib._bootstrap>:241: FutureWarning: mne.io.pick.channel_type is deprecated will be removed in 1.6, use documented public API instead. If no appropriate public API exists, please open an issue on GitHub.\n",
            "C:\\Users\\machi\\anaconda3\\Lib\\site-packages\\paramiko\\transport.py:219: CryptographyDeprecationWarning: Blowfish has been deprecated and will be removed in a future release\n",
            "  \"class\": algorithms.Blowfish,\n"
          ]
        },
        {
          "output_type": "stream",
          "name": "stdout",
          "text": [
            "To use the get_shape_from_baseconcar, InputShapeSetterEEG, BraindecodeDatasetLoaderyou need to install `braindecode`.`pip install braindecode` or Please refer to `https://braindecode.org`.\n"
          ]
        },
        {
          "output_type": "stream",
          "name": "stderr",
          "text": [
            "C:\\Users\\machi\\anaconda3\\Lib\\site-packages\\moabb\\pipelines\\__init__.py:26: ModuleNotFoundError: Tensorflow is not installed. You won't be able to use these MOABB pipelines if you attempt to do so.\n",
            "  warn(\n"
          ]
        }
      ]
    },
    {
      "cell_type": "code",
      "source": [],
      "metadata": {
        "id": "O-7n6JoLTVP0"
      },
      "execution_count": null,
      "outputs": []
    },
    {
      "cell_type": "code",
      "source": [
        "interval = dataset.interval\n",
        "interval"
      ],
      "metadata": {
        "colab": {
          "base_uri": "https://localhost:8080/"
        },
        "id": "rsj_18mFXCeZ",
        "outputId": "d3bb38ca-3cc2-4a4a-945c-1ca3dd9b8f47"
      },
      "execution_count": null,
      "outputs": [
        {
          "output_type": "execute_result",
          "data": {
            "text/plain": [
              "[0.5, 5.5]"
            ]
          },
          "metadata": {},
          "execution_count": 4
        }
      ]
    },
    {
      "cell_type": "code",
      "source": [
        "freqs = paradigm.used_events(dataset)\n",
        "freqs"
      ],
      "metadata": {
        "colab": {
          "base_uri": "https://localhost:8080/"
        },
        "id": "nXAzC95BX9Mx",
        "outputId": "35a3fb92-8ace-49fb-db79-5a9f87f3eae5"
      },
      "execution_count": null,
      "outputs": [
        {
          "output_type": "execute_result",
          "data": {
            "text/plain": [
              "{'8': 1, '15': 8}"
            ]
          },
          "metadata": {},
          "execution_count": 9
        }
      ]
    },
    {
      "cell_type": "code",
      "source": [
        "pipelines = {}\n",
        "pipelines[\"CCA\"] = make_pipeline(SSVEP_CCA(interval=interval, freqs=freqs, n_harmonics=4))"
      ],
      "metadata": {
        "id": "Dgihs-BxP5wH"
      },
      "execution_count": null,
      "outputs": []
    },
    {
      "cell_type": "code",
      "source": [
        "overwrite = True  # set to True if we want to overwrite cached results\n",
        "\n",
        "CrossSubjectEvaluation(\n",
        "    paradigm=paradigm, datasets=dataset, overwrite=overwrite\n",
        ")\n",
        "results = evaluation.process(pipelines)"
      ],
      "metadata": {
        "colab": {
          "base_uri": "https://localhost:8080/"
        },
        "id": "6moDzWlNajgO",
        "outputId": "21aefd77-1a87-4d15-a3c3-b2d54305da0d"
      },
      "execution_count": null,
      "outputs": [
        {
          "output_type": "stream",
          "name": "stderr",
          "text": [
            "Trial data de-meaned and concatenated with a buffer to create continuous data\n",
            "C:\\Users\\machi\\anaconda3\\Lib\\site-packages\\sklearn\\preprocessing\\_function_transformer.py:310: FutureWarning: The current default of copy=False will change to copy=True in 1.7. Set the value of copy explicitly to avoid this warning\n",
            "  return func(X, **(kw_args if kw_args else {}))\n",
            "Trial data de-meaned and concatenated with a buffer to create continuous data\n",
            "C:\\Users\\machi\\anaconda3\\Lib\\site-packages\\sklearn\\preprocessing\\_function_transformer.py:310: FutureWarning: The current default of copy=False will change to copy=True in 1.7. Set the value of copy explicitly to avoid this warning\n",
            "  return func(X, **(kw_args if kw_args else {}))\n",
            "Trial data de-meaned and concatenated with a buffer to create continuous data\n",
            "C:\\Users\\machi\\anaconda3\\Lib\\site-packages\\sklearn\\preprocessing\\_function_transformer.py:310: FutureWarning: The current default of copy=False will change to copy=True in 1.7. Set the value of copy explicitly to avoid this warning\n",
            "  return func(X, **(kw_args if kw_args else {}))\n",
            "Trial data de-meaned and concatenated with a buffer to create continuous data\n",
            "C:\\Users\\machi\\anaconda3\\Lib\\site-packages\\sklearn\\preprocessing\\_function_transformer.py:310: FutureWarning: The current default of copy=False will change to copy=True in 1.7. Set the value of copy explicitly to avoid this warning\n",
            "  return func(X, **(kw_args if kw_args else {}))\n",
            "Trial data de-meaned and concatenated with a buffer to create continuous data\n",
            "C:\\Users\\machi\\anaconda3\\Lib\\site-packages\\sklearn\\preprocessing\\_function_transformer.py:310: FutureWarning: The current default of copy=False will change to copy=True in 1.7. Set the value of copy explicitly to avoid this warning\n",
            "  return func(X, **(kw_args if kw_args else {}))\n",
            "Trial data de-meaned and concatenated with a buffer to create continuous data\n",
            "C:\\Users\\machi\\anaconda3\\Lib\\site-packages\\sklearn\\preprocessing\\_function_transformer.py:310: FutureWarning: The current default of copy=False will change to copy=True in 1.7. Set the value of copy explicitly to avoid this warning\n",
            "  return func(X, **(kw_args if kw_args else {}))\n",
            "Trial data de-meaned and concatenated with a buffer to create continuous data\n",
            "C:\\Users\\machi\\anaconda3\\Lib\\site-packages\\sklearn\\preprocessing\\_function_transformer.py:310: FutureWarning: The current default of copy=False will change to copy=True in 1.7. Set the value of copy explicitly to avoid this warning\n",
            "  return func(X, **(kw_args if kw_args else {}))\n",
            "Trial data de-meaned and concatenated with a buffer to create continuous data\n",
            "C:\\Users\\machi\\anaconda3\\Lib\\site-packages\\sklearn\\preprocessing\\_function_transformer.py:310: FutureWarning: The current default of copy=False will change to copy=True in 1.7. Set the value of copy explicitly to avoid this warning\n",
            "  return func(X, **(kw_args if kw_args else {}))\n",
            "Trial data de-meaned and concatenated with a buffer to create continuous data\n",
            "C:\\Users\\machi\\anaconda3\\Lib\\site-packages\\sklearn\\preprocessing\\_function_transformer.py:310: FutureWarning: The current default of copy=False will change to copy=True in 1.7. Set the value of copy explicitly to avoid this warning\n",
            "  return func(X, **(kw_args if kw_args else {}))\n",
            "Trial data de-meaned and concatenated with a buffer to create continuous data\n",
            "C:\\Users\\machi\\anaconda3\\Lib\\site-packages\\sklearn\\preprocessing\\_function_transformer.py:310: FutureWarning: The current default of copy=False will change to copy=True in 1.7. Set the value of copy explicitly to avoid this warning\n",
            "  return func(X, **(kw_args if kw_args else {}))\n",
            "Trial data de-meaned and concatenated with a buffer to create continuous data\n",
            "C:\\Users\\machi\\anaconda3\\Lib\\site-packages\\sklearn\\preprocessing\\_function_transformer.py:310: FutureWarning: The current default of copy=False will change to copy=True in 1.7. Set the value of copy explicitly to avoid this warning\n",
            "  return func(X, **(kw_args if kw_args else {}))\n",
            "Trial data de-meaned and concatenated with a buffer to create continuous data\n",
            "C:\\Users\\machi\\anaconda3\\Lib\\site-packages\\sklearn\\preprocessing\\_function_transformer.py:310: FutureWarning: The current default of copy=False will change to copy=True in 1.7. Set the value of copy explicitly to avoid this warning\n",
            "  return func(X, **(kw_args if kw_args else {}))\n",
            "Trial data de-meaned and concatenated with a buffer to create continuous data\n",
            "C:\\Users\\machi\\anaconda3\\Lib\\site-packages\\sklearn\\preprocessing\\_function_transformer.py:310: FutureWarning: The current default of copy=False will change to copy=True in 1.7. Set the value of copy explicitly to avoid this warning\n",
            "  return func(X, **(kw_args if kw_args else {}))\n",
            "Trial data de-meaned and concatenated with a buffer to create continuous data\n",
            "C:\\Users\\machi\\anaconda3\\Lib\\site-packages\\sklearn\\preprocessing\\_function_transformer.py:310: FutureWarning: The current default of copy=False will change to copy=True in 1.7. Set the value of copy explicitly to avoid this warning\n",
            "  return func(X, **(kw_args if kw_args else {}))\n",
            "Trial data de-meaned and concatenated with a buffer to create continuous data\n",
            "C:\\Users\\machi\\anaconda3\\Lib\\site-packages\\sklearn\\preprocessing\\_function_transformer.py:310: FutureWarning: The current default of copy=False will change to copy=True in 1.7. Set the value of copy explicitly to avoid this warning\n",
            "  return func(X, **(kw_args if kw_args else {}))\n",
            "Trial data de-meaned and concatenated with a buffer to create continuous data\n",
            "C:\\Users\\machi\\anaconda3\\Lib\\site-packages\\sklearn\\preprocessing\\_function_transformer.py:310: FutureWarning: The current default of copy=False will change to copy=True in 1.7. Set the value of copy explicitly to avoid this warning\n",
            "  return func(X, **(kw_args if kw_args else {}))\n",
            "Trial data de-meaned and concatenated with a buffer to create continuous data\n",
            "C:\\Users\\machi\\anaconda3\\Lib\\site-packages\\sklearn\\preprocessing\\_function_transformer.py:310: FutureWarning: The current default of copy=False will change to copy=True in 1.7. Set the value of copy explicitly to avoid this warning\n",
            "  return func(X, **(kw_args if kw_args else {}))\n",
            "Trial data de-meaned and concatenated with a buffer to create continuous data\n",
            "C:\\Users\\machi\\anaconda3\\Lib\\site-packages\\sklearn\\preprocessing\\_function_transformer.py:310: FutureWarning: The current default of copy=False will change to copy=True in 1.7. Set the value of copy explicitly to avoid this warning\n",
            "  return func(X, **(kw_args if kw_args else {}))\n",
            "Trial data de-meaned and concatenated with a buffer to create continuous data\n",
            "C:\\Users\\machi\\anaconda3\\Lib\\site-packages\\sklearn\\preprocessing\\_function_transformer.py:310: FutureWarning: The current default of copy=False will change to copy=True in 1.7. Set the value of copy explicitly to avoid this warning\n",
            "  return func(X, **(kw_args if kw_args else {}))\n",
            "Trial data de-meaned and concatenated with a buffer to create continuous data\n",
            "C:\\Users\\machi\\anaconda3\\Lib\\site-packages\\sklearn\\preprocessing\\_function_transformer.py:310: FutureWarning: The current default of copy=False will change to copy=True in 1.7. Set the value of copy explicitly to avoid this warning\n",
            "  return func(X, **(kw_args if kw_args else {}))\n",
            "Trial data de-meaned and concatenated with a buffer to create continuous data\n",
            "C:\\Users\\machi\\anaconda3\\Lib\\site-packages\\sklearn\\preprocessing\\_function_transformer.py:310: FutureWarning: The current default of copy=False will change to copy=True in 1.7. Set the value of copy explicitly to avoid this warning\n",
            "  return func(X, **(kw_args if kw_args else {}))\n",
            "Trial data de-meaned and concatenated with a buffer to create continuous data\n",
            "C:\\Users\\machi\\anaconda3\\Lib\\site-packages\\sklearn\\preprocessing\\_function_transformer.py:310: FutureWarning: The current default of copy=False will change to copy=True in 1.7. Set the value of copy explicitly to avoid this warning\n",
            "  return func(X, **(kw_args if kw_args else {}))\n",
            "Trial data de-meaned and concatenated with a buffer to create continuous data\n",
            "C:\\Users\\machi\\anaconda3\\Lib\\site-packages\\sklearn\\preprocessing\\_function_transformer.py:310: FutureWarning: The current default of copy=False will change to copy=True in 1.7. Set the value of copy explicitly to avoid this warning\n",
            "  return func(X, **(kw_args if kw_args else {}))\n",
            "Trial data de-meaned and concatenated with a buffer to create continuous data\n",
            "C:\\Users\\machi\\anaconda3\\Lib\\site-packages\\sklearn\\preprocessing\\_function_transformer.py:310: FutureWarning: The current default of copy=False will change to copy=True in 1.7. Set the value of copy explicitly to avoid this warning\n",
            "  return func(X, **(kw_args if kw_args else {}))\n",
            "Trial data de-meaned and concatenated with a buffer to create continuous data\n",
            "C:\\Users\\machi\\anaconda3\\Lib\\site-packages\\sklearn\\preprocessing\\_function_transformer.py:310: FutureWarning: The current default of copy=False will change to copy=True in 1.7. Set the value of copy explicitly to avoid this warning\n",
            "  return func(X, **(kw_args if kw_args else {}))\n",
            "Trial data de-meaned and concatenated with a buffer to create continuous data\n",
            "C:\\Users\\machi\\anaconda3\\Lib\\site-packages\\sklearn\\preprocessing\\_function_transformer.py:310: FutureWarning: The current default of copy=False will change to copy=True in 1.7. Set the value of copy explicitly to avoid this warning\n",
            "  return func(X, **(kw_args if kw_args else {}))\n",
            "Trial data de-meaned and concatenated with a buffer to create continuous data\n",
            "C:\\Users\\machi\\anaconda3\\Lib\\site-packages\\sklearn\\preprocessing\\_function_transformer.py:310: FutureWarning: The current default of copy=False will change to copy=True in 1.7. Set the value of copy explicitly to avoid this warning\n",
            "  return func(X, **(kw_args if kw_args else {}))\n",
            "Trial data de-meaned and concatenated with a buffer to create continuous data\n",
            "C:\\Users\\machi\\anaconda3\\Lib\\site-packages\\sklearn\\preprocessing\\_function_transformer.py:310: FutureWarning: The current default of copy=False will change to copy=True in 1.7. Set the value of copy explicitly to avoid this warning\n",
            "  return func(X, **(kw_args if kw_args else {}))\n",
            "Trial data de-meaned and concatenated with a buffer to create continuous data\n",
            "C:\\Users\\machi\\anaconda3\\Lib\\site-packages\\sklearn\\preprocessing\\_function_transformer.py:310: FutureWarning: The current default of copy=False will change to copy=True in 1.7. Set the value of copy explicitly to avoid this warning\n",
            "  return func(X, **(kw_args if kw_args else {}))\n",
            "Trial data de-meaned and concatenated with a buffer to create continuous data\n",
            "C:\\Users\\machi\\anaconda3\\Lib\\site-packages\\sklearn\\preprocessing\\_function_transformer.py:310: FutureWarning: The current default of copy=False will change to copy=True in 1.7. Set the value of copy explicitly to avoid this warning\n",
            "  return func(X, **(kw_args if kw_args else {}))\n",
            "Trial data de-meaned and concatenated with a buffer to create continuous data\n",
            "C:\\Users\\machi\\anaconda3\\Lib\\site-packages\\sklearn\\preprocessing\\_function_transformer.py:310: FutureWarning: The current default of copy=False will change to copy=True in 1.7. Set the value of copy explicitly to avoid this warning\n",
            "  return func(X, **(kw_args if kw_args else {}))\n",
            "Trial data de-meaned and concatenated with a buffer to create continuous data\n",
            "C:\\Users\\machi\\anaconda3\\Lib\\site-packages\\sklearn\\preprocessing\\_function_transformer.py:310: FutureWarning: The current default of copy=False will change to copy=True in 1.7. Set the value of copy explicitly to avoid this warning\n",
            "  return func(X, **(kw_args if kw_args else {}))\n",
            "Trial data de-meaned and concatenated with a buffer to create continuous data\n",
            "C:\\Users\\machi\\anaconda3\\Lib\\site-packages\\sklearn\\preprocessing\\_function_transformer.py:310: FutureWarning: The current default of copy=False will change to copy=True in 1.7. Set the value of copy explicitly to avoid this warning\n",
            "  return func(X, **(kw_args if kw_args else {}))\n",
            "Trial data de-meaned and concatenated with a buffer to create continuous data\n",
            "C:\\Users\\machi\\anaconda3\\Lib\\site-packages\\sklearn\\preprocessing\\_function_transformer.py:310: FutureWarning: The current default of copy=False will change to copy=True in 1.7. Set the value of copy explicitly to avoid this warning\n",
            "  return func(X, **(kw_args if kw_args else {}))\n",
            "Wang2016-CrossSubject:   0%|                                                                    | 0/34 [00:00<?, ?it/s]\n"
          ]
        },
        {
          "output_type": "error",
          "ename": "IndexError",
          "evalue": "index 0 is out of bounds for axis 0 with size 0",
          "traceback": [
            "\u001b[1;31m---------------------------------------------------------------------------\u001b[0m",
            "\u001b[1;31mAttributeError\u001b[0m                            Traceback (most recent call last)",
            "File \u001b[1;32m~\\anaconda3\\Lib\\site-packages\\sklearn\\metrics\\_scorer.py:373\u001b[0m, in \u001b[0;36m_ThresholdScorer._score\u001b[1;34m(self, method_caller, clf, X, y, sample_weight)\u001b[0m\n\u001b[0;32m    372\u001b[0m \u001b[38;5;28;01mtry\u001b[39;00m:\n\u001b[1;32m--> 373\u001b[0m     y_pred \u001b[38;5;241m=\u001b[39m method_caller(clf, \u001b[38;5;124m\"\u001b[39m\u001b[38;5;124mdecision_function\u001b[39m\u001b[38;5;124m\"\u001b[39m, X)\n\u001b[0;32m    375\u001b[0m     \u001b[38;5;28;01mif\u001b[39;00m \u001b[38;5;28misinstance\u001b[39m(y_pred, \u001b[38;5;28mlist\u001b[39m):\n\u001b[0;32m    376\u001b[0m         \u001b[38;5;66;03m# For multi-output multi-class estimator\u001b[39;00m\n",
            "File \u001b[1;32m~\\anaconda3\\Lib\\site-packages\\sklearn\\metrics\\_scorer.py:73\u001b[0m, in \u001b[0;36m_cached_call\u001b[1;34m(cache, estimator, method, *args, **kwargs)\u001b[0m\n\u001b[0;32m     72\u001b[0m \u001b[38;5;28;01mif\u001b[39;00m cache \u001b[38;5;129;01mis\u001b[39;00m \u001b[38;5;28;01mNone\u001b[39;00m:\n\u001b[1;32m---> 73\u001b[0m     \u001b[38;5;28;01mreturn\u001b[39;00m \u001b[38;5;28mgetattr\u001b[39m(estimator, method)(\u001b[38;5;241m*\u001b[39margs, \u001b[38;5;241m*\u001b[39m\u001b[38;5;241m*\u001b[39mkwargs)\n\u001b[0;32m     75\u001b[0m \u001b[38;5;28;01mtry\u001b[39;00m:\n",
            "File \u001b[1;32m~\\anaconda3\\Lib\\site-packages\\sklearn\\utils\\_available_if.py:32\u001b[0m, in \u001b[0;36m_AvailableIfDescriptor.__get__\u001b[1;34m(self, obj, owner)\u001b[0m\n\u001b[0;32m     29\u001b[0m \u001b[38;5;28;01mif\u001b[39;00m obj \u001b[38;5;129;01mis\u001b[39;00m \u001b[38;5;129;01mnot\u001b[39;00m \u001b[38;5;28;01mNone\u001b[39;00m:\n\u001b[0;32m     30\u001b[0m     \u001b[38;5;66;03m# delegate only on instances, not the classes.\u001b[39;00m\n\u001b[0;32m     31\u001b[0m     \u001b[38;5;66;03m# this is to allow access to the docstrings.\u001b[39;00m\n\u001b[1;32m---> 32\u001b[0m     \u001b[38;5;28;01mif\u001b[39;00m \u001b[38;5;129;01mnot\u001b[39;00m \u001b[38;5;28mself\u001b[39m\u001b[38;5;241m.\u001b[39mcheck(obj):\n\u001b[0;32m     33\u001b[0m         \u001b[38;5;28;01mraise\u001b[39;00m attr_err\n",
            "File \u001b[1;32m~\\anaconda3\\Lib\\site-packages\\sklearn\\pipeline.py:46\u001b[0m, in \u001b[0;36m_final_estimator_has.<locals>.check\u001b[1;34m(self)\u001b[0m\n\u001b[0;32m     44\u001b[0m \u001b[38;5;28;01mdef\u001b[39;00m \u001b[38;5;21mcheck\u001b[39m(\u001b[38;5;28mself\u001b[39m):\n\u001b[0;32m     45\u001b[0m     \u001b[38;5;66;03m# raise original `AttributeError` if `attr` does not exist\u001b[39;00m\n\u001b[1;32m---> 46\u001b[0m     \u001b[38;5;28mgetattr\u001b[39m(\u001b[38;5;28mself\u001b[39m\u001b[38;5;241m.\u001b[39m_final_estimator, attr)\n\u001b[0;32m     47\u001b[0m     \u001b[38;5;28;01mreturn\u001b[39;00m \u001b[38;5;28;01mTrue\u001b[39;00m\n",
            "\u001b[1;31mAttributeError\u001b[0m: 'SSVEP_CCA' object has no attribute 'decision_function'",
            "\nDuring handling of the above exception, another exception occurred:\n",
            "\u001b[1;31mIndexError\u001b[0m                                Traceback (most recent call last)",
            "Cell \u001b[1;32mIn[12], line 6\u001b[0m\n\u001b[0;32m      1\u001b[0m overwrite \u001b[38;5;241m=\u001b[39m \u001b[38;5;28;01mTrue\u001b[39;00m  \u001b[38;5;66;03m# set to True if we want to overwrite cached results\u001b[39;00m\n\u001b[0;32m      3\u001b[0m CrossSubjectEvaluation(\n\u001b[0;32m      4\u001b[0m     paradigm\u001b[38;5;241m=\u001b[39mparadigm, datasets\u001b[38;5;241m=\u001b[39mdataset, overwrite\u001b[38;5;241m=\u001b[39moverwrite\n\u001b[0;32m      5\u001b[0m )\n\u001b[1;32m----> 6\u001b[0m results \u001b[38;5;241m=\u001b[39m evaluation\u001b[38;5;241m.\u001b[39mprocess(pipelines)\n",
            "File \u001b[1;32m~\\anaconda3\\Lib\\site-packages\\moabb\\evaluations\\base.py:188\u001b[0m, in \u001b[0;36mBaseEvaluation.process\u001b[1;34m(self, pipelines, param_grid, postprocess_pipeline)\u001b[0m\n\u001b[0;32m    179\u001b[0m     \u001b[38;5;66;03m# (we only keep the pipeline for the first frequency band, better ideas?)\u001b[39;00m\n\u001b[0;32m    181\u001b[0m     results \u001b[38;5;241m=\u001b[39m \u001b[38;5;28mself\u001b[39m\u001b[38;5;241m.\u001b[39mevaluate(\n\u001b[0;32m    182\u001b[0m         dataset,\n\u001b[0;32m    183\u001b[0m         pipelines,\n\u001b[1;32m   (...)\u001b[0m\n\u001b[0;32m    186\u001b[0m         postprocess_pipeline\u001b[38;5;241m=\u001b[39mpostprocess_pipeline,\n\u001b[0;32m    187\u001b[0m     )\n\u001b[1;32m--> 188\u001b[0m     \u001b[38;5;28;01mfor\u001b[39;00m res \u001b[38;5;129;01min\u001b[39;00m results:\n\u001b[0;32m    189\u001b[0m         \u001b[38;5;28mself\u001b[39m\u001b[38;5;241m.\u001b[39mpush_result(res, pipelines, process_pipeline)\n\u001b[0;32m    191\u001b[0m \u001b[38;5;28;01mreturn\u001b[39;00m \u001b[38;5;28mself\u001b[39m\u001b[38;5;241m.\u001b[39mresults\u001b[38;5;241m.\u001b[39mto_dataframe(\n\u001b[0;32m    192\u001b[0m     pipelines\u001b[38;5;241m=\u001b[39mpipelines, process_pipeline\u001b[38;5;241m=\u001b[39mprocess_pipeline\n\u001b[0;32m    193\u001b[0m )\n",
            "File \u001b[1;32m~\\anaconda3\\Lib\\site-packages\\moabb\\evaluations\\evaluations.py:729\u001b[0m, in \u001b[0;36mCrossSubjectEvaluation.evaluate\u001b[1;34m(self, dataset, pipelines, param_grid, process_pipeline, postprocess_pipeline)\u001b[0m\n\u001b[0;32m    727\u001b[0m \u001b[38;5;28;01mfor\u001b[39;00m session \u001b[38;5;129;01min\u001b[39;00m np\u001b[38;5;241m.\u001b[39munique(sessions[test]):\n\u001b[0;32m    728\u001b[0m     ix \u001b[38;5;241m=\u001b[39m sessions[test] \u001b[38;5;241m==\u001b[39m session\n\u001b[1;32m--> 729\u001b[0m     score \u001b[38;5;241m=\u001b[39m _score(model, X[test[ix]], y[test[ix]], scorer)\n\u001b[0;32m    731\u001b[0m     nchan \u001b[38;5;241m=\u001b[39m X\u001b[38;5;241m.\u001b[39minfo[\u001b[38;5;124m\"\u001b[39m\u001b[38;5;124mnchan\u001b[39m\u001b[38;5;124m\"\u001b[39m] \u001b[38;5;28;01mif\u001b[39;00m \u001b[38;5;28misinstance\u001b[39m(X, BaseEpochs) \u001b[38;5;28;01melse\u001b[39;00m X\u001b[38;5;241m.\u001b[39mshape[\u001b[38;5;241m1\u001b[39m]\n\u001b[0;32m    732\u001b[0m     res \u001b[38;5;241m=\u001b[39m {\n\u001b[0;32m    733\u001b[0m         \u001b[38;5;124m\"\u001b[39m\u001b[38;5;124mtime\u001b[39m\u001b[38;5;124m\"\u001b[39m: duration,\n\u001b[0;32m    734\u001b[0m         \u001b[38;5;124m\"\u001b[39m\u001b[38;5;124mdataset\u001b[39m\u001b[38;5;124m\"\u001b[39m: dataset,\n\u001b[1;32m   (...)\u001b[0m\n\u001b[0;32m    740\u001b[0m         \u001b[38;5;124m\"\u001b[39m\u001b[38;5;124mpipeline\u001b[39m\u001b[38;5;124m\"\u001b[39m: name,\n\u001b[0;32m    741\u001b[0m     }\n",
            "File \u001b[1;32m~\\anaconda3\\Lib\\site-packages\\sklearn\\model_selection\\_validation.py:767\u001b[0m, in \u001b[0;36m_score\u001b[1;34m(estimator, X_test, y_test, scorer, error_score)\u001b[0m\n\u001b[0;32m    765\u001b[0m         scores \u001b[38;5;241m=\u001b[39m scorer(estimator, X_test)\n\u001b[0;32m    766\u001b[0m     \u001b[38;5;28;01melse\u001b[39;00m:\n\u001b[1;32m--> 767\u001b[0m         scores \u001b[38;5;241m=\u001b[39m scorer(estimator, X_test, y_test)\n\u001b[0;32m    768\u001b[0m \u001b[38;5;28;01mexcept\u001b[39;00m \u001b[38;5;167;01mException\u001b[39;00m:\n\u001b[0;32m    769\u001b[0m     \u001b[38;5;28;01mif\u001b[39;00m \u001b[38;5;28misinstance\u001b[39m(scorer, _MultimetricScorer):\n\u001b[0;32m    770\u001b[0m         \u001b[38;5;66;03m# If `_MultimetricScorer` raises exception, the `error_score`\u001b[39;00m\n\u001b[0;32m    771\u001b[0m         \u001b[38;5;66;03m# parameter is equal to \"raise\".\u001b[39;00m\n",
            "File \u001b[1;32m~\\anaconda3\\Lib\\site-packages\\sklearn\\metrics\\_scorer.py:234\u001b[0m, in \u001b[0;36m_BaseScorer.__call__\u001b[1;34m(self, estimator, X, y_true, sample_weight)\u001b[0m\n\u001b[0;32m    211\u001b[0m \u001b[38;5;28;01mdef\u001b[39;00m \u001b[38;5;21m__call__\u001b[39m(\u001b[38;5;28mself\u001b[39m, estimator, X, y_true, sample_weight\u001b[38;5;241m=\u001b[39m\u001b[38;5;28;01mNone\u001b[39;00m):\n\u001b[0;32m    212\u001b[0m \u001b[38;5;250m    \u001b[39m\u001b[38;5;124;03m\"\"\"Evaluate predicted target values for X relative to y_true.\u001b[39;00m\n\u001b[0;32m    213\u001b[0m \n\u001b[0;32m    214\u001b[0m \u001b[38;5;124;03m    Parameters\u001b[39;00m\n\u001b[1;32m   (...)\u001b[0m\n\u001b[0;32m    232\u001b[0m \u001b[38;5;124;03m        Score function applied to prediction of estimator on X.\u001b[39;00m\n\u001b[0;32m    233\u001b[0m \u001b[38;5;124;03m    \"\"\"\u001b[39;00m\n\u001b[1;32m--> 234\u001b[0m     \u001b[38;5;28;01mreturn\u001b[39;00m \u001b[38;5;28mself\u001b[39m\u001b[38;5;241m.\u001b[39m_score(\n\u001b[0;32m    235\u001b[0m         partial(_cached_call, \u001b[38;5;28;01mNone\u001b[39;00m),\n\u001b[0;32m    236\u001b[0m         estimator,\n\u001b[0;32m    237\u001b[0m         X,\n\u001b[0;32m    238\u001b[0m         y_true,\n\u001b[0;32m    239\u001b[0m         sample_weight\u001b[38;5;241m=\u001b[39msample_weight,\n\u001b[0;32m    240\u001b[0m     )\n",
            "File \u001b[1;32m~\\anaconda3\\Lib\\site-packages\\sklearn\\metrics\\_scorer.py:390\u001b[0m, in \u001b[0;36m_ThresholdScorer._score\u001b[1;34m(self, method_caller, clf, X, y, sample_weight)\u001b[0m\n\u001b[0;32m    387\u001b[0m y_pred \u001b[38;5;241m=\u001b[39m method_caller(clf, \u001b[38;5;124m\"\u001b[39m\u001b[38;5;124mpredict_proba\u001b[39m\u001b[38;5;124m\"\u001b[39m, X)\n\u001b[0;32m    389\u001b[0m \u001b[38;5;28;01mif\u001b[39;00m y_type \u001b[38;5;241m==\u001b[39m \u001b[38;5;124m\"\u001b[39m\u001b[38;5;124mbinary\u001b[39m\u001b[38;5;124m\"\u001b[39m:\n\u001b[1;32m--> 390\u001b[0m     y_pred \u001b[38;5;241m=\u001b[39m \u001b[38;5;28mself\u001b[39m\u001b[38;5;241m.\u001b[39m_select_proba_binary(y_pred, clf\u001b[38;5;241m.\u001b[39mclasses_)\n\u001b[0;32m    391\u001b[0m \u001b[38;5;28;01melif\u001b[39;00m \u001b[38;5;28misinstance\u001b[39m(y_pred, \u001b[38;5;28mlist\u001b[39m):\n\u001b[0;32m    392\u001b[0m     y_pred \u001b[38;5;241m=\u001b[39m np\u001b[38;5;241m.\u001b[39mvstack([p[:, \u001b[38;5;241m-\u001b[39m\u001b[38;5;241m1\u001b[39m] \u001b[38;5;28;01mfor\u001b[39;00m p \u001b[38;5;129;01min\u001b[39;00m y_pred])\u001b[38;5;241m.\u001b[39mT\n",
            "File \u001b[1;32m~\\anaconda3\\Lib\\site-packages\\sklearn\\metrics\\_scorer.py:190\u001b[0m, in \u001b[0;36m_BaseScorer._select_proba_binary\u001b[1;34m(self, y_pred, classes)\u001b[0m\n\u001b[0;32m    188\u001b[0m     pos_label \u001b[38;5;241m=\u001b[39m \u001b[38;5;28mself\u001b[39m\u001b[38;5;241m.\u001b[39m_kwargs\u001b[38;5;241m.\u001b[39mget(\u001b[38;5;124m\"\u001b[39m\u001b[38;5;124mpos_label\u001b[39m\u001b[38;5;124m\"\u001b[39m, classes[\u001b[38;5;241m1\u001b[39m])\n\u001b[0;32m    189\u001b[0m     \u001b[38;5;28mself\u001b[39m\u001b[38;5;241m.\u001b[39m_check_pos_label(pos_label, classes)\n\u001b[1;32m--> 190\u001b[0m     col_idx \u001b[38;5;241m=\u001b[39m np\u001b[38;5;241m.\u001b[39mflatnonzero(classes \u001b[38;5;241m==\u001b[39m pos_label)[\u001b[38;5;241m0\u001b[39m]\n\u001b[0;32m    191\u001b[0m     \u001b[38;5;28;01mreturn\u001b[39;00m y_pred[:, col_idx]\n\u001b[0;32m    193\u001b[0m err_msg \u001b[38;5;241m=\u001b[39m (\n\u001b[0;32m    194\u001b[0m     \u001b[38;5;124mf\u001b[39m\u001b[38;5;124m\"\u001b[39m\u001b[38;5;124mGot predict_proba of shape \u001b[39m\u001b[38;5;132;01m{\u001b[39;00my_pred\u001b[38;5;241m.\u001b[39mshape\u001b[38;5;132;01m}\u001b[39;00m\u001b[38;5;124m, but need \u001b[39m\u001b[38;5;124m\"\u001b[39m\n\u001b[0;32m    195\u001b[0m     \u001b[38;5;124mf\u001b[39m\u001b[38;5;124m\"\u001b[39m\u001b[38;5;124mclassifier with two classes for \u001b[39m\u001b[38;5;132;01m{\u001b[39;00m\u001b[38;5;28mself\u001b[39m\u001b[38;5;241m.\u001b[39m_score_func\u001b[38;5;241m.\u001b[39m\u001b[38;5;18m__name__\u001b[39m\u001b[38;5;132;01m}\u001b[39;00m\u001b[38;5;124m \u001b[39m\u001b[38;5;124m\"\u001b[39m\n\u001b[0;32m    196\u001b[0m     \u001b[38;5;124m\"\u001b[39m\u001b[38;5;124mscoring\u001b[39m\u001b[38;5;124m\"\u001b[39m\n\u001b[0;32m    197\u001b[0m )\n",
            "\u001b[1;31mIndexError\u001b[0m: index 0 is out of bounds for axis 0 with size 0"
          ]
        }
      ]
    },
    {
      "cell_type": "code",
      "source": [
        "results"
      ],
      "metadata": {
        "id": "y3ZczA76apml"
      },
      "execution_count": null,
      "outputs": []
    }
  ]
}